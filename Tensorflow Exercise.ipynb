{
 "cells": [
  {
   "cell_type": "markdown",
   "metadata": {
    "id": "V0W3vlijxKLd"
   },
   "source": [
    "# Tensorflow Exercise: Keras Sequential vs. Functional APIs\n",
    "\n",
    "In this exercise, we will practice using the two APIs that Keras provides for building deep learning models: the Keras Sequential and Functional APIs.\n",
    "\n",
    "If you need to reference the syntax of either model, see the Keras documentation pages on the [Sequential](https://keras.io/getting-started/sequential-model-guide/) and [Functional](https://keras.io/getting-started/functional-api-guide/) APIs.\n",
    "\n",
    "## Part 1: Sequential Voting\n",
    "\n",
    "For our toy problem, we will use the following data:"
   ]
  },
  {
   "cell_type": "code",
   "execution_count": 1,
   "metadata": {},
   "outputs": [
    {
     "ename": "NameError",
     "evalue": "name 'np' is not defined",
     "output_type": "error",
     "traceback": [
      "\u001b[0;31m---------------------------------------------------------------------------\u001b[0m",
      "\u001b[0;31mNameError\u001b[0m                                 Traceback (most recent call last)",
      "Cell \u001b[0;32mIn[1], line 1\u001b[0m\n\u001b[0;32m----> 1\u001b[0m \u001b[43mnp\u001b[49m\u001b[38;5;241m.\u001b[39mrandom\u001b[38;5;241m.\u001b[39mseed(\u001b[38;5;241m42\u001b[39m)\n",
      "\u001b[0;31mNameError\u001b[0m: name 'np' is not defined"
     ]
    }
   ],
   "source": [
    "np.random.seed(42)"
   ]
  },
  {
   "cell_type": "code",
   "execution_count": null,
   "metadata": {
    "id": "vrtZ_lBexM3A"
   },
   "outputs": [],
   "source": [
    "import numpy as np\n",
    "X = np.random.randint(0, 2, size = (1000, 9))\n",
    "Y = np.where(np.mean(X, axis = 1) > 0.5, 1, 0)"
   ]
  },
  {
   "cell_type": "markdown",
   "metadata": {
    "id": "5pSg9bosxOnF"
   },
   "source": [
    "**Questions:**\n",
    "1. What does it mean that the elements of Y represent a \"majority vote\" on X?"
   ]
  },
  {
   "cell_type": "markdown",
   "metadata": {
    "ExecuteTime": {
     "end_time": "2022-01-09T06:38:43.470186Z",
     "start_time": "2022-01-09T06:38:43.466098Z"
    },
    "id": "j5EDU8-0rjPs"
   },
   "source": [
    "Y[i] is 1 if the mean of X[i] is > 1 and 0 otherwise, it is the same as saying lets Y[i] be the majority vote of X[i], because if the majority is 0 then the mean is gonna be below 0.5 and if the majority is 1 the mean will be over 0.5."
   ]
  },
  {
   "cell_type": "markdown",
   "metadata": {
    "id": "EB9h_kxUrjPt"
   },
   "source": [
    "2. We want to learn how to predict elements of Y from rows of X. Build a Keras Sequential model *model* with one Dense layer (with activation = 'sigmoid') that can be fit on X and Y. Check that the input and output shapes of the model (*model.input_shape* and *model.output_shape*) match the shapes of X and Y."
   ]
  },
  {
   "cell_type": "code",
   "execution_count": null,
   "metadata": {
    "id": "7oxrhxJ5xN4A"
   },
   "outputs": [],
   "source": [
    "import numpy as np\n",
    "from tensorflow.keras.models import Sequential\n",
    "from tensorflow.keras.layers import Dense\n",
    "\n",
    "\n",
    "model = Sequential()\n",
    "model.add(Dense(units=1, activation='sigmoid', input_shape=(9,)))\n",
    "\n",
    "print(\"Input shape:\", model.input_shape)\n",
    "print(\"Output shape:\", model.output_shape)\n"
   ]
  },
  {
   "cell_type": "markdown",
   "metadata": {
    "id": "pI7r1HI0rjPv"
   },
   "source": [
    "3. Compile the model with 'mean_squared_error' loss, 'rmsprop' optimizer, and *metrics = 'accuracy'*, and fit it to X and Y with *validation_split = 0.2*. You may choose any values for *epochs* and *batch_size* that result in the model learning well."
   ]
  },
  {
   "cell_type": "code",
   "execution_count": null,
   "metadata": {
    "ExecuteTime": {
     "end_time": "2022-01-09T06:38:39.128014Z",
     "start_time": "2022-01-09T06:38:39.115094Z"
    },
    "id": "eUUHrE_0rjPw"
   },
   "outputs": [],
   "source": [
    "model.compile(optimizer='rmsprop', loss='mean_squared_error', metrics=['accuracy'])\n",
    "\n",
    "model.fit(X, Y, epochs=10, batch_size=32, validation_split=0.2)"
   ]
  },
  {
   "cell_type": "markdown",
   "metadata": {
    "id": "M6PfUYpzrjPx"
   },
   "source": [
    "4. Once the model has been fit, examine the values of *model.get_weights()*. How do you interpret these values?"
   ]
  },
  {
   "cell_type": "code",
   "execution_count": null,
   "metadata": {
    "ExecuteTime": {
     "end_time": "2022-01-09T06:38:40.118363Z",
     "start_time": "2022-01-09T06:38:40.106931Z"
    },
    "id": "7AbYItJlrjPy"
   },
   "outputs": [],
   "source": [
    "model.get_weights()"
   ]
  },
  {
   "cell_type": "markdown",
   "metadata": {},
   "source": [
    "The first array represents the weights of the Dense layer.\n",
    "The second array represents the bias of the Dense layer."
   ]
  },
  {
   "cell_type": "markdown",
   "metadata": {
    "id": "WTVpj2kSxm4s"
   },
   "source": [
    "## Part 2: Making it Functional\n",
    "\n",
    "Now we will practice using Keras's Functional API by rewriting the above model.\n",
    "\n",
    "**Questions:**\n",
    "\n",
    "5. Create a model *model2* identical to the above model, but using the Keras Functional API. The model should include an *Input(shape=...)* layer from keras.layers and should use *Model(inputs = ..., outputs = ...)* from keras.models. Fit this model, verify that it produces the same results, and compare the outputs of *.summary()* and *.get_weights()* on *model* and *model2*."
   ]
  },
  {
   "cell_type": "code",
   "execution_count": null,
   "metadata": {
    "id": "x55zK8thxg7x"
   },
   "outputs": [],
   "source": [
    "from tensorflow.keras.layers import Input\n",
    "from tensorflow.keras.models import Model"
   ]
  },
  {
   "cell_type": "code",
   "execution_count": null,
   "metadata": {
    "ExecuteTime": {
     "end_time": "2022-01-09T06:39:00.407239Z",
     "start_time": "2022-01-09T06:39:00.394344Z"
    },
    "id": "-kNx4jGKrjPz"
   },
   "outputs": [],
   "source": [
    "\n",
    "input_layer = Input(shape=(9,))\n",
    "dense_layer = Dense(units=1, activation='sigmoid')(input_layer)\n",
    "model2 = Model(inputs=input_layer, outputs=dense_layer)\n",
    "\n",
    "model2.compile(optimizer='rmsprop', loss='mean_squared_error', metrics=['accuracy'])\n",
    "model2.fit(X, Y, epochs=10, batch_size=32, validation_split=0.2)\n",
    "\n",
    "print(\"Summary of model:\")\n",
    "model.summary()\n",
    "\n",
    "print(\"\\nSummary of model2:\")\n",
    "model2.summary()\n",
    "\n",
    "print(\"\\nWeights of model:\")\n",
    "print(model.get_weights())\n",
    "\n",
    "print(\"\\nWeights of model2:\")\n",
    "print(model2.get_weights())"
   ]
  },
  {
   "cell_type": "markdown",
   "metadata": {
    "id": "AtI-nD45xx1r"
   },
   "source": [
    "## Part 3: Identifying identical distributions\n",
    "\n",
    "The previous problem had a nice solution using the Keras Sequential API, but sometimes we will need the Functional API to build more complicated networks. Let's try to learn a slightly more complicated pattern that will be solved more naturally with the Functional API.  In this example, we'll see use of multiple inputs and a shared layer.\n",
    "\n",
    "Let's generate another dataset:"
   ]
  },
  {
   "cell_type": "code",
   "execution_count": null,
   "metadata": {
    "id": "C9vq8ocrxtcg"
   },
   "outputs": [],
   "source": [
    "M1 = np.array([np.random.choice([-1, 1]) for i in range(10000)])\n",
    "M2 = np.array([np.random.choice([-1, 1]) for i in range(10000)])\n",
    "S1 = np.stack([\n",
    "    np.random.normal(m, 1, size = 5)\n",
    "    for m in M1\n",
    "])\n",
    "S2 = np.stack([\n",
    "    np.random.normal(m, 1, size = 5)\n",
    "    for m in M2\n",
    "])\n",
    "labels = np.where(M1 == M2, 1, 0)"
   ]
  },
  {
   "cell_type": "markdown",
   "metadata": {
    "id": "iC91vzWqx1E8"
   },
   "source": [
    "Every row of S1 and S2 is a sample of 5 elements from a distribution with mean either -1 or 1, and the labels in *label* represent whether the given samples are drawn from the same distribution (0: different distributions, 1: same distribution).\n",
    "\n",
    "We want to train a model to learn how to predict if the two given samples of 5 data points are drawn from the same distribution, i.e. whether they have the same mean.\n",
    "\n",
    "**Questions:**\n",
    "\n",
    "6. Create a Functional model using the following architecture:\n",
    "  * Two Input layers *inp1* and *inp2*, each taking input of dimension 5\n",
    "  * A Dense layer *shared_dense* with output dimension 1 and tanh activation function, shared between the input layers. (Define the Dense layer as *shared_dense = Dense(...)* and then set *x1 = shared_dense(inp1)* and *x2 = shared_dense(inp2)*). This means that the same weights will be applied to both inputs.\n",
    "  * Concatenate the outputs of the dense layers together with *merged = concatenate([x1, x2])*\n",
    "  * A Dense layer with output dimension 2 and tanh activation function, applied to *merged*\n",
    "  * A Dense layer with output dimension 1 and sigmoid activation function, applied to the output of the previous dense layer\n",
    "  * Finally, define the model as *func_model = Model(inputs = ..., outputs = ...)* for the proper inputs and outputs parameters."
   ]
  },
  {
   "cell_type": "code",
   "execution_count": null,
   "metadata": {
    "id": "tCuIjXPdxzrX"
   },
   "outputs": [],
   "source": [
    "from tensorflow.keras.layers import concatenate"
   ]
  },
  {
   "cell_type": "code",
   "execution_count": null,
   "metadata": {
    "ExecuteTime": {
     "end_time": "2022-01-09T06:55:51.136091Z",
     "start_time": "2022-01-09T06:55:51.121044Z"
    },
    "id": "8Q98CYlFrjP1"
   },
   "outputs": [],
   "source": [
    "inp1 = Input(shape=(5,))\n",
    "inp2 = Input(shape=(5,))\n",
    "\n",
    "shared_dense = Dense(units=1, activation='tanh')\n",
    "\n",
    "x1 = shared_dense(inp1)\n",
    "x2 = shared_dense(inp2)\n",
    "\n",
    "merged = concatenate([x1, x2])\n",
    "dense_2 = Dense(units=2, activation='tanh')(merged)\n",
    "output = Dense(units=1, activation='sigmoid')(dense_2)\n",
    "\n",
    "func_model = Model(inputs=[inp1, inp2], outputs=output)"
   ]
  },
  {
   "cell_type": "markdown",
   "metadata": {
    "id": "LUVtnSCXrjP2"
   },
   "source": [
    "7. Examine the input and output shapes of *func_model* and verify that they match *S1*, *S2*, and *labels*."
   ]
  },
  {
   "cell_type": "code",
   "execution_count": null,
   "metadata": {
    "ExecuteTime": {
     "end_time": "2022-01-09T06:55:51.446895Z",
     "start_time": "2022-01-09T06:55:51.439857Z"
    },
    "id": "ObYVpe4VrjP2"
   },
   "outputs": [],
   "source": [
    "func_model.summary()\n",
    "\n",
    "print(\"Shape of S1:\", S1.shape)\n",
    "print(\"Shape of S2:\", S2.shape)\n",
    "\n",
    "print(\"Shape of labels:\", labels.shape)\n"
   ]
  },
  {
   "cell_type": "markdown",
   "metadata": {
    "id": "pZtY7A_QrjP2"
   },
   "source": [
    "8. Compile *func_model* with optimiser *sgd*, *binary_crossentropy* loss, and *metrics = 'accuracy'* and fit to *[S1, S2]* and *labels* with *validation_split = 0.2*. Hint: you can use *epochs = 10* and *batch_size = 4* if you are unsure of good values for these hyperparameters. What is the final accuracy that this model achieves? Note: You may have to re-run your code multiple times for the model to learn well, due to randomness. You should get accuracy above 0.95."
   ]
  },
  {
   "cell_type": "code",
   "execution_count": null,
   "metadata": {
    "ExecuteTime": {
     "end_time": "2022-01-09T06:55:51.771151Z",
     "start_time": "2022-01-09T06:55:51.760748Z"
    },
    "id": "83fT-hIKrjP2"
   },
   "outputs": [],
   "source": [
    "from tensorflow.keras.optimizers import SGD\n",
    "\n",
    "func_model.compile(optimizer=SGD(), loss='binary_crossentropy', metrics=['accuracy'])\n",
    "history = func_model.fit([S1, S2], labels, epochs=10, batch_size=4, validation_split=0.2)\n",
    "final_accuracy = history.history['val_accuracy'][-1]\n",
    "print(\"Final Accuracy:\", final_accuracy)"
   ]
  },
  {
   "cell_type": "markdown",
   "metadata": {
    "id": "mcQVC7sQrjP3"
   },
   "source": [
    "9. Compare the predicted probabilities based of 2 inputs coming from the same distribution to the actual labels.  Do these make sense?"
   ]
  },
  {
   "cell_type": "markdown",
   "metadata": {
    "id": "5rJoVlzFrjP3"
   },
   "source": [
    "**Bonus:** Can you interpret the weights in *func_model.get_weights()*?"
   ]
  },
  {
   "cell_type": "code",
   "execution_count": null,
   "metadata": {
    "ExecuteTime": {
     "end_time": "2022-01-09T06:55:52.350245Z",
     "start_time": "2022-01-09T06:55:52.336007Z"
    },
    "id": "z7XwWe-HrjP3"
   },
   "outputs": [],
   "source": [
    "predicted_probabilities = func_model.predict([S1, S2])\n",
    "\n",
    "for i in range(len(labels)):\n",
    "    if labels[i] == 1:\n",
    "        print(\"Predicted Probability:\", predicted_probabilities[i][0], \"Actual Label:\", labels[i])\n"
   ]
  },
  {
   "cell_type": "markdown",
   "metadata": {},
   "source": [
    "The predicted probabilities make sense. Since the actual labels are all 1, and the predicted probabilities are all close to or above 0.95, it suggests that the model is confident that the inputs are from the same distribution."
   ]
  }
 ],
 "metadata": {
  "colab": {
   "collapsed_sections": [],
   "name": "Tensorflow Exercise.ipynb",
   "provenance": []
  },
  "hide_input": false,
  "kernelspec": {
   "display_name": "Python 3 (ipykernel)",
   "language": "python",
   "name": "python3"
  },
  "language_info": {
   "codemirror_mode": {
    "name": "ipython",
    "version": 3
   },
   "file_extension": ".py",
   "mimetype": "text/x-python",
   "name": "python",
   "nbconvert_exporter": "python",
   "pygments_lexer": "ipython3",
   "version": "3.12.1"
  },
  "toc": {
   "base_numbering": 1,
   "nav_menu": {},
   "number_sections": true,
   "sideBar": true,
   "skip_h1_title": false,
   "title_cell": "Table of Contents",
   "title_sidebar": "Contents",
   "toc_cell": false,
   "toc_position": {},
   "toc_section_display": true,
   "toc_window_display": true
  },
  "varInspector": {
   "cols": {
    "lenName": 16,
    "lenType": 16,
    "lenVar": 40
   },
   "kernels_config": {
    "python": {
     "delete_cmd_postfix": "",
     "delete_cmd_prefix": "del ",
     "library": "var_list.py",
     "varRefreshCmd": "print(var_dic_list())"
    },
    "r": {
     "delete_cmd_postfix": ") ",
     "delete_cmd_prefix": "rm(",
     "library": "var_list.r",
     "varRefreshCmd": "cat(var_dic_list()) "
    }
   },
   "types_to_exclude": [
    "module",
    "function",
    "builtin_function_or_method",
    "instance",
    "_Feature"
   ],
   "window_display": false
  }
 },
 "nbformat": 4,
 "nbformat_minor": 4
}
