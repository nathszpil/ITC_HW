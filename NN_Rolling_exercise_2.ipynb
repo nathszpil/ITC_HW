{
 "cells": [
  {
   "cell_type": "code",
   "execution_count": 1,
   "metadata": {
    "id": "WRS-LntmQwlc"
   },
   "outputs": [],
   "source": [
    "import numpy as np\n",
    "import matplotlib.pyplot as plt\n",
    "plt.rcParams['figure.figsize'] = 15, 10"
   ]
  },
  {
   "cell_type": "markdown",
   "metadata": {
    "id": "IGFxwslwQwlh"
   },
   "source": [
    "# Neural Network rolling exercise Part II"
   ]
  },
  {
   "cell_type": "markdown",
   "metadata": {
    "id": "lKN28zocQwlh"
   },
   "source": [
    "In these exercises you will build step by step a complete neural network from scratch using only NumPy (!)<br>\n",
    "In this part we will implement the activation functions we saw in class to create a complete forward pass of a non-linear neural network."
   ]
  },
  {
   "cell_type": "markdown",
   "metadata": {
    "id": "TJ45sRMqQwli"
   },
   "source": [
    "# Activation function implementation"
   ]
  },
  {
   "cell_type": "markdown",
   "metadata": {
    "id": "wer21IPJQwli"
   },
   "source": [
    "**Question 1:**\n",
    "Implement the following __[activation functions](https://en.wikipedia.org/wiki/Activation_function)__ as we saw in class:\n",
    "* Step function\n",
    "* ReLU\n",
    "* Sigmoid\n",
    "* Softmax \n",
    "\n",
    "\n",
    " **Hint:** Make sure that the tests given below pass."
   ]
  },
  {
   "cell_type": "code",
   "execution_count": 2,
   "metadata": {
    "id": "vDxILf0RQwli"
   },
   "outputs": [],
   "source": [
    "class step_function:\n",
    "    @staticmethod\n",
    "    def apply(x):\n",
    "        return np.where(x > 0, 1, 0)\n",
    "\n",
    "class sigmoid:\n",
    "    @staticmethod\n",
    "    def apply(x):\n",
    "        return 1 / (1 + np.exp(-x))\n",
    "\n",
    "class ReLU:\n",
    "    @staticmethod\n",
    "    def apply(x):\n",
    "        return np.maximum(0, x)\n",
    "\n",
    "class softmax:\n",
    "    @staticmethod\n",
    "    def apply(x):\n",
    "        exp_vals = np.exp(x - np.max(x)) \n",
    "        return exp_vals / np.sum(exp_vals)\n"
   ]
  },
  {
   "cell_type": "code",
   "execution_count": 3,
   "metadata": {
    "id": "NcwazLgy8eHW"
   },
   "outputs": [],
   "source": [
    "### TESTS FOR ACTIVATION FUNCTIONS ###\n",
    "x = np.array([-0.75626106,  0.03769935,  1.30103112,  1.00382471, -0.35854299])\n",
    "assert (step_function.apply(x) == np.array([0., 1., 1., 1., 0.])).all()\n",
    "assert (np.isclose(sigmoid.apply(x), np.array([0.31945858, 0.50942372, 0.78600847, 0.7318099 , 0.41131231]))).all()\n",
    "assert (np.isclose(ReLU.apply(x), np.array([0., 0.03769935, 1.30103112, 1.00382471, 0.]))).all()\n",
    "assert (np.isclose(softmax.apply(x), np.array([0.05453082, 0.12062981, 0.4266902 , 0.31698416, 0.081165]))).all()"
   ]
  },
  {
   "cell_type": "markdown",
   "metadata": {
    "id": "P6_bl1dRQwlj"
   },
   "source": [
    "**Question 2:**\n",
    "What is the shape of the output of the activation function compared to the shape of the input? Is it different? <br>\n",
    "Check that your implementation is correct:"
   ]
  },
  {
   "cell_type": "code",
   "execution_count": 4,
   "metadata": {
    "id": "yeJsyoKcQwlj"
   },
   "outputs": [
    {
     "name": "stdout",
     "output_type": "stream",
     "text": [
      "Input Shape: (10,)\n",
      "Output Shape: (10,)\n",
      "\n",
      "Input Shape: (10,)\n",
      "Output Shape: (10,)\n",
      "\n",
      "Input Shape: (10,)\n",
      "Output Shape: (10,)\n",
      "\n",
      "Input Shape: (10,)\n",
      "Output Shape: (10,)\n",
      "\n"
     ]
    }
   ],
   "source": [
    "activation_functions = [step_function, sigmoid, ReLU, softmax]\n",
    "\n",
    "for activation_func in activation_functions:\n",
    "    x = np.random.normal(0, 1, size=10)\n",
    "    print(\"Input Shape:\", x.shape)\n",
    "    output = activation_func.apply(x)\n",
    "    print(\"Output Shape:\", output.shape)\n",
    "    print()"
   ]
  },
  {
   "cell_type": "markdown",
   "metadata": {},
   "source": [
    "We can see the shape is the same for every input and output.\n",
    "Activation functions don't alter the shape of their input, they operate element-wise, maintaining the same shape for both input and output."
   ]
  },
  {
   "cell_type": "markdown",
   "metadata": {
    "id": "K5yk0gEWQwlk"
   },
   "source": [
    "# Layer and Network classes implementation"
   ]
  },
  {
   "cell_type": "markdown",
   "metadata": {
    "id": "Z9qvffs9Qwlk"
   },
   "source": [
    "**Question 3:** Copy-paste your `Layer` and `Network` classes from part I. Refactor the `Layer` class and add non-linearity: \n",
    "- Add an activation function as a property to the `Layer` class. (Notice that the `__init__` func signature changed)\n",
    "- Add an activation function call in the `Layer.apply()` function.\n",
    "\n",
    "\n",
    "\n",
    " **Hint:** Make sure that the tests given below pass."
   ]
  },
  {
   "cell_type": "code",
   "execution_count": 5,
   "metadata": {
    "id": "J-ZiCozZQwll"
   },
   "outputs": [],
   "source": [
    "class Layer:\n",
    "    def __init__(self, weights, bias, activation_func=None):\n",
    "        # Initialize the layer with the given weights matrix, bias vector, and activation function\n",
    "        self.weights = weights\n",
    "        self.bias = bias\n",
    "        self.activation = activation_func\n",
    "\n",
    "    def apply(self, x_in):\n",
    "        # Calculate the layer output on the given x_in using layer weights and bias,\n",
    "        # then apply the activation function if it's specified\n",
    "        output = np.dot(self.weights, x_in) + self.bias\n",
    "        if self.activation:\n",
    "            output = self.activation.apply(output)\n",
    "        return output\n",
    "\n",
    "        \n",
    "class Network:\n",
    "    def __init__(self, layers=None):\n",
    "        # Initialize the network with the given layers\n",
    "        if layers is None:\n",
    "            self.layers = []\n",
    "        else:\n",
    "            self.layers = layers\n",
    "\n",
    "    def add_layer(self, new_layer):\n",
    "        # Add a layer to the network\n",
    "        self.layers.append(new_layer)\n",
    "\n",
    "    def forward(self, x):\n",
    "        # Do a forward pass of the network on the given input\n",
    "        # Return the output of the network\n",
    "        output = x\n",
    "        for layer in self.layers:\n",
    "            output = layer.apply(output)\n",
    "        return output"
   ]
  },
  {
   "cell_type": "code",
   "execution_count": 6,
   "metadata": {
    "id": "ZjFw4hjx-qHn"
   },
   "outputs": [],
   "source": [
    "### TESTS FOR NETWORK CLASS WITH NON-LINEARITY ###\n",
    "L1 = Layer(np.array([[1, 0], [0, 1]]), bias=np.array([1, 2]), activation_func=ReLU)\n",
    "L2 = Layer(np.array([[-1, 3], [2, 2], [1, 4]]), bias=np.array([0, 0, -5]), activation_func=sigmoid)\n",
    "N = Network(layers=[L1, L2])\n",
    "assert np.isclose(N.forward(np.array([1., 1.5])), np.array([0.99979657, 0.9999833 , 0.9999833 ])).all()\n",
    "L3 = Layer(np.array([[2, 2, -2]]), bias=np.array([-1]), activation_func=step_function)\n",
    "N.add_layer(L3)\n",
    "assert (N.forward(np.array([1., 1.5])) == np.array([1.])).all()"
   ]
  },
  {
   "cell_type": "markdown",
   "metadata": {
    "id": "J5-A9qY7Qwll"
   },
   "source": [
    "# XOR network"
   ]
  },
  {
   "cell_type": "markdown",
   "metadata": {
    "id": "CIl9061lQwll"
   },
   "source": [
    "Now we will try to implement a __[XOR](https://en.wikipedia.org/wiki/Exclusive_or)__ operator again, this time with  our non-linear neural net implementation:\n",
    "\n",
    "**Questions:**\n",
    "4. Read section 6.1 in __[The Deep Learning Book](https://www.deeplearningbook.org/contents/mlp.html)__ (specifically equations 6.3 to 6.6) \n",
    "5. Initialize a network with two layers with the given weights and biases as specified in the link.\n",
    "6. Use the given input and output of the XOR operator (`xs` and `ys`) and check your network's performance.\n",
    "7. What is the shape of each input? what is the shape of each output? make sure your network receives and outputs numpy arrays with the correct dimensions."
   ]
  },
  {
   "cell_type": "code",
   "execution_count": 7,
   "metadata": {
    "id": "Gycx-ZfyQwlm"
   },
   "outputs": [],
   "source": [
    "xs = [\n",
    "  np.array([0,0]),\n",
    "  np.array([0,1]),\n",
    "  np.array([1,0]),\n",
    "  np.array([1,1])\n",
    "]\n",
    "\n",
    "ys = [\n",
    "  np.array([0]),\n",
    "  np.array([1]),\n",
    "  np.array([1]),\n",
    "  np.array([0])\n",
    "]"
   ]
  },
  {
   "cell_type": "code",
   "execution_count": 8,
   "metadata": {
    "id": "pJk0o4gsQwlm"
   },
   "outputs": [
    {
     "name": "stdout",
     "output_type": "stream",
     "text": [
      "input: [0 0]; expected result: [0]; predicted result: [4.54391049e-05]\n",
      "input: [0 1]; expected result: [1]; predicted result: [0.99995452]\n",
      "input: [1 0]; expected result: [1]; predicted result: [0.99995452]\n",
      "input: [1 1]; expected result: [0]; predicted result: [4.54391049e-05]\n"
     ]
    }
   ],
   "source": [
    "# Define the weights and biases for the XOR network\n",
    "W1 = np.array([[20, 20], [-20, -20]])\n",
    "b1 = np.array([-10, 30])\n",
    "\n",
    "W2 = np.array([20, 20])\n",
    "b2 = np.array([-30])\n",
    "\n",
    "# Define the layers\n",
    "L1 = Layer(W1, b1, activation_func=sigmoid)\n",
    "L2 = Layer(W2, b2, activation_func=sigmoid)\n",
    "\n",
    "# Initialize the network\n",
    "net = Network(layers=[L1, L2])\n",
    "\n",
    "for x, y in zip(xs, ys):\n",
    "    y_pred = net.forward(x)\n",
    "    print(f'input: {x}; expected result: {y}; predicted result: {y_pred}')\n"
   ]
  },
  {
   "cell_type": "code",
   "execution_count": 9,
   "metadata": {
    "id": "S87T5HBOQwlm"
   },
   "outputs": [
    {
     "name": "stdout",
     "output_type": "stream",
     "text": [
      "input: [0 0]; expected result: [0]; predicted result: [4.54391049e-05]\n",
      "input: [0 1]; expected result: [1]; predicted result: [0.99995452]\n",
      "input: [1 0]; expected result: [1]; predicted result: [0.99995452]\n",
      "input: [1 1]; expected result: [0]; predicted result: [4.54391049e-05]\n"
     ]
    }
   ],
   "source": [
    "# here we check our network performance\n",
    "# we go over all of the examples in our dataset and compare the network predicted y to the true y\n",
    "for x, y in zip(xs, ys):\n",
    "    y_pred = net.forward(x)\n",
    "    print(f'input: {x}; expected result: {y}; predicted result: {y_pred}')"
   ]
  },
  {
   "cell_type": "markdown",
   "metadata": {
    "id": "RuApGRM7Qwlm"
   },
   "source": [
    "#### Question 8: Can we implement XOR using this network? What changed?"
   ]
  },
  {
   "cell_type": "markdown",
   "metadata": {
    "id": "Zx2lzquGQwln"
   },
   "source": [
    "Yes, we can implement XOR using this network. What changed from previous approaches is the addition of an activation function. Previously, we not using an activation function in the hidden layer, which made it impossible for the network to learn the non-linear XOR function."
   ]
  },
  {
   "cell_type": "markdown",
   "metadata": {
    "id": "gchMftCcQwln"
   },
   "source": [
    "# MNIST"
   ]
  },
  {
   "cell_type": "markdown",
   "metadata": {
    "id": "OoREis4GQwln"
   },
   "source": [
    "Now we will build a network using pretrained weights to classify hand written digits from the __[MNIST dataset](https://en.wikipedia.org/wiki/MNIST_database)__:\n",
    "\n",
    "**Questions:**\n"
   ]
  },
  {
   "cell_type": "markdown",
   "metadata": {
    "id": "qMftfaPmAIuD"
   },
   "source": [
    "9. Examine the data in `mnist__weights.npz` using the code given below as a starting point. What does each key represent?\n"
   ]
  },
  {
   "cell_type": "code",
   "execution_count": 10,
   "metadata": {
    "id": "mwxfhwwEQwln"
   },
   "outputs": [
    {
     "name": "stdout",
     "output_type": "stream",
     "text": [
      "Keys: l1_weights l2_weights l3_weights l1_bias l2_bias l3_bias x y categorical_y\n"
     ]
    }
   ],
   "source": [
    "npzfile = np.load('mnist__weights.npz')\n",
    "# display the keys for saved data:\n",
    "print('Keys:', *npzfile.keys())"
   ]
  },
  {
   "cell_type": "markdown",
   "metadata": {},
   "source": [
    "    l1_weights: Weights for the first layer of the neural network.\n",
    "    l2_weights: Weights for the second layer of the neural network.\n",
    "    l3_weights: Weights for the third layer of the neural network.\n",
    "    l1_bias: Biases for the first layer of the neural network.\n",
    "    l2_bias: Biases for the second layer of the neural network.\n",
    "    l3_bias: Biases for the third layer of the neural network.\n",
    "    x: Input images from the MNIST dataset.\n",
    "    y: Labels corresponding to the input images \n",
    "    categorical_y: Labels encoded in a categorical format (one-hot encoded labels)."
   ]
  },
  {
   "cell_type": "code",
   "execution_count": 11,
   "metadata": {
    "id": "5BhDY9a9A_1m"
   },
   "outputs": [
    {
     "name": "stdout",
     "output_type": "stream",
     "text": [
      "l1_weights shape: (128, 784)\n",
      "l2_weights shape: (64, 128)\n",
      "l3_weights shape: (10, 64)\n",
      "l1_bias shape: (128,)\n",
      "l2_bias shape: (64,)\n",
      "l3_bias shape: (10,)\n",
      "x shape: (1000, 784)\n",
      "y shape: (1000,)\n",
      "categorical_y shape: (1000, 10)\n"
     ]
    }
   ],
   "source": [
    "l1_weights = npzfile['l1_weights']\n",
    "l2_weights = npzfile['l2_weights']\n",
    "l3_weights = npzfile['l3_weights']\n",
    "l1_bias = npzfile['l1_bias']\n",
    "l2_bias = npzfile['l2_bias']\n",
    "l3_bias = npzfile['l3_bias']\n",
    "x = npzfile['x']\n",
    "y = npzfile['y']\n",
    "categorical_y = npzfile['categorical_y']\n",
    "\n",
    "# Print the shape of each array\n",
    "print(\"l1_weights shape:\", l1_weights.shape)\n",
    "print(\"l2_weights shape:\", l2_weights.shape)\n",
    "print(\"l3_weights shape:\", l3_weights.shape)\n",
    "print(\"l1_bias shape:\", l1_bias.shape)\n",
    "print(\"l2_bias shape:\", l2_bias.shape)\n",
    "print(\"l3_bias shape:\", l3_bias.shape)\n",
    "print(\"x shape:\", x.shape)\n",
    "print(\"y shape:\", y.shape)\n",
    "print(\"categorical_y shape:\", categorical_y.shape)\n"
   ]
  },
  {
   "cell_type": "markdown",
   "metadata": {
    "id": "WuRuysm8AQyR"
   },
   "source": [
    "10. Build a network with the following architecture:\n",
    " - Input layer: size = 784, activation - sigmoid\n",
    " - Hidden layer 1: size = 128, activation - sigmoid\n",
    " - Hidden layer 2: size = 64, activation - softmax\n",
    " - Output layer: size = 10\n",
    "\n",
    "Initialize the network weights and biases using the NumPy arrays in `mnist__weights.npz`"
   ]
  },
  {
   "cell_type": "code",
   "execution_count": 12,
   "metadata": {
    "id": "9Fwc3O_VQwln"
   },
   "outputs": [],
   "source": [
    "# initialize the layers of the MNIST network using the arrays in mnist__weights.npz file\n",
    "# your code goes here\n",
    "input = Layer(weights = npzfile['l1_weights'], bias = npzfile['l1_bias'],activation_func = sigmoid)\n",
    "h1 = Layer(weights = npzfile['l2_weights'], bias = npzfile['l2_bias'], activation_func = sigmoid)\n",
    "h2 = Layer(weights = npzfile['l3_weights'], bias = npzfile['l3_bias'], activation_func = softmax)\n",
    "net = Network(layers = [input,h1,h2])"
   ]
  },
  {
   "cell_type": "markdown",
   "metadata": {
    "id": "NpGfdiLuQwlo"
   },
   "source": [
    "11. Use the following code to visualize the data and the predicted network output:"
   ]
  },
  {
   "cell_type": "code",
   "execution_count": 13,
   "metadata": {
    "id": "wLwU6f92Qwlo",
    "scrolled": true
   },
   "outputs": [
    {
     "name": "stdout",
     "output_type": "stream",
     "text": [
      "title of each image is the neural network predicted value:\n"
     ]
    },
    {
     "data": {
      "image/png": "[encoded data removed]",
      "text/plain": [
       "<Figure size 1500x1000 with 5 Axes>"
      ]
     },
     "metadata": {},
     "output_type": "display_data"
    }
   ],
   "source": [
    "\n",
    "print('title of each image is the neural network predicted value:')\n",
    "n_images = 5\n",
    "idx = np.random.choice(np.arange(x.shape[0]), size=n_images, replace=False)\n",
    "\n",
    "for i in range(n_images):\n",
    "    plt.subplot(1, n_images, i+1)\n",
    "    \n",
    "    cur_idx = idx[i]\n",
    "    cur_x = x[cur_idx]\n",
    "    \n",
    "    img = cur_x.reshape(28, 28)\n",
    "    plt.imshow(img)\n",
    "    \n",
    "    res = net.forward(cur_x)\n",
    "    label = res.argmax()\n",
    "    plt.title(label, fontsize=20)\n",
    "    plt.xticks(())\n",
    "    plt.yticks(())\n",
    "    \n",
    "plt.show()"
   ]
  },
  {
   "cell_type": "markdown",
   "metadata": {
    "id": "WQ4z0f7-Qwlo"
   },
   "source": [
    "12. Calculate the accuracy of the network: <br>\n",
    "Iterate over the entire dataset, perform a forward pass for each example and compare the predicted label to the true label."
   ]
  },
  {
   "cell_type": "code",
   "execution_count": 14,
   "metadata": {
    "id": "u-WkTMmaQwlp"
   },
   "outputs": [
    {
     "name": "stdout",
     "output_type": "stream",
     "text": [
      "accuracy :  0.854\n"
     ]
    }
   ],
   "source": [
    "# your code goes here\n",
    "correct_count = 0\n",
    "for index,row in enumerate(x):\n",
    "  pred = net.forward(row).argmax()\n",
    "  if pred == y[index]:\n",
    "    correct_count +=1\n",
    "accuracy = correct_count/x.shape[0]\n",
    "print('accuracy : ', accuracy)"
   ]
  },
  {
   "cell_type": "markdown",
   "metadata": {
    "id": "XUOd2vvLQwlp"
   },
   "source": [
    "13. Change the activation functions of the layers and recompute the network accuracy. Did it change? is it better or worse? Is it what we expected?"
   ]
  },
  {
   "cell_type": "code",
   "execution_count": 15,
   "metadata": {},
   "outputs": [],
   "source": [
    "# initialize the layers of the MNIST network using the arrays in mnist__weights.npz file\n",
    "# your code goes here\n",
    "input_layer = Layer(weights = l1_weights, bias = l1_bias, activation_func=softmax)\n",
    "hidden_layer1 = Layer(weights = l2_weights, bias = l2_bias, activation_func=softmax)\n",
    "hidden_layer2 = Layer(weights = l3_weights, bias = l3_bias, activation_func=sigmoid)\n",
    "\n",
    "# Define the network architecture\n",
    "network = Network(layers=[input_layer, hidden_layer1, hidden_layer2])\n"
   ]
  },
  {
   "cell_type": "code",
   "execution_count": 16,
   "metadata": {},
   "outputs": [
    {
     "name": "stdout",
     "output_type": "stream",
     "text": [
      "title of each image is the neural network predicted value:\n"
     ]
    },
    {
     "data": {
      "image/png": "[encoded data removed]",
      "text/plain": [
       "<Figure size 1500x1000 with 5 Axes>"
      ]
     },
     "metadata": {},
     "output_type": "display_data"
    }
   ],
   "source": [
    "print('title of each image is the neural network predicted value:')\n",
    "n_images = 5\n",
    "idx = np.random.choice(np.arange(x.shape[0]), size=n_images, replace=False)\n",
    "\n",
    "for i in range(n_images):\n",
    "    plt.subplot(1, n_images, i+1)\n",
    "    \n",
    "    cur_idx = idx[i]\n",
    "    cur_x = x[cur_idx]\n",
    "    \n",
    "    img = cur_x.reshape(28, 28)\n",
    "    plt.imshow(img)\n",
    "    \n",
    "    res = net.forward(cur_x)\n",
    "    label = res.argmax()\n",
    "    plt.title(label, fontsize=20)\n",
    "    plt.xticks(())\n",
    "    plt.yticks(())\n",
    "    \n",
    "plt.show()"
   ]
  },
  {
   "cell_type": "code",
   "execution_count": 17,
   "metadata": {
    "id": "wZPPKqvhQwlp"
   },
   "outputs": [
    {
     "name": "stdout",
     "output_type": "stream",
     "text": [
      "accuracy :  0.854\n"
     ]
    }
   ],
   "source": [
    "# your code goes here\n",
    "correct_count = 0\n",
    "for index,row in enumerate(x):\n",
    "  pred = net.forward(row).argmax()\n",
    "  if pred == y[index]:\n",
    "    correct_count +=1\n",
    "accuracy = correct_count/x.shape[0]\n",
    "print('accuracy : ', accuracy)"
   ]
  },
  {
   "cell_type": "code",
   "execution_count": null,
   "metadata": {},
   "outputs": [],
   "source": [
    "We got exactly the same accuracy, it seems that the activation functions in this case provide the same performanc"
   ]
  }
 ],
 "metadata": {
  "colab": {
   "provenance": []
  },
  "kernelspec": {
   "display_name": "Python 3 (ipykernel)",
   "language": "python",
   "name": "python3"
  },
  "language_info": {
   "codemirror_mode": {
    "name": "ipython",
    "version": 3
   },
   "file_extension": ".py",
   "mimetype": "text/x-python",
   "name": "python",
   "nbconvert_exporter": "python",
   "pygments_lexer": "ipython3",
   "version": "3.12.1"
  }
 },
 "nbformat": 4,
 "nbformat_minor": 4
}
