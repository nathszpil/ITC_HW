{
 "cells": [
  {
   "cell_type": "markdown",
   "metadata": {
    "id": "01wSRyM_LP9N"
   },
   "source": [
    "# Time Series Analysis Exercise 1: Seattle Bicycles\n",
    "\n",
    "In this exercise we will practice exploratory data analysis on time series data, using the Seattle [Fremont Bridge Bicycle Counter](https://data.seattle.gov/Transportation/Fremont-Bridge-Bicycle-Counter/65db-xm6k) dataset from [Seattle's Open Data portal](https://data.seattle.gov/).\n",
    "\n",
    "This exercise requires the `statsmodels` library, available by default in Google Colab and Anaconda and which can be installed with `pip install statsmodels`. \n",
    "\n",
    "**Questions:**\n",
    "1. Load the attached `Fremont_Bridge_Bicycle_Counter.csv` dataset as a Pandas DataFrame `bike_df`. What are the columns of this DataFrame?"
   ]
  },
  {
   "cell_type": "code",
   "execution_count": null,
   "metadata": {
    "id": "LIKELoMTOfXt"
   },
   "outputs": [],
   "source": [
    "import pandas as pd\n",
    "\n",
    "bike_df = pd.read_csv(\"Fremont_Bridge_Bicycle_Counter.csv\")\n",
    "print(bike_df.columns)"
   ]
  },
  {
   "cell_type": "code",
   "execution_count": null,
   "metadata": {},
   "outputs": [],
   "source": [
    "bike_df.head()"
   ]
  },
  {
   "cell_type": "markdown",
   "metadata": {
    "id": "OtAWYTxTOMN3"
   },
   "source": [
    "2. We will only use the date and total number of bicycle crossings as our features. Use the arguments `usecols=`, `index_col=`, and `parse_dates=True` in `pd.read_csv()` so that only the `\"Date\"` and `\"Fremont Bridge Total\"` columns are read, and the dates are used as the DataFrame index.\n"
   ]
  },
  {
   "cell_type": "code",
   "execution_count": null,
   "metadata": {
    "id": "acc0yc33OiSg"
   },
   "outputs": [],
   "source": [
    "bike_df = pd.read_csv(\"Fremont_Bridge_Bicycle_Counter.csv\", usecols=['Date', 'Fremont Bridge Total'], index_col='Date', parse_dates=True)\n",
    "display(bike_df.head())"
   ]
  },
  {
   "cell_type": "markdown",
   "metadata": {
    "id": "6p-DzY1WOOBy"
   },
   "source": [
    "3. Run `bike_df.describe()` and give a short explanation of the statistics that are printed. Hint: What time period does each row of `bike_df` cover?\n"
   ]
  },
  {
   "cell_type": "code",
   "execution_count": null,
   "metadata": {
    "id": "hjekJFW-OjDW"
   },
   "outputs": [],
   "source": [
    "bike_df.describe()"
   ]
  },
  {
   "cell_type": "markdown",
   "metadata": {},
   "source": [
    "there are 8766 hours in a year so in this dataset we have almost 10 years of data and each row represents an hour and the total amount of bicycles that cross the bridge using the pedestrian/bicycle pathways."
   ]
  },
  {
   "cell_type": "markdown",
   "metadata": {
    "id": "Xi3XuT7QOQsS"
   },
   "source": [
    "4. Plot bike crossings for the month of January 2016. What patterns do you see in the data? Hint: you can `bike_df.loc['2016-01']` to access a month in the date-time index of the DataFrame. Use the Pandas DataFrame `.plot()` function and not `plt.plot(...)` from Matplotlib.\n"
   ]
  },
  {
   "cell_type": "code",
   "execution_count": null,
   "metadata": {
    "id": "gyIUgWDLOjwA"
   },
   "outputs": [],
   "source": [
    "import matplotlib.pyplot as plt\n",
    "\n",
    "january_2016 = bike_df.loc['2016-01']\n",
    "january_2016.plot()\n",
    "\n",
    "plt.xlabel('Date')\n",
    "plt.ylabel('Number of Bike Crossings')\n",
    "plt.title('Bike Crossings for January 2016')\n",
    "\n",
    "plt.show()"
   ]
  },
  {
   "cell_type": "markdown",
   "metadata": {},
   "source": [
    "We can see different kind of patterns, first we can see 31 low points in the data, low \"valleys\" that probably represents the night hours where there are not a lot of crossings. \n",
    "Also we can clearly see than 2 days of 7 have lower values, which represent the week-end days. \n",
    "Lastly we can clearly see two spikes each day, probably one in the morning when people go to work and one in the evening when they are coming back."
   ]
  },
  {
   "cell_type": "markdown",
   "metadata": {
    "id": "dBivR6jCOT0s"
   },
   "source": [
    "5. Use `bikes_per_week = bike_df.resample(...).sum()['Fremont Bridge Total']` to get the total bike crossings per week for the entire time period covered in the dataset, and plot this data. What seasonal pattern do you see in the data?\n"
   ]
  },
  {
   "cell_type": "code",
   "execution_count": null,
   "metadata": {
    "id": "9dq97-saOlQW"
   },
   "outputs": [],
   "source": [
    "# Resample the data to get total bike crossings per week\n",
    "bikes_per_week = bike_df.resample('W').sum()['Fremont Bridge Total']\n",
    "\n",
    "bikes_per_week.plot()\n",
    "\n",
    "plt.xlabel('Date')\n",
    "plt.ylabel('Total Bike Crossings per Week')\n",
    "plt.title('Total Bike Crossings per Week')\n",
    "\n",
    "plt.show()\n"
   ]
  },
  {
   "cell_type": "markdown",
   "metadata": {
    "id": "vLJAidvaOkYk"
   },
   "source": [
    "We can see a pattern every year, a raising in crossings until we get to a maximum (approximately mid-year) and then a drop in values untill the end of the year where we get a minimum in crossings sum values."
   ]
  },
  {
   "cell_type": "markdown",
   "metadata": {
    "id": "IMvHw4uKOVmR"
   },
   "source": [
    "6. Examine the autocorrelation plots generated below and explain them using your answers to questions 4-5.\n"
   ]
  },
  {
   "cell_type": "code",
   "execution_count": null,
   "metadata": {
    "id": "XTI130gHRdw7"
   },
   "outputs": [],
   "source": [
    "# code for question 6\n",
    "from matplotlib import pyplot as plt\n",
    "\n",
    "bikes_per_day = bike_df.resample('d').sum()['Fremont Bridge Total']\n",
    "\n",
    "plt.figure()\n",
    "pd.plotting.autocorrelation_plot(bikes_per_day)\n",
    "plt.xlim((0, 20))\n",
    "plt.ylim((-1, 1))\n",
    "plt.xticks(range(20))\n",
    "plt.title('Autocorrelation of bikes_per_day over 20 days')\n",
    "\n",
    "plt.figure()\n",
    "pd.plotting.autocorrelation_plot(bikes_per_day)\n",
    "plt.xlim((0,500))\n",
    "plt.ylim((-1, 1))\n",
    "plt.title('Autocorrelation of bikes_per_day over 500 days');"
   ]
  },
  {
   "cell_type": "markdown",
   "metadata": {},
   "source": [
    "For the first plot, where we limit the x-axis to 20 days, the autocorrelation plot shows the correlation between the number of bike crossings on a given day and the number of bike crossings on the preceding days up to a lag of 20 days.\n",
    "We can see that the autocorrelation at a lag of 7 and 14 days is high, it suggests that there is a weekly pattern in the data, meaning that the number of bike crossings on a given day is strongly correlated with the number of crossings on the same day of the week for the preceding weeks, and that confirms what we saw in question 4.\n",
    "\n",
    "In the second plot, where we extend the x-axis to 500 days, we are examining the autocorrelation over a longer period. This helps in understanding if there are any longer-term patterns or trends in the data. If there's a significant autocorrelation at certain lags, it suggests the presence of seasonality or other cyclic patterns in the data, such as monthly or yearly trends.  As we can see, there is a high autocorrelation around day 365, meaning that there is seasonality pattern related to the monts of the year as we saw in question 5."
   ]
  },
  {
   "cell_type": "markdown",
   "metadata": {
    "id": "6ubZZ7QhOXSQ"
   },
   "source": [
    "7. Use `statsmodels.tsa.seasonal.seasonal_decompose()` on `bikes_per_week` to decompose it into seasonal, trend, and residual components. Plot all of these components on the same graph, and explain what each component represents. What can you say about how the number of bicycle crossings have changed over time?\n"
   ]
  },
  {
   "cell_type": "code",
   "execution_count": null,
   "metadata": {
    "id": "FxaE3bpUOl9n"
   },
   "outputs": [],
   "source": [
    "from statsmodels.tsa.seasonal import seasonal_decompose\n",
    "\n",
    "decomposition = seasonal_decompose(bikes_per_week)\n",
    "\n",
    "plt.figure(figsize=(10, 8))\n",
    "\n",
    "plt.subplot(4, 1, 1)\n",
    "plt.plot(bikes_per_week, label='Original')\n",
    "plt.legend(loc='upper left')\n",
    "plt.ylabel('Total Bike Crossings per Week')\n",
    "\n",
    "plt.subplot(4, 1, 2)\n",
    "plt.plot(decomposition.trend, label='Trend', color='orange')\n",
    "plt.legend(loc='upper left')\n",
    "plt.ylabel('Trend')\n",
    "\n",
    "plt.subplot(4, 1, 3)\n",
    "plt.plot(decomposition.seasonal, label='Seasonal', color='green')\n",
    "plt.legend(loc='upper left')\n",
    "plt.ylabel('Seasonal')\n",
    "\n",
    "plt.subplot(4, 1, 4)\n",
    "plt.plot(decomposition.resid, label='Residual', color='red')\n",
    "plt.legend(loc='upper left')\n",
    "plt.ylabel('Residual')\n",
    "\n",
    "plt.xlabel('Date')\n",
    "plt.suptitle('Decomposition of Bike Crossings per Week')\n",
    "\n",
    "plt.tight_layout()\n",
    "plt.show()\n"
   ]
  },
  {
   "cell_type": "markdown",
   "metadata": {},
   "source": [
    "We can see with the trend graph that the number of crossings stays approximatively constant from 2013 to 2017, then we have a small rise untill end of 2019 where we have a huge drop untill mid-end of 2020, and this is of course because of the covid crisis and lockdown."
   ]
  },
  {
   "cell_type": "markdown",
   "metadata": {
    "id": "2hu6jVHhOZQH"
   },
   "source": [
    "**BONUS:** Describe the meaning of the graph generated by the code below marked BONUS."
   ]
  },
  {
   "cell_type": "code",
   "execution_count": null,
   "metadata": {
    "id": "EJ0XIWWZOm4e"
   },
   "outputs": [],
   "source": [
    "# your code here"
   ]
  },
  {
   "cell_type": "code",
   "execution_count": null,
   "metadata": {
    "id": "snTVLCdwS7ce"
   },
   "outputs": [],
   "source": [
    "# code for BONUS question\n",
    "bike_df['Fremont Bridge Total'].groupby([\n",
    "    bike_df.index.time,\n",
    "    bike_df.index.dayofweek\n",
    "]).mean().unstack().plot();"
   ]
  },
  {
   "cell_type": "code",
   "execution_count": null,
   "metadata": {},
   "outputs": [],
   "source": []
  }
 ],
 "metadata": {
  "colab": {
   "provenance": []
  },
  "kernelspec": {
   "display_name": "Python 3 (ipykernel)",
   "language": "python",
   "name": "python3"
  },
  "language_info": {
   "codemirror_mode": {
    "name": "ipython",
    "version": 3
   },
   "file_extension": ".py",
   "mimetype": "text/x-python",
   "name": "python",
   "nbconvert_exporter": "python",
   "pygments_lexer": "ipython3",
   "version": "3.12.1"
  }
 },
 "nbformat": 4,
 "nbformat_minor": 4
}
