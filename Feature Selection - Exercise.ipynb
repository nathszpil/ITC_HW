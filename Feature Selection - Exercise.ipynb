{
 "cells": [
  {
   "cell_type": "code",
   "execution_count": null,
   "metadata": {
    "ExecuteTime": {
     "end_time": "2020-11-19T16:51:53.517142Z",
     "start_time": "2020-11-19T16:51:53.497195Z"
    },
    "hide_input": true,
    "id": "4sIo1uoM_mvx",
    "scrolled": true
   },
   "outputs": [],
   "source": [
    "from IPython.core.display import HTML\n",
    "HTML('''\n",
    "<script>\n",
    "var logoParent = document.getElementById(\"kernel_logo_widget\")\n",
    "var logo = document.getElementById(\"kernel_logo_widget\").getElementsByClassName(\"current_kernel_logo\")[0];\n",
    "logo.src = \"https://i.ibb.co/mD4jTGQ/itclogo.jpg\";\n",
    "logo.style = \"display: inline; width:138px; height:40px\";\n",
    "logoParent.innerHTML = '<a href=\"https://i.ibb.co/mD4jTGQ/itclogo.jpg\">' + logoParent.innerHTML + '</a>';\n",
    "</script>\n",
    "''')"
   ]
  },
  {
   "cell_type": "markdown",
   "metadata": {
    "id": "QC1TLSzP_mv4"
   },
   "source": [
    "<font size=10><b>Feature Selection - Exercise</b></font> "
   ]
  },
  {
   "cell_type": "markdown",
   "metadata": {
    "id": "xIPCwise_mv4"
   },
   "source": [
    "In this exercise, we will use the adult_data_usa.csv data, that holds information about different people.\n",
    "We will try to predict wheather a person earns more than 50K a year, or less than that.\n",
    "\n",
    "We will use different feature selection techniques to select features for the models, and compare the recieved models."
   ]
  },
  {
   "cell_type": "markdown",
   "metadata": {
    "id": "ZFVaWO22_mv5"
   },
   "source": [
    "# Questions\n",
    "\n",
    "## load the dataset and explore it LIGHTLY"
   ]
  },
  {
   "cell_type": "code",
   "execution_count": 3,
   "metadata": {
    "ExecuteTime": {
     "end_time": "2020-11-23T15:50:49.560604Z",
     "start_time": "2020-11-23T15:50:49.547690Z"
    },
    "id": "6dBYHORm_mv5"
   },
   "outputs": [
    {
     "data": {
      "text/html": [
       "<div>\n",
       "<style scoped>\n",
       "    .dataframe tbody tr th:only-of-type {\n",
       "        vertical-align: middle;\n",
       "    }\n",
       "\n",
       "    .dataframe tbody tr th {\n",
       "        vertical-align: top;\n",
       "    }\n",
       "\n",
       "    .dataframe thead th {\n",
       "        text-align: right;\n",
       "    }\n",
       "</style>\n",
       "<table border=\"1\" class=\"dataframe\">\n",
       "  <thead>\n",
       "    <tr style=\"text-align: right;\">\n",
       "      <th></th>\n",
       "      <th>age</th>\n",
       "      <th>workclass</th>\n",
       "      <th>fnlwgt</th>\n",
       "      <th>education</th>\n",
       "      <th>education-num</th>\n",
       "      <th>marital-status</th>\n",
       "      <th>occupation</th>\n",
       "      <th>relationship</th>\n",
       "      <th>race</th>\n",
       "      <th>sex</th>\n",
       "      <th>capital-gain</th>\n",
       "      <th>capital-loss</th>\n",
       "      <th>hours-per-week</th>\n",
       "      <th>income</th>\n",
       "    </tr>\n",
       "  </thead>\n",
       "  <tbody>\n",
       "    <tr>\n",
       "      <th>5229</th>\n",
       "      <td>73</td>\n",
       "      <td>Self-emp-not-inc</td>\n",
       "      <td>29306</td>\n",
       "      <td>HS-grad</td>\n",
       "      <td>9</td>\n",
       "      <td>Married-civ-spouse</td>\n",
       "      <td>Farming-fishing</td>\n",
       "      <td>Husband</td>\n",
       "      <td>White</td>\n",
       "      <td>Male</td>\n",
       "      <td>0</td>\n",
       "      <td>0</td>\n",
       "      <td>40</td>\n",
       "      <td>&lt;=50K</td>\n",
       "    </tr>\n",
       "    <tr>\n",
       "      <th>27989</th>\n",
       "      <td>34</td>\n",
       "      <td>Private</td>\n",
       "      <td>347166</td>\n",
       "      <td>Some-college</td>\n",
       "      <td>10</td>\n",
       "      <td>Married-civ-spouse</td>\n",
       "      <td>Adm-clerical</td>\n",
       "      <td>Husband</td>\n",
       "      <td>White</td>\n",
       "      <td>Male</td>\n",
       "      <td>0</td>\n",
       "      <td>0</td>\n",
       "      <td>40</td>\n",
       "      <td>&lt;=50K</td>\n",
       "    </tr>\n",
       "    <tr>\n",
       "      <th>13782</th>\n",
       "      <td>36</td>\n",
       "      <td>Private</td>\n",
       "      <td>293528</td>\n",
       "      <td>Assoc-voc</td>\n",
       "      <td>11</td>\n",
       "      <td>Never-married</td>\n",
       "      <td>Tech-support</td>\n",
       "      <td>Not-in-family</td>\n",
       "      <td>White</td>\n",
       "      <td>Female</td>\n",
       "      <td>0</td>\n",
       "      <td>0</td>\n",
       "      <td>3</td>\n",
       "      <td>&lt;=50K</td>\n",
       "    </tr>\n",
       "    <tr>\n",
       "      <th>12049</th>\n",
       "      <td>45</td>\n",
       "      <td>Private</td>\n",
       "      <td>162915</td>\n",
       "      <td>Some-college</td>\n",
       "      <td>10</td>\n",
       "      <td>Divorced</td>\n",
       "      <td>Transport-moving</td>\n",
       "      <td>Not-in-family</td>\n",
       "      <td>White</td>\n",
       "      <td>Male</td>\n",
       "      <td>0</td>\n",
       "      <td>0</td>\n",
       "      <td>50</td>\n",
       "      <td>&lt;=50K</td>\n",
       "    </tr>\n",
       "    <tr>\n",
       "      <th>19456</th>\n",
       "      <td>33</td>\n",
       "      <td>Self-emp-not-inc</td>\n",
       "      <td>327902</td>\n",
       "      <td>HS-grad</td>\n",
       "      <td>9</td>\n",
       "      <td>Married-civ-spouse</td>\n",
       "      <td>Transport-moving</td>\n",
       "      <td>Husband</td>\n",
       "      <td>White</td>\n",
       "      <td>Male</td>\n",
       "      <td>0</td>\n",
       "      <td>0</td>\n",
       "      <td>45</td>\n",
       "      <td>&lt;=50K</td>\n",
       "    </tr>\n",
       "  </tbody>\n",
       "</table>\n",
       "</div>"
      ],
      "text/plain": [
       "       age          workclass  fnlwgt      education  education-num  \\\n",
       "5229    73   Self-emp-not-inc   29306        HS-grad              9   \n",
       "27989   34            Private  347166   Some-college             10   \n",
       "13782   36            Private  293528      Assoc-voc             11   \n",
       "12049   45            Private  162915   Some-college             10   \n",
       "19456   33   Self-emp-not-inc  327902        HS-grad              9   \n",
       "\n",
       "            marital-status         occupation    relationship    race  \\\n",
       "5229    Married-civ-spouse    Farming-fishing         Husband   White   \n",
       "27989   Married-civ-spouse       Adm-clerical         Husband   White   \n",
       "13782        Never-married       Tech-support   Not-in-family   White   \n",
       "12049             Divorced   Transport-moving   Not-in-family   White   \n",
       "19456   Married-civ-spouse   Transport-moving         Husband   White   \n",
       "\n",
       "           sex  capital-gain  capital-loss  hours-per-week  income  \n",
       "5229      Male             0             0              40   <=50K  \n",
       "27989     Male             0             0              40   <=50K  \n",
       "13782   Female             0             0               3   <=50K  \n",
       "12049     Male             0             0              50   <=50K  \n",
       "19456     Male             0             0              45   <=50K  "
      ]
     },
     "metadata": {},
     "output_type": "display_data"
    },
    {
     "name": "stdout",
     "output_type": "stream",
     "text": [
      "<class 'pandas.core.frame.DataFrame'>\n",
      "RangeIndex: 29170 entries, 0 to 29169\n",
      "Data columns (total 14 columns):\n",
      " #   Column          Non-Null Count  Dtype \n",
      "---  ------          --------------  ----- \n",
      " 0   age             29170 non-null  int64 \n",
      " 1   workclass       29170 non-null  object\n",
      " 2   fnlwgt          29170 non-null  int64 \n",
      " 3   education       29170 non-null  object\n",
      " 4   education-num   29170 non-null  int64 \n",
      " 5   marital-status  29170 non-null  object\n",
      " 6   occupation      29170 non-null  object\n",
      " 7   relationship    29170 non-null  object\n",
      " 8   race            29170 non-null  object\n",
      " 9   sex             29170 non-null  object\n",
      " 10  capital-gain    29170 non-null  int64 \n",
      " 11  capital-loss    29170 non-null  int64 \n",
      " 12  hours-per-week  29170 non-null  int64 \n",
      " 13  income          29170 non-null  object\n",
      "dtypes: int64(6), object(8)\n",
      "memory usage: 3.1+ MB\n"
     ]
    },
    {
     "data": {
      "text/plain": [
       "None"
      ]
     },
     "metadata": {},
     "output_type": "display_data"
    }
   ],
   "source": [
    "import pandas as pd\n",
    "data = pd.read_csv(\"adult_data_usa.csv\")\n",
    "display(data.sample(5))\n",
    "display(data.info())"
   ]
  },
  {
   "cell_type": "code",
   "execution_count": 6,
   "metadata": {},
   "outputs": [
    {
     "data": {
      "text/plain": [
       "workclass\n",
       " Private             20135\n",
       " Self-emp-not-inc     2313\n",
       " Local-gov            1956\n",
       " ?                    1659\n",
       " State-gov            1210\n",
       " Self-emp-inc          991\n",
       " Federal-gov           886\n",
       " Without-pay            13\n",
       " Never-worked            7\n",
       "Name: count, dtype: int64"
      ]
     },
     "execution_count": 6,
     "metadata": {},
     "output_type": "execute_result"
    }
   ],
   "source": [
    "data['income'].value_counts()\n",
    "data['workclass'].value_counts()"
   ]
  },
  {
   "cell_type": "markdown",
   "metadata": {
    "id": "dbsgDpU3_mv5"
   },
   "source": [
    "## Randomly split the data into train and test sets (no need for validation at this point)"
   ]
  },
  {
   "cell_type": "code",
   "execution_count": 4,
   "metadata": {
    "ExecuteTime": {
     "end_time": "2020-11-23T15:53:37.115030Z",
     "start_time": "2020-11-23T15:53:37.102064Z"
    },
    "id": "k2_dh9e-_mv6"
   },
   "outputs": [],
   "source": [
    "from sklearn.model_selection import train_test_split\n",
    "\n",
    "df_train, df_test = train_test_split(data, test_size=0.2, random_state=42)"
   ]
  },
  {
   "cell_type": "markdown",
   "metadata": {
    "id": "vduZfczD_mv6"
   },
   "source": [
    "## Encode all categorical features, and turn the dependent variable into a numeric feature as well"
   ]
  },
  {
   "cell_type": "code",
   "execution_count": 9,
   "metadata": {
    "ExecuteTime": {
     "end_time": "2020-11-23T15:53:37.176919Z",
     "start_time": "2020-11-23T15:53:37.162903Z"
    },
    "id": "OGAaJ8ye_mv6"
   },
   "outputs": [
    {
     "data": {
      "text/html": [
       "<div>\n",
       "<style scoped>\n",
       "    .dataframe tbody tr th:only-of-type {\n",
       "        vertical-align: middle;\n",
       "    }\n",
       "\n",
       "    .dataframe tbody tr th {\n",
       "        vertical-align: top;\n",
       "    }\n",
       "\n",
       "    .dataframe thead th {\n",
       "        text-align: right;\n",
       "    }\n",
       "</style>\n",
       "<table border=\"1\" class=\"dataframe\">\n",
       "  <thead>\n",
       "    <tr style=\"text-align: right;\">\n",
       "      <th></th>\n",
       "      <th>age</th>\n",
       "      <th>workclass</th>\n",
       "      <th>fnlwgt</th>\n",
       "      <th>education</th>\n",
       "      <th>education-num</th>\n",
       "      <th>marital-status</th>\n",
       "      <th>occupation</th>\n",
       "      <th>relationship</th>\n",
       "      <th>race</th>\n",
       "      <th>sex</th>\n",
       "      <th>capital-gain</th>\n",
       "      <th>capital-loss</th>\n",
       "      <th>hours-per-week</th>\n",
       "      <th>income</th>\n",
       "    </tr>\n",
       "  </thead>\n",
       "  <tbody>\n",
       "    <tr>\n",
       "      <th>8426</th>\n",
       "      <td>35</td>\n",
       "      <td>4</td>\n",
       "      <td>225750</td>\n",
       "      <td>9</td>\n",
       "      <td>13</td>\n",
       "      <td>0</td>\n",
       "      <td>10</td>\n",
       "      <td>4</td>\n",
       "      <td>4</td>\n",
       "      <td>0</td>\n",
       "      <td>0</td>\n",
       "      <td>0</td>\n",
       "      <td>32</td>\n",
       "      <td>0</td>\n",
       "    </tr>\n",
       "    <tr>\n",
       "      <th>4121</th>\n",
       "      <td>43</td>\n",
       "      <td>4</td>\n",
       "      <td>191149</td>\n",
       "      <td>11</td>\n",
       "      <td>9</td>\n",
       "      <td>0</td>\n",
       "      <td>4</td>\n",
       "      <td>1</td>\n",
       "      <td>4</td>\n",
       "      <td>0</td>\n",
       "      <td>0</td>\n",
       "      <td>0</td>\n",
       "      <td>40</td>\n",
       "      <td>0</td>\n",
       "    </tr>\n",
       "    <tr>\n",
       "      <th>19220</th>\n",
       "      <td>32</td>\n",
       "      <td>4</td>\n",
       "      <td>210562</td>\n",
       "      <td>11</td>\n",
       "      <td>9</td>\n",
       "      <td>2</td>\n",
       "      <td>7</td>\n",
       "      <td>0</td>\n",
       "      <td>4</td>\n",
       "      <td>1</td>\n",
       "      <td>0</td>\n",
       "      <td>0</td>\n",
       "      <td>40</td>\n",
       "      <td>0</td>\n",
       "    </tr>\n",
       "    <tr>\n",
       "      <th>27110</th>\n",
       "      <td>20</td>\n",
       "      <td>4</td>\n",
       "      <td>117222</td>\n",
       "      <td>15</td>\n",
       "      <td>10</td>\n",
       "      <td>4</td>\n",
       "      <td>13</td>\n",
       "      <td>3</td>\n",
       "      <td>4</td>\n",
       "      <td>1</td>\n",
       "      <td>0</td>\n",
       "      <td>0</td>\n",
       "      <td>15</td>\n",
       "      <td>0</td>\n",
       "    </tr>\n",
       "    <tr>\n",
       "      <th>23205</th>\n",
       "      <td>62</td>\n",
       "      <td>6</td>\n",
       "      <td>162249</td>\n",
       "      <td>11</td>\n",
       "      <td>9</td>\n",
       "      <td>2</td>\n",
       "      <td>14</td>\n",
       "      <td>0</td>\n",
       "      <td>4</td>\n",
       "      <td>1</td>\n",
       "      <td>0</td>\n",
       "      <td>0</td>\n",
       "      <td>30</td>\n",
       "      <td>0</td>\n",
       "    </tr>\n",
       "  </tbody>\n",
       "</table>\n",
       "</div>"
      ],
      "text/plain": [
       "       age  workclass  fnlwgt  education  education-num  marital-status  \\\n",
       "8426    35          4  225750          9             13               0   \n",
       "4121    43          4  191149         11              9               0   \n",
       "19220   32          4  210562         11              9               2   \n",
       "27110   20          4  117222         15             10               4   \n",
       "23205   62          6  162249         11              9               2   \n",
       "\n",
       "       occupation  relationship  race  sex  capital-gain  capital-loss  \\\n",
       "8426           10             4     4    0             0             0   \n",
       "4121            4             1     4    0             0             0   \n",
       "19220           7             0     4    1             0             0   \n",
       "27110          13             3     4    1             0             0   \n",
       "23205          14             0     4    1             0             0   \n",
       "\n",
       "       hours-per-week  income  \n",
       "8426               32       0  \n",
       "4121               40       0  \n",
       "19220              40       0  \n",
       "27110              15       0  \n",
       "23205              30       0  "
      ]
     },
     "execution_count": 9,
     "metadata": {},
     "output_type": "execute_result"
    }
   ],
   "source": [
    "from sklearn.preprocessing import LabelEncoder\n",
    "\n",
    "categorical_features = df_train.select_dtypes(include=['object']).columns\n",
    "for feature in categorical_features:\n",
    "    le = LabelEncoder()\n",
    "    df_train[feature] = le.fit_transform(df_train[feature])\n",
    "    df_test[feature] = le.transform(df_test[feature])\n",
    "\n",
    "le = LabelEncoder()\n",
    "df_train['income'] = le.fit_transform(df_train['income'])\n",
    "df_test['income'] = le.transform(df_test['income'])\n",
    "df_train.head()"
   ]
  },
  {
   "cell_type": "markdown",
   "metadata": {
    "id": "Jt15rU9D_mv7"
   },
   "source": [
    "## Train a model of your choice, and evaluate it. What are your recall and precision?"
   ]
  },
  {
   "cell_type": "code",
   "execution_count": 12,
   "metadata": {
    "ExecuteTime": {
     "end_time": "2020-11-23T15:51:32.747281Z",
     "start_time": "2020-11-23T15:51:32.734262Z"
    },
    "id": "QyPDPkT8_mv7"
   },
   "outputs": [
    {
     "name": "stdout",
     "output_type": "stream",
     "text": [
      "Precision: 0.7353923205342237\n",
      "Recall: 0.6156533892382949\n"
     ]
    }
   ],
   "source": [
    "# Let's use a RF classifier\n",
    "from sklearn.ensemble import RandomForestClassifier\n",
    "from sklearn.metrics import precision_score, recall_score\n",
    "\n",
    "X_train = df_train.drop(columns=['income'])\n",
    "y_train = df_train['income']\n",
    "X_test = df_test.drop(columns=['income'])\n",
    "y_test = df_test['income']\n",
    "\n",
    "model = RandomForestClassifier(random_state=42)\n",
    "model.fit(X_train, y_train)\n",
    "\n",
    "y_pred = model.predict(X_test)\n",
    "\n",
    "precision = precision_score(y_test, y_pred)\n",
    "recall = recall_score(y_test, y_pred)\n",
    "\n",
    "print(\"Precision:\", precision)\n",
    "print(\"Recall:\", recall)\n"
   ]
  },
  {
   "cell_type": "markdown",
   "metadata": {
    "id": "hUWRq0Lr_mv7"
   },
   "source": [
    "## Try to select features with the Chi-square method, and one other filter method. Indicate which features were eliminated. Train the same model with the new subset of features and report your precision and recall"
   ]
  },
  {
   "cell_type": "code",
   "execution_count": 11,
   "metadata": {
    "id": "97tNBKfq_mv7"
   },
   "outputs": [
    {
     "name": "stdout",
     "output_type": "stream",
     "text": [
      "Features eliminated by Chi-square method: Index(['workclass', 'fnlwgt', 'education', 'education-num', 'marital-status',\n",
      "       'occupation', 'race', 'sex'],\n",
      "      dtype='object')\n",
      "Features eliminated by ANOVA filter method: Index(['workclass', 'fnlwgt', 'education', 'marital-status', 'occupation',\n",
      "       'race', 'sex', 'capital-loss'],\n",
      "      dtype='object')\n",
      "Chi-square method:\n",
      "Precision: 0.6850618458610847\n",
      "Recall: 0.5031446540880503\n",
      "Selected features: Index(['age', 'relationship', 'capital-gain', 'capital-loss',\n",
      "       'hours-per-week'],\n",
      "      dtype='object')\n",
      "\n",
      "ANOVA filter method:\n",
      "Precision: 0.6865046102263203\n",
      "Recall: 0.5723270440251572\n",
      "Selected features: Index(['age', 'education-num', 'relationship', 'capital-gain',\n",
      "       'hours-per-week'],\n",
      "      dtype='object')\n"
     ]
    }
   ],
   "source": [
    "from sklearn.feature_selection import SelectKBest, chi2\n",
    "from sklearn.feature_selection import f_classif\n",
    "\n",
    "selector_chi2 = SelectKBest(score_func=chi2, k=5)\n",
    "X_train_chi2 = selector_chi2.fit_transform(X_train, y_train)\n",
    "X_test_chi2 = selector_chi2.transform(X_test)\n",
    "selected_features_chi2 = X_train.columns[selector_chi2.get_support()]\n",
    "\n",
    "selector_f = SelectKBest(score_func=f_classif, k=5)\n",
    "X_train_f = selector_f.fit_transform(X_train, y_train)\n",
    "X_test_f = selector_f.transform(X_test)\n",
    "selected_features_f = X_train.columns[selector_f.get_support()]\n",
    "\n",
    "model_chi2 = RandomForestClassifier(random_state=42)\n",
    "model_chi2.fit(X_train_chi2, y_train)\n",
    "y_pred_chi2 = model_chi2.predict(X_test_chi2)\n",
    "\n",
    "model_f = RandomForestClassifier(random_state=42)\n",
    "model_f.fit(X_train_f, y_train)\n",
    "y_pred_f = model_f.predict(X_test_f)\n",
    "\n",
    "precision_chi2 = precision_score(y_test, y_pred_chi2)\n",
    "recall_chi2 = recall_score(y_test, y_pred_chi2)\n",
    "\n",
    "precision_f = precision_score(y_test, y_pred_f)\n",
    "recall_f = recall_score(y_test, y_pred_f)\n",
    "\n",
    "eliminated_features_chi2 = X_train.columns[~selector_chi2.get_support()]\n",
    "\n",
    "eliminated_features_f = X_train.columns[~selector_f.get_support()]\n",
    "\n",
    "print(\"Features eliminated by Chi-square method:\", eliminated_features_chi2)\n",
    "print(\"Features eliminated by ANOVA filter method:\", eliminated_features_f)\n",
    "\n",
    "print(\"Chi-square method:\")\n",
    "print(\"Precision:\", precision_chi2)\n",
    "print(\"Recall:\", recall_chi2)\n",
    "print(\"Selected features:\", selected_features_chi2)\n",
    "\n",
    "print(\"\\nANOVA filter method:\")\n",
    "print(\"Precision:\", precision_f)\n",
    "print(\"Recall:\", recall_f)\n",
    "print(\"Selected features:\", selected_features_f)\n"
   ]
  },
  {
   "cell_type": "markdown",
   "metadata": {
    "id": "TbLE2Bxq_mv8"
   },
   "source": [
    "## Try to select features with ONE wrapper method. Indicate which features were eliminated. Train the same model with the new subset of features and report your precision and recall\n",
    "\n",
    "**Indicate how many features you kept, and PROVIDE CONCLUSIONS**"
   ]
  },
  {
   "cell_type": "code",
   "execution_count": 13,
   "metadata": {
    "ExecuteTime": {
     "end_time": "2020-11-23T16:06:42.179867Z",
     "start_time": "2020-11-23T16:06:42.161928Z"
    },
    "id": "couNffao_mv8"
   },
   "outputs": [
    {
     "name": "stdout",
     "output_type": "stream",
     "text": [
      "Precision (RFE): 0.648062015503876\n",
      "Recall (RFE): 0.5842068483577918\n",
      "Selected features (RFE): Index(['age', 'fnlwgt', 'education-num', 'relationship', 'capital-gain'], dtype='object')\n",
      "Features eliminated (RFE): Index(['workclass', 'education', 'marital-status', 'occupation', 'race', 'sex',\n",
      "       'capital-loss', 'hours-per-week'],\n",
      "      dtype='object')\n"
     ]
    }
   ],
   "source": [
    "from sklearn.feature_selection import RFE\n",
    "\n",
    "model = RandomForestClassifier(random_state=42)\n",
    "rfe = RFE(model, n_features_to_select=5)\n",
    "rfe.fit(X_train, y_train)\n",
    "selected_features_rfe = X_train.columns[rfe.support_]\n",
    "eliminated_features_rfe = X_train.columns[~rfe.support_]\n",
    "\n",
    "model_rfe = RandomForestClassifier(random_state=42)\n",
    "model_rfe.fit(X_train[selected_features_rfe], y_train)\n",
    "y_pred_rfe = model_rfe.predict(X_test[selected_features_rfe])\n",
    "\n",
    "precision_rfe = precision_score(y_test, y_pred_rfe)\n",
    "recall_rfe = recall_score(y_test, y_pred_rfe)\n",
    "\n",
    "print(\"Precision (RFE):\", precision_rfe)\n",
    "print(\"Recall (RFE):\", recall_rfe)\n",
    "print(\"Selected features (RFE):\", selected_features_rfe)\n",
    "print(\"Features eliminated (RFE):\", eliminated_features_rfe)"
   ]
  },
  {
   "cell_type": "markdown",
   "metadata": {
    "id": "vj-nhv6Q_mv8"
   },
   "source": [
    "## Please sumarize your results. Did things happened as you expected? Please elaborate."
   ]
  },
  {
   "cell_type": "markdown",
   "metadata": {
    "id": "c_Ft0Nbd_mv8"
   },
   "source": [
    "We obtained different results for different of model of the same kind but with different selected features, here is the sumarized results : \n",
    "\n",
    "1. Selecting all the features :\n",
    "\n",
    "   Precision: 0.7353923205342237\n",
    "\n",
    "   Recall: 0.6156533892382949\n",
    "\n",
    "2. Chi-square method :\n",
    "\n",
    "    Precision: 0.6850618458610847\n",
    "\n",
    "    Recall: 0.5031446540880503\n",
    "\n",
    "    Selected features: ['age', 'relationship', 'capital-gain', 'capital-loss','hours-per-week']\n",
    "\n",
    "3. ANOVA filter method :\n",
    "\n",
    "   Precision: 0.6865046102263203\n",
    "\n",
    "   Recall: 0.5723270440251572\n",
    "\n",
    "   Selected features: ['age', 'education-num', 'relationship', 'capital-gain', 'hours-per-week']\n",
    "\n",
    "4. ONE wrapper method :\n",
    "\n",
    "   Precision : 0.648062015503876\n",
    "\n",
    "   Recall : 0.5842068483577918\n",
    "\n",
    "   Selected features : ['age', 'fnlwgt', 'education-num', 'relationship', 'capital-gain']\n",
    "\n"
   ]
  },
  {
   "cell_type": "markdown",
   "metadata": {},
   "source": [
    "Overall, the results demonstrate variations in precision and recall across different feature selection methods. Notably, the model trained with all features achieves the highest precision and recall compared to the feature-selected models. The absence of a filter in feature selection enables the model to utilize all available information, resulting in better predictive performance and higher recall, while also potentially increasing the risk of overfitting. We can also note that when applying a certain filter of any kind, we obtain very similar results. Of course the first goal of applying a filter on a certain dataset is to improve its performance so at first sight, with this specific dataset, we would like to keep all the features "
   ]
  }
 ],
 "metadata": {
  "colab": {
   "provenance": []
  },
  "kernelspec": {
   "display_name": "Python 3 (ipykernel)",
   "language": "python",
   "name": "python3"
  },
  "language_info": {
   "codemirror_mode": {
    "name": "ipython",
    "version": 3
   },
   "file_extension": ".py",
   "mimetype": "text/x-python",
   "name": "python",
   "nbconvert_exporter": "python",
   "pygments_lexer": "ipython3",
   "version": "3.12.1"
  },
  "latex_envs": {
   "LaTeX_envs_menu_present": true,
   "autoclose": false,
   "autocomplete": true,
   "bibliofile": "biblio.bib",
   "cite_by": "apalike",
   "current_citInitial": 1,
   "eqLabelWithNumbers": true,
   "eqNumInitial": 1,
   "hotkeys": {
    "equation": "Ctrl-E",
    "itemize": "Ctrl-I"
   },
   "labels_anchors": false,
   "latex_user_defs": false,
   "report_style_numbering": false,
   "user_envs_cfg": false
  },
  "toc": {
   "base_numbering": 1,
   "nav_menu": {},
   "number_sections": true,
   "sideBar": true,
   "skip_h1_title": false,
   "title_cell": "Table of Contents",
   "title_sidebar": "Contents",
   "toc_cell": false,
   "toc_position": {},
   "toc_section_display": true,
   "toc_window_display": false
  }
 },
 "nbformat": 4,
 "nbformat_minor": 4
}
