{
  "cells": [
    {
      "cell_type": "code",
      "execution_count": 14,
      "metadata": {
        "id": "3UEnabz6A_kH"
      },
      "outputs": [],
      "source": [
        "from sklearn.datasets import fetch_openml\n",
        "from sklearn.model_selection import train_test_split\n",
        "from sklearn.datasets import load_digits\n",
        "from sklearn.tree import DecisionTreeClassifier\n",
        "from sklearn.ensemble import RandomForestClassifier\n",
        "import matplotlib.pyplot as plt\n",
        "import numpy as np\n",
        "from sklearn.metrics import accuracy_score\n"
      ]
    },
    {
      "cell_type": "markdown",
      "metadata": {
        "id": "i4-2xo_Epsi0"
      },
      "source": [
        "## Using Decision Tree and Random Forest for Digits Classification\n",
        "Remember the MNIST dataset used in the Classification Exercise - you will now test the power of decision trees on this problem.\n",
        "This time you are given a free hand in choosing the test and train set sizes, model hyperparameters (such as gain function and constraints over the trees) and features (whether to use binary pixel values or the original continous gray value).\n",
        "\n",
        "**Questions:**\n",
        "\n",
        "**1.** Choose which model hyperparameters (2-3) you wish to optimize, explain how would you do that, and find a model which you believe would have the minimal generalization error --- do this for both a single decision tree model, and a random forest. **DO NOT forget to create a validation set for this experiment**\n"
      ]
    },
    {
      "cell_type": "markdown",
      "metadata": {
        "id": "8qZL43YNA_kM"
      },
      "source": [
        "Model Hyperparameters Optimization:\n",
        "\n",
        "For a single decision tree:\n",
        "        Max depth of the tree: I would optimize this hyperparameter to prevent overfitting by experimenting with different depths and selecting the one that maximizes performance on the validation set.\n",
        "        \n",
        "For Random Forest:\n",
        "        Number of trees: I would experiment with different numbers of trees in the forest to find the optimal balance between model complexity and performance.\n",
        "I will loop over the range of parameters and every time train another model, and print the score to see which is the best Hyperparameter."
      ]
    },
    {
      "cell_type": "code",
      "execution_count": 15,
      "metadata": {
        "colab": {
          "base_uri": "https://localhost:8080/"
        },
        "id": "v45tAcxXA_kM",
        "outputId": "58bf6422-ad50-4f2f-fbd1-cb3c384fd9d2"
      },
      "outputs": [
        {
          "output_type": "stream",
          "name": "stderr",
          "text": [
            "/usr/local/lib/python3.10/dist-packages/sklearn/datasets/_openml.py:968: FutureWarning: The default value of `parser` will change from `'liac-arff'` to `'auto'` in 1.4. You can set `parser='auto'` to silence this warning. Therefore, an `ImportError` will be raised from 1.4 if the dataset is dense and pandas is not installed. Note that the pandas parser may return different data types. See the Notes Section in fetch_openml's API doc for details.\n",
            "  warn(\n"
          ]
        },
        {
          "output_type": "stream",
          "name": "stdout",
          "text": [
            "(70000, 784)\n"
          ]
        }
      ],
      "source": [
        "mnist = fetch_openml('mnist_784', version=1, return_X_y=True)\n",
        "X, y = mnist\n",
        "print(X.shape)\n",
        "X_train_temp, X_temp, y_train_temp, y_temp = train_test_split(X, y, test_size=0.3, random_state=42)\n",
        "X_val, X_test, y_val, y_test = train_test_split(X_temp, y_temp, test_size=0.5, random_state=42)"
      ]
    },
    {
      "cell_type": "code",
      "execution_count": 16,
      "metadata": {
        "colab": {
          "base_uri": "https://localhost:8080/"
        },
        "id": "tB8A_V8KEm29",
        "outputId": "27646ad2-b571-43f9-8da2-e8bf4fd2a1cc"
      },
      "outputs": [
        {
          "output_type": "stream",
          "name": "stdout",
          "text": [
            "Max Depth: 1, Validation Score: 0.203\n",
            "Max Depth: 2, Validation Score: 0.331\n",
            "Max Depth: 3, Validation Score: 0.436\n",
            "Max Depth: 4, Validation Score: 0.560\n",
            "Max Depth: 5, Validation Score: 0.648\n",
            "Max Depth: 6, Validation Score: 0.723\n",
            "Max Depth: 7, Validation Score: 0.770\n",
            "Max Depth: 8, Validation Score: 0.806\n",
            "Max Depth: 9, Validation Score: 0.839\n",
            "Max Depth: 10, Validation Score: 0.859\n",
            "Max Depth: 11, Validation Score: 0.866\n",
            "Max Depth: 12, Validation Score: 0.870\n",
            "Max Depth: 13, Validation Score: 0.873\n",
            "Max Depth: 14, Validation Score: 0.875\n",
            "Max Depth: 15, Validation Score: 0.877\n",
            "Max Depth: 16, Validation Score: 0.875\n",
            "Max Depth: 17, Validation Score: 0.876\n",
            "Max Depth: 18, Validation Score: 0.875\n",
            "Max Depth: 19, Validation Score: 0.874\n",
            "Max Depth: 20, Validation Score: 0.873\n"
          ]
        }
      ],
      "source": [
        "max_depth_values = range(1, 21)\n",
        "\n",
        "for max_depth in max_depth_values:\n",
        "    dt_classifier = DecisionTreeClassifier(max_depth=max_depth, random_state=42)\n",
        "    dt_classifier.fit(X_train_temp, y_train_temp)\n",
        "    val_score = dt_classifier.score(X_val, y_val)\n",
        "    print(f\"Max Depth: {max_depth}, Validation Score: {val_score:.3f}\")\n"
      ]
    },
    {
      "cell_type": "markdown",
      "metadata": {
        "id": "cYFFIwtcA_kN"
      },
      "source": [
        "We can see that the best value is max_depth = 15 with a validation score of 0.877"
      ]
    },
    {
      "cell_type": "markdown",
      "metadata": {
        "id": "t6ggtSBJA_kN"
      },
      "source": [
        "let's do the same for the RF :"
      ]
    },
    {
      "cell_type": "code",
      "execution_count": 17,
      "metadata": {
        "colab": {
          "base_uri": "https://localhost:8080/"
        },
        "id": "FG4pwPHXA_kN",
        "outputId": "cd73bb27-043e-487f-f235-d969d8db2c71"
      },
      "outputs": [
        {
          "output_type": "stream",
          "name": "stdout",
          "text": [
            "Number of Trees: 10, Validation Score: 0.944\n",
            "Number of Trees: 20, Validation Score: 0.956\n",
            "Number of Trees: 30, Validation Score: 0.962\n",
            "Number of Trees: 40, Validation Score: 0.963\n",
            "Number of Trees: 50, Validation Score: 0.965\n",
            "Number of Trees: 60, Validation Score: 0.966\n",
            "Number of Trees: 70, Validation Score: 0.966\n",
            "Number of Trees: 80, Validation Score: 0.967\n",
            "Number of Trees: 90, Validation Score: 0.966\n",
            "Number of Trees: 100, Validation Score: 0.967\n",
            "Number of Trees: 110, Validation Score: 0.967\n",
            "Number of Trees: 120, Validation Score: 0.967\n",
            "Number of Trees: 130, Validation Score: 0.967\n",
            "Number of Trees: 140, Validation Score: 0.967\n",
            "Number of Trees: 150, Validation Score: 0.967\n",
            "Number of Trees: 160, Validation Score: 0.967\n",
            "Number of Trees: 170, Validation Score: 0.967\n",
            "Number of Trees: 180, Validation Score: 0.967\n",
            "Number of Trees: 190, Validation Score: 0.967\n",
            "Number of Trees: 200, Validation Score: 0.967\n"
          ]
        }
      ],
      "source": [
        "n_estimators_values = range(10, 201, 10)\n",
        "\n",
        "for n_estimators in n_estimators_values:\n",
        "    rf_classifier = RandomForestClassifier(n_estimators=n_estimators, random_state=42)\n",
        "    rf_classifier.fit(X_train_temp, y_train_temp)\n",
        "    val_score = rf_classifier.score(X_val, y_val)\n",
        "    print(f\"Number of Trees: {n_estimators}, Validation Score: {val_score:.3f}\")\n"
      ]
    },
    {
      "cell_type": "markdown",
      "metadata": {
        "id": "6awUORsWA_kO"
      },
      "source": [
        "We can see that we obtained better scores than a single tree algorithm, the best n_estimators value is 80 (convergence at 80) with a validation score of 0.978"
      ]
    },
    {
      "cell_type": "markdown",
      "metadata": {
        "id": "1jwp8ocJEinn"
      },
      "source": [
        "**2.** Once you are satisfied with the model hyperparameters, plot for each of the models (a single decision tree and random forest) the importance of each of the pixels to the final decision. The end result should be an image that looks like a heatmap, that shows the most important pixels in the decision. **Explain the result**\n"
      ]
    },
    {
      "cell_type": "code",
      "execution_count": 18,
      "metadata": {
        "colab": {
          "base_uri": "https://localhost:8080/",
          "height": 430
        },
        "id": "P_h6FtKfEpKM",
        "outputId": "4117d622-4943-485a-e800-558894ce63d0"
      },
      "outputs": [
        {
          "output_type": "display_data",
          "data": {
            "text/plain": [
              "<Figure size 1000x500 with 4 Axes>"
            ],
            "image/png": "[encoded data removed]"
          },
          "metadata": {}
        }
      ],
      "source": [
        "dt_classifier = DecisionTreeClassifier(max_depth=15, random_state=42)\n",
        "dt_classifier.fit(X_train_temp, y_train_temp)\n",
        "\n",
        "rf_classifier = RandomForestClassifier(n_estimators=80, random_state=42)\n",
        "rf_classifier.fit(X_train_temp, y_train_temp)\n",
        "\n",
        "# Get feature importances for both models\n",
        "dt_importances = dt_classifier.feature_importances_\n",
        "rf_importances = rf_classifier.feature_importances_\n",
        "\n",
        "# Reshape feature importances to match the original image size (8x8 pixels)\n",
        "dt_importances_image = dt_importances.reshape(28, 28)\n",
        "rf_importances_image = rf_importances.reshape(28, 28)\n",
        "\n",
        "# Plot feature importances for the Decision Tree\n",
        "plt.figure(figsize=(10, 5))\n",
        "plt.subplot(1, 2, 1)\n",
        "plt.imshow(dt_importances_image, cmap='hot', interpolation='nearest')\n",
        "plt.title('Decision Tree Feature Importances')\n",
        "plt.colorbar()\n",
        "\n",
        "# Plot feature importances for the Random Forest\n",
        "plt.subplot(1, 2, 2)\n",
        "plt.imshow(rf_importances_image, cmap='hot', interpolation='nearest')\n",
        "plt.title('Random Forest Feature Importances')\n",
        "plt.colorbar()\n",
        "\n",
        "plt.show()\n"
      ]
    },
    {
      "cell_type": "markdown",
      "metadata": {
        "id": "ixM_QnjiUrqq"
      },
      "source": [
        "We can see that the pixels that are more on the edges are less important and the pixels in the center are the interesting ones because most of the time they are the ones that define the number."
      ]
    },
    {
      "cell_type": "markdown",
      "metadata": {
        "id": "7ZKHg_R5Ej9J"
      },
      "source": [
        "**3.** Last, estimate the class assignment probabilities for all the correctly classified and misclassified examples in your test data.\n",
        "Print, regardless of the digit, the mean +- std for the correctly classified samples, and the mean +- std for the misclassified samples.\n",
        "\n",
        "*The end result should look like:*\n",
        "\n",
        "Error class probability: mean_proba (+/- std_proba)\n",
        "Correct class probability: mean_proba (+/- std_proba)\n",
        "\n"
      ]
    },
    {
      "cell_type": "code",
      "execution_count": 19,
      "metadata": {
        "colab": {
          "base_uri": "https://localhost:8080/"
        },
        "id": "fPGVaqc0Epqw",
        "outputId": "72f554c1-91ff-4419-8218-2afc66793f47"
      },
      "outputs": [
        {
          "output_type": "stream",
          "name": "stdout",
          "text": [
            "Decision Tree:\n",
            "Error class probability: 0.100 (+/- 0.294)\n",
            "Correct class probability: 0.100 (+/- 0.296)\n",
            "\n",
            "Random Forest:\n",
            "Error class probability: 0.100 (+/- 0.134)\n",
            "Correct class probability: 0.100 (+/- 0.252)\n"
          ]
        }
      ],
      "source": [
        "dt_pred = dt_classifier.predict(X_test)\n",
        "rf_pred = rf_classifier.predict(X_test)\n",
        "\n",
        "dt_pred_proba = dt_classifier.predict_proba(X_test)\n",
        "rf_pred_proba = rf_classifier.predict_proba(X_test)\n",
        "\n",
        "\n",
        "dt_correct_proba = dt_pred_proba[dt_pred == y_test]\n",
        "rf_correct_proba = rf_pred_proba[rf_pred == y_test]\n",
        "\n",
        "dt_misclassified_proba = dt_pred_proba[dt_pred != y_test]\n",
        "rf_misclassified_proba = rf_pred_proba[rf_pred != y_test]\n",
        "\n",
        "\n",
        "print(\"Decision Tree:\")\n",
        "print(f\"Error class probability: {np.mean(dt_misclassified_proba):.3f} (+/- {np.std(dt_misclassified_proba):.3f})\")\n",
        "print(f\"Correct class probability: {np.mean(dt_correct_proba):.3f} (+/- {np.std(dt_correct_proba):.3f})\")\n",
        "\n",
        "print(\"\\nRandom Forest:\")\n",
        "print(f\"Error class probability: {np.mean(rf_misclassified_proba):.3f} (+/- {np.std(rf_misclassified_proba):.3f})\")\n",
        "print(f\"Correct class probability: {np.mean(rf_correct_proba):.3f} (+/- {np.std(rf_correct_proba):.3f})\")\n"
      ]
    },
    {
      "cell_type": "markdown",
      "metadata": {
        "id": "VPOW2s7yElIj"
      },
      "source": [
        "**4.** Discuss your results."
      ]
    },
    {
      "cell_type": "markdown",
      "source": [
        "We can see that we obtained exactly the same mean values for both sets and for both the correct and misclssified"
      ],
      "metadata": {
        "id": "ryuwq02fFle6"
      }
    },
    {
      "cell_type": "code",
      "execution_count": 19,
      "metadata": {
        "id": "I6hwbkSyEqb1"
      },
      "outputs": [],
      "source": []
    }
  ],
  "metadata": {
    "colab": {
      "provenance": []
    },
    "kernelspec": {
      "display_name": "Python 3 (ipykernel)",
      "language": "python",
      "name": "python3"
    },
    "language_info": {
      "codemirror_mode": {
        "name": "ipython",
        "version": 3
      },
      "file_extension": ".py",
      "mimetype": "text/x-python",
      "name": "python",
      "nbconvert_exporter": "python",
      "pygments_lexer": "ipython3",
      "version": "3.12.1"
    },
    "latex_envs": {
      "LaTeX_envs_menu_present": true,
      "autoclose": false,
      "autocomplete": true,
      "bibliofile": "biblio.bib",
      "cite_by": "apalike",
      "current_citInitial": 1,
      "eqLabelWithNumbers": true,
      "eqNumInitial": 1,
      "hotkeys": {
        "equation": "Ctrl-E",
        "itemize": "Ctrl-I"
      },
      "labels_anchors": false,
      "latex_user_defs": false,
      "report_style_numbering": false,
      "user_envs_cfg": false
    },
    "toc": {
      "base_numbering": 1,
      "nav_menu": {},
      "number_sections": true,
      "sideBar": true,
      "skip_h1_title": false,
      "title_cell": "Table of Contents",
      "title_sidebar": "Contents",
      "toc_cell": false,
      "toc_position": {},
      "toc_section_display": true,
      "toc_window_display": false
    }
  },
  "nbformat": 4,
  "nbformat_minor": 0
}