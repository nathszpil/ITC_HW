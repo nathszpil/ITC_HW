{
 "cells": [
  {
   "cell_type": "code",
   "execution_count": 51,
   "metadata": {
    "ExecuteTime": {
     "end_time": "2022-11-30T15:05:42.875629Z",
     "start_time": "2022-11-30T15:05:42.860629Z"
    },
    "hide_input": true,
    "id": "V9RzywEmCZHm"
   },
   "outputs": [
    {
     "data": {
      "text/html": [
       "\n",
       "<script>\n",
       "var logoParent = document.getElementById(\"kernel_logo_widget\")\n",
       "var logo = document.getElementById(\"kernel_logo_widget\").getElementsByClassName(\"current_kernel_logo\")[0];\n",
       "logo.src = \"https://i.ibb.co/mD4jTGQ/itclogo.jpg\";\n",
       "logo.style = \"display: inline; width:138px; height:40px\";\n",
       "logoParent.innerHTML = '<a href=\"https://i.ibb.co/mD4jTGQ/itclogo.jpg\">' + logoParent.innerHTML + '</a>';\n",
       "</script>\n"
      ],
      "text/plain": [
       "<IPython.core.display.HTML object>"
      ]
     },
     "execution_count": 51,
     "metadata": {},
     "output_type": "execute_result"
    }
   ],
   "source": [
    "from IPython.core.display import HTML\n",
    "HTML('''\n",
    "<script>\n",
    "var logoParent = document.getElementById(\"kernel_logo_widget\")\n",
    "var logo = document.getElementById(\"kernel_logo_widget\").getElementsByClassName(\"current_kernel_logo\")[0];\n",
    "logo.src = \"https://i.ibb.co/mD4jTGQ/itclogo.jpg\";\n",
    "logo.style = \"display: inline; width:138px; height:40px\";\n",
    "logoParent.innerHTML = '<a href=\"https://i.ibb.co/mD4jTGQ/itclogo.jpg\">' + logoParent.innerHTML + '</a>';\n",
    "</script>\n",
    "''')"
   ]
  },
  {
   "cell_type": "markdown",
   "metadata": {
    "hide_input": true,
    "id": "hrck1RzBCZHn"
   },
   "source": [
    "<font size=10><b>Exploratory Data Analysis (EDA)</b></font>\n",
    "\n",
    "<img width = 100 src=\"https://img.freepik.com/free-photo/magnifying-glass_1156-674.jpg\">"
   ]
  },
  {
   "cell_type": "code",
   "execution_count": 52,
   "metadata": {
    "ExecuteTime": {
     "end_time": "2022-11-30T15:05:44.998481Z",
     "start_time": "2022-11-30T15:05:42.893542Z"
    },
    "id": "zTa1YBHKCZHp"
   },
   "outputs": [],
   "source": [
    "import numpy as np\n",
    "import pandas as pd\n",
    "import seaborn as sns\n",
    "import matplotlib.pyplot as plt\n",
    "sns.set_palette('bright')\n",
    "%matplotlib inline"
   ]
  },
  {
   "cell_type": "markdown",
   "metadata": {
    "id": "xaAOv71HCZHp"
   },
   "source": [
    "# (Work)Sheet just got real\n",
    "Now it's time to get a taste of real Exploratory Data Analysis, with all of the tools that we gathered so far.\n",
    "In the following sessions you will start working with data, and start our data exploration and preprocessing phase.\n",
    "\n",
    "Exploring and Preprocessing for what? For Data Science and Machine learning models 💪!\n",
    "\n",
    "**Agenda for today**:\n",
    "\n",
    "**1.** Introduction\n",
    "\n",
    "**2.** Data Dictionary\n",
    "\n",
    "**3.** Defining a business problem\n",
    "\n",
    "**4.** Recognizing the dependent variable\n",
    "\n",
    "**5.** Summary statistics\n",
    "\n",
    "**6.** Data types\n",
    "\n",
    "**7.** Data Intergrity\n",
    "\n",
    "**8.** Data distributions and co-plotting features\n",
    "\n",
    "**9.** Feature extraction\n",
    "\n",
    "## Introduction\n",
    "\n",
    "So what exactly is exploratory data analysis? In statistics, exploratory data analysis (EDA) is an approach to analyzing data sets to summarize their main characteristics, often with visual methods. Generally EDA is for seeing what the data can tell us beyond the formal modeling or hypothesis testing task.\n",
    "\n",
    "EDA will be our way to do some story telling about our data - we will find patterns, insights, get familiar with all of the intricacies of our data.\n",
    "\n",
    "# Titanic data\n",
    "\n",
    "## Data Dictionary\n",
    "\n",
    "Download given file, and read it as a pandas dataframe. The file contains the famous Titanic dataset, that holds information about all of the titanic passengers, those who survived, and those who unfortunately didn't.\n",
    "\n",
    "**Column description:**\n",
    "- survived: Survival (0 = no; 1 = yes)\n",
    "- pclass: Passenger class (1 = first; 2 = second; 3 = third)\n",
    "- name: Name\n",
    "- sex: Sex\n",
    "- age: Age\n",
    "- sibsp: Number of siblings/spouses aboard\n",
    "- parch: Number of parents/children aboard\n",
    "- ticket: Ticket number\n",
    "- fare: Passenger fare\n",
    "- cabin: Cabin\n",
    "- embarked: Port of embarkation (C = Cherbourg; Q = Queenstown; S = Southampton)\n",
    "- boat: Lifeboat (if survived)\n",
    "- body: Body number (if did not survive and body was recovered)\n",
    "- home.dest: Home destination of the passenger.\n",
    "\n",
    "This is called a **data dictionary**. If you are not the domain expert of your problem, you MUST get one of these from a domain expert / business stakeholder. You should know what your data should look like, acceptable ranges of values, types of values, meaning of each column etc...\n",
    "\n",
    "Use the time you have to explore it and derive conclusions. The ultimate goal is to predict which of these people survived, but for now - Anything interesting you can say about the data? Plot it, dissect it, be creative. **GO**"
   ]
  },
  {
   "cell_type": "markdown",
   "metadata": {
    "id": "JMrxXGNhCZHq"
   },
   "source": [
    "## Import the data"
   ]
  },
  {
   "cell_type": "markdown",
   "metadata": {
    "id": "MQqOzjc2CZHq"
   },
   "source": [
    "As mentioned before, it is **always** a good idea to look at the head of the data, to see that all the column names and the values are aligned, and contain what we expect.\n",
    "Also, look at the dimensions of the data:"
   ]
  },
  {
   "cell_type": "code",
   "execution_count": 53,
   "metadata": {
    "ExecuteTime": {
     "end_time": "2022-11-30T15:05:45.126141Z",
     "start_time": "2022-11-30T15:05:45.000476Z"
    },
    "id": "xMPLbae9CZHr",
    "outputId": "97706f6b-ca09-4fed-d102-4601d38b5799",
    "scrolled": true
   },
   "outputs": [
    {
     "data": {
      "text/html": [
       "<div>\n",
       "<style scoped>\n",
       "    .dataframe tbody tr th:only-of-type {\n",
       "        vertical-align: middle;\n",
       "    }\n",
       "\n",
       "    .dataframe tbody tr th {\n",
       "        vertical-align: top;\n",
       "    }\n",
       "\n",
       "    .dataframe thead th {\n",
       "        text-align: right;\n",
       "    }\n",
       "</style>\n",
       "<table border=\"1\" class=\"dataframe\">\n",
       "  <thead>\n",
       "    <tr style=\"text-align: right;\">\n",
       "      <th></th>\n",
       "      <th>pclass</th>\n",
       "      <th>survived</th>\n",
       "      <th>name</th>\n",
       "      <th>sex</th>\n",
       "      <th>age</th>\n",
       "      <th>sibsp</th>\n",
       "      <th>parch</th>\n",
       "      <th>ticket</th>\n",
       "      <th>fare</th>\n",
       "      <th>cabin</th>\n",
       "      <th>embarked</th>\n",
       "      <th>boat</th>\n",
       "      <th>body</th>\n",
       "      <th>home.dest</th>\n",
       "    </tr>\n",
       "  </thead>\n",
       "  <tbody>\n",
       "    <tr>\n",
       "      <th>612</th>\n",
       "      <td>3</td>\n",
       "      <td>1</td>\n",
       "      <td>Aks, Mrs. Sam (Leah Rosen)</td>\n",
       "      <td>female</td>\n",
       "      <td>18.00</td>\n",
       "      <td>0</td>\n",
       "      <td>1</td>\n",
       "      <td>392091</td>\n",
       "      <td>9.3500</td>\n",
       "      <td>NaN</td>\n",
       "      <td>S</td>\n",
       "      <td>13</td>\n",
       "      <td>NaN</td>\n",
       "      <td>London, England Norfolk, VA</td>\n",
       "    </tr>\n",
       "    <tr>\n",
       "      <th>154</th>\n",
       "      <td>1</td>\n",
       "      <td>0</td>\n",
       "      <td>Hays, Mr. Charles Melville</td>\n",
       "      <td>male</td>\n",
       "      <td>55.00</td>\n",
       "      <td>1</td>\n",
       "      <td>1</td>\n",
       "      <td>12749</td>\n",
       "      <td>93.5000</td>\n",
       "      <td>B69</td>\n",
       "      <td>S</td>\n",
       "      <td>NaN</td>\n",
       "      <td>307.0</td>\n",
       "      <td>Montreal, PQ</td>\n",
       "    </tr>\n",
       "    <tr>\n",
       "      <th>1111</th>\n",
       "      <td>3</td>\n",
       "      <td>0</td>\n",
       "      <td>Peacock, Master. Alfred Edward</td>\n",
       "      <td>male</td>\n",
       "      <td>0.75</td>\n",
       "      <td>1</td>\n",
       "      <td>1</td>\n",
       "      <td>SOTON/O.Q. 3101315</td>\n",
       "      <td>13.7750</td>\n",
       "      <td>NaN</td>\n",
       "      <td>S</td>\n",
       "      <td>NaN</td>\n",
       "      <td>NaN</td>\n",
       "      <td>NaN</td>\n",
       "    </tr>\n",
       "    <tr>\n",
       "      <th>261</th>\n",
       "      <td>1</td>\n",
       "      <td>1</td>\n",
       "      <td>Silverthorne, Mr. Spencer Victor</td>\n",
       "      <td>male</td>\n",
       "      <td>35.00</td>\n",
       "      <td>0</td>\n",
       "      <td>0</td>\n",
       "      <td>PC 17475</td>\n",
       "      <td>26.2875</td>\n",
       "      <td>E24</td>\n",
       "      <td>S</td>\n",
       "      <td>5</td>\n",
       "      <td>NaN</td>\n",
       "      <td>St Louis, MO</td>\n",
       "    </tr>\n",
       "    <tr>\n",
       "      <th>157</th>\n",
       "      <td>1</td>\n",
       "      <td>0</td>\n",
       "      <td>Hilliard, Mr. Herbert Henry</td>\n",
       "      <td>male</td>\n",
       "      <td>NaN</td>\n",
       "      <td>0</td>\n",
       "      <td>0</td>\n",
       "      <td>17463</td>\n",
       "      <td>51.8625</td>\n",
       "      <td>E46</td>\n",
       "      <td>S</td>\n",
       "      <td>NaN</td>\n",
       "      <td>NaN</td>\n",
       "      <td>Brighton, MA</td>\n",
       "    </tr>\n",
       "    <tr>\n",
       "      <th>1026</th>\n",
       "      <td>3</td>\n",
       "      <td>1</td>\n",
       "      <td>Moor, Mrs. (Beila)</td>\n",
       "      <td>female</td>\n",
       "      <td>27.00</td>\n",
       "      <td>0</td>\n",
       "      <td>1</td>\n",
       "      <td>392096</td>\n",
       "      <td>12.4750</td>\n",
       "      <td>E121</td>\n",
       "      <td>S</td>\n",
       "      <td>14</td>\n",
       "      <td>NaN</td>\n",
       "      <td>NaN</td>\n",
       "    </tr>\n",
       "    <tr>\n",
       "      <th>288</th>\n",
       "      <td>1</td>\n",
       "      <td>1</td>\n",
       "      <td>Swift, Mrs. Frederick Joel (Margaret Welles Ba...</td>\n",
       "      <td>female</td>\n",
       "      <td>48.00</td>\n",
       "      <td>0</td>\n",
       "      <td>0</td>\n",
       "      <td>17466</td>\n",
       "      <td>25.9292</td>\n",
       "      <td>D17</td>\n",
       "      <td>S</td>\n",
       "      <td>8</td>\n",
       "      <td>NaN</td>\n",
       "      <td>Brooklyn, NY</td>\n",
       "    </tr>\n",
       "    <tr>\n",
       "      <th>1136</th>\n",
       "      <td>3</td>\n",
       "      <td>0</td>\n",
       "      <td>Rasmussen, Mrs. (Lena Jacobsen Solvang)</td>\n",
       "      <td>female</td>\n",
       "      <td>NaN</td>\n",
       "      <td>0</td>\n",
       "      <td>0</td>\n",
       "      <td>65305</td>\n",
       "      <td>8.1125</td>\n",
       "      <td>NaN</td>\n",
       "      <td>S</td>\n",
       "      <td>NaN</td>\n",
       "      <td>NaN</td>\n",
       "      <td>NaN</td>\n",
       "    </tr>\n",
       "    <tr>\n",
       "      <th>889</th>\n",
       "      <td>3</td>\n",
       "      <td>1</td>\n",
       "      <td>Johansson Palmquist, Mr. Oskar Leander</td>\n",
       "      <td>male</td>\n",
       "      <td>26.00</td>\n",
       "      <td>0</td>\n",
       "      <td>0</td>\n",
       "      <td>347070</td>\n",
       "      <td>7.7750</td>\n",
       "      <td>NaN</td>\n",
       "      <td>S</td>\n",
       "      <td>15</td>\n",
       "      <td>NaN</td>\n",
       "      <td>NaN</td>\n",
       "    </tr>\n",
       "    <tr>\n",
       "      <th>197</th>\n",
       "      <td>1</td>\n",
       "      <td>0</td>\n",
       "      <td>Marvin, Mr. Daniel Warner</td>\n",
       "      <td>male</td>\n",
       "      <td>19.00</td>\n",
       "      <td>1</td>\n",
       "      <td>0</td>\n",
       "      <td>113773</td>\n",
       "      <td>53.1000</td>\n",
       "      <td>D30</td>\n",
       "      <td>S</td>\n",
       "      <td>NaN</td>\n",
       "      <td>NaN</td>\n",
       "      <td>New York, NY</td>\n",
       "    </tr>\n",
       "  </tbody>\n",
       "</table>\n",
       "</div>"
      ],
      "text/plain": [
       "      pclass  survived                                               name  \\\n",
       "612        3         1                         Aks, Mrs. Sam (Leah Rosen)   \n",
       "154        1         0                         Hays, Mr. Charles Melville   \n",
       "1111       3         0                     Peacock, Master. Alfred Edward   \n",
       "261        1         1                   Silverthorne, Mr. Spencer Victor   \n",
       "157        1         0                        Hilliard, Mr. Herbert Henry   \n",
       "1026       3         1                                 Moor, Mrs. (Beila)   \n",
       "288        1         1  Swift, Mrs. Frederick Joel (Margaret Welles Ba...   \n",
       "1136       3         0            Rasmussen, Mrs. (Lena Jacobsen Solvang)   \n",
       "889        3         1             Johansson Palmquist, Mr. Oskar Leander   \n",
       "197        1         0                          Marvin, Mr. Daniel Warner   \n",
       "\n",
       "         sex    age  sibsp  parch              ticket     fare cabin embarked  \\\n",
       "612   female  18.00      0      1              392091   9.3500   NaN        S   \n",
       "154     male  55.00      1      1               12749  93.5000   B69        S   \n",
       "1111    male   0.75      1      1  SOTON/O.Q. 3101315  13.7750   NaN        S   \n",
       "261     male  35.00      0      0            PC 17475  26.2875   E24        S   \n",
       "157     male    NaN      0      0               17463  51.8625   E46        S   \n",
       "1026  female  27.00      0      1              392096  12.4750  E121        S   \n",
       "288   female  48.00      0      0               17466  25.9292   D17        S   \n",
       "1136  female    NaN      0      0               65305   8.1125   NaN        S   \n",
       "889     male  26.00      0      0              347070   7.7750   NaN        S   \n",
       "197     male  19.00      1      0              113773  53.1000   D30        S   \n",
       "\n",
       "     boat   body                    home.dest  \n",
       "612    13    NaN  London, England Norfolk, VA  \n",
       "154   NaN  307.0                 Montreal, PQ  \n",
       "1111  NaN    NaN                          NaN  \n",
       "261     5    NaN                 St Louis, MO  \n",
       "157   NaN    NaN                 Brighton, MA  \n",
       "1026   14    NaN                          NaN  \n",
       "288     8    NaN                 Brooklyn, NY  \n",
       "1136  NaN    NaN                          NaN  \n",
       "889    15    NaN                          NaN  \n",
       "197   NaN    NaN                 New York, NY  "
      ]
     },
     "execution_count": 53,
     "metadata": {},
     "output_type": "execute_result"
    }
   ],
   "source": [
    "df = pd.read_excel('titanic3.xls')\n",
    "df.sample(10)"
   ]
  },
  {
   "cell_type": "code",
   "execution_count": 54,
   "metadata": {
    "ExecuteTime": {
     "end_time": "2022-11-30T15:05:45.142098Z",
     "start_time": "2022-11-30T15:05:45.127139Z"
    },
    "id": "LCHWulFTCZHs",
    "outputId": "2e383b65-e58e-44ec-f0e0-4f8aa0ef7dfe"
   },
   "outputs": [
    {
     "data": {
      "text/plain": [
       "(1309, 14)"
      ]
     },
     "execution_count": 54,
     "metadata": {},
     "output_type": "execute_result"
    }
   ],
   "source": [
    "df.shape"
   ]
  },
  {
   "cell_type": "markdown",
   "metadata": {
    "ExecuteTime": {
     "end_time": "2019-05-21T17:27:25.662234Z",
     "start_time": "2019-05-21T17:27:25.655288Z"
    },
    "id": "91QjCCHVCZHs"
   },
   "source": [
    "This means that we have 1309 rows (samples), and 14 columns (features)"
   ]
  },
  {
   "cell_type": "markdown",
   "metadata": {
    "id": "jSh2Vi_LCZHs"
   },
   "source": [
    "## Define - what is my business problem?"
   ]
  },
  {
   "cell_type": "markdown",
   "metadata": {
    "id": "bKW6M_wHCZHs"
   },
   "source": [
    "Remember - we do not program in a vacuum. All of our decisions need to come from the **business perspective**. What is the problem we are trying to solve? What is it that we want to predict? Do we have (at list initially) the right data in order to do so?\n",
    "\n",
    "All of these questions are **vital** before trying to solve a data science problem.\n",
    "\n",
    "What can be some predictions we can make on the titanic dataset?"
   ]
  },
  {
   "cell_type": "markdown",
   "metadata": {
    "id": "jgCBhZosCZHt"
   },
   "source": [
    "## Define - which of the features is the dependent feature?"
   ]
  },
  {
   "cell_type": "markdown",
   "metadata": {
    "id": "fCb3kfu7CZHt"
   },
   "source": [
    "We should decide which feature is the dependent feature - what will we try to predict in the future? This will be important for decisions we make along the way.\n",
    "\n",
    "**The dependent variable has to be the answer to your business problem.**\n",
    "\n",
    "In the Titanic dataset case, the business problem is predicting who survived. So, the dependent feature (AKA target feature) is `survived`. It is a binary vector, where 1 stands for \"Survived\" and 0 stands for \"Did not survive\".\n",
    "\n",
    "The rest of the columns will be called \"features\" or \"independent variables\"."
   ]
  },
  {
   "cell_type": "markdown",
   "metadata": {
    "id": "FjwILDj5CZHt"
   },
   "source": [
    "## General summary statistics"
   ]
  },
  {
   "cell_type": "markdown",
   "metadata": {
    "id": "ZW2nXGBoCZHt"
   },
   "source": [
    "Another important thing to do, just to get an idea of what our data looks like, is to explore general summary statistics, as well as the contents of each columns (checking for missing values, datatype, irregular values)"
   ]
  },
  {
   "cell_type": "code",
   "execution_count": 55,
   "metadata": {
    "ExecuteTime": {
     "end_time": "2022-11-30T15:05:45.173016Z",
     "start_time": "2022-11-30T15:05:45.144093Z"
    },
    "id": "EHge3FXOCZHt",
    "outputId": "cea4f820-a41f-4f71-9d18-2449ccc2a4a7"
   },
   "outputs": [
    {
     "data": {
      "text/html": [
       "<div>\n",
       "<style scoped>\n",
       "    .dataframe tbody tr th:only-of-type {\n",
       "        vertical-align: middle;\n",
       "    }\n",
       "\n",
       "    .dataframe tbody tr th {\n",
       "        vertical-align: top;\n",
       "    }\n",
       "\n",
       "    .dataframe thead th {\n",
       "        text-align: right;\n",
       "    }\n",
       "</style>\n",
       "<table border=\"1\" class=\"dataframe\">\n",
       "  <thead>\n",
       "    <tr style=\"text-align: right;\">\n",
       "      <th></th>\n",
       "      <th>pclass</th>\n",
       "      <th>survived</th>\n",
       "      <th>age</th>\n",
       "      <th>sibsp</th>\n",
       "      <th>parch</th>\n",
       "      <th>fare</th>\n",
       "      <th>body</th>\n",
       "    </tr>\n",
       "  </thead>\n",
       "  <tbody>\n",
       "    <tr>\n",
       "      <th>count</th>\n",
       "      <td>1309.000000</td>\n",
       "      <td>1309.000000</td>\n",
       "      <td>1046.000000</td>\n",
       "      <td>1309.000000</td>\n",
       "      <td>1309.000000</td>\n",
       "      <td>1308.000000</td>\n",
       "      <td>121.000000</td>\n",
       "    </tr>\n",
       "    <tr>\n",
       "      <th>mean</th>\n",
       "      <td>2.294882</td>\n",
       "      <td>0.381971</td>\n",
       "      <td>29.881135</td>\n",
       "      <td>0.498854</td>\n",
       "      <td>0.385027</td>\n",
       "      <td>33.295479</td>\n",
       "      <td>160.809917</td>\n",
       "    </tr>\n",
       "    <tr>\n",
       "      <th>std</th>\n",
       "      <td>0.837836</td>\n",
       "      <td>0.486055</td>\n",
       "      <td>14.413500</td>\n",
       "      <td>1.041658</td>\n",
       "      <td>0.865560</td>\n",
       "      <td>51.758668</td>\n",
       "      <td>97.696922</td>\n",
       "    </tr>\n",
       "    <tr>\n",
       "      <th>min</th>\n",
       "      <td>1.000000</td>\n",
       "      <td>0.000000</td>\n",
       "      <td>0.166700</td>\n",
       "      <td>0.000000</td>\n",
       "      <td>0.000000</td>\n",
       "      <td>0.000000</td>\n",
       "      <td>1.000000</td>\n",
       "    </tr>\n",
       "    <tr>\n",
       "      <th>25%</th>\n",
       "      <td>2.000000</td>\n",
       "      <td>0.000000</td>\n",
       "      <td>21.000000</td>\n",
       "      <td>0.000000</td>\n",
       "      <td>0.000000</td>\n",
       "      <td>7.895800</td>\n",
       "      <td>72.000000</td>\n",
       "    </tr>\n",
       "    <tr>\n",
       "      <th>50%</th>\n",
       "      <td>3.000000</td>\n",
       "      <td>0.000000</td>\n",
       "      <td>28.000000</td>\n",
       "      <td>0.000000</td>\n",
       "      <td>0.000000</td>\n",
       "      <td>14.454200</td>\n",
       "      <td>155.000000</td>\n",
       "    </tr>\n",
       "    <tr>\n",
       "      <th>75%</th>\n",
       "      <td>3.000000</td>\n",
       "      <td>1.000000</td>\n",
       "      <td>39.000000</td>\n",
       "      <td>1.000000</td>\n",
       "      <td>0.000000</td>\n",
       "      <td>31.275000</td>\n",
       "      <td>256.000000</td>\n",
       "    </tr>\n",
       "    <tr>\n",
       "      <th>max</th>\n",
       "      <td>3.000000</td>\n",
       "      <td>1.000000</td>\n",
       "      <td>80.000000</td>\n",
       "      <td>8.000000</td>\n",
       "      <td>9.000000</td>\n",
       "      <td>512.329200</td>\n",
       "      <td>328.000000</td>\n",
       "    </tr>\n",
       "  </tbody>\n",
       "</table>\n",
       "</div>"
      ],
      "text/plain": [
       "            pclass     survived          age        sibsp        parch  \\\n",
       "count  1309.000000  1309.000000  1046.000000  1309.000000  1309.000000   \n",
       "mean      2.294882     0.381971    29.881135     0.498854     0.385027   \n",
       "std       0.837836     0.486055    14.413500     1.041658     0.865560   \n",
       "min       1.000000     0.000000     0.166700     0.000000     0.000000   \n",
       "25%       2.000000     0.000000    21.000000     0.000000     0.000000   \n",
       "50%       3.000000     0.000000    28.000000     0.000000     0.000000   \n",
       "75%       3.000000     1.000000    39.000000     1.000000     0.000000   \n",
       "max       3.000000     1.000000    80.000000     8.000000     9.000000   \n",
       "\n",
       "              fare        body  \n",
       "count  1308.000000  121.000000  \n",
       "mean     33.295479  160.809917  \n",
       "std      51.758668   97.696922  \n",
       "min       0.000000    1.000000  \n",
       "25%       7.895800   72.000000  \n",
       "50%      14.454200  155.000000  \n",
       "75%      31.275000  256.000000  \n",
       "max     512.329200  328.000000  "
      ]
     },
     "execution_count": 55,
     "metadata": {},
     "output_type": "execute_result"
    }
   ],
   "source": [
    "df.describe()"
   ]
  },
  {
   "cell_type": "code",
   "execution_count": 56,
   "metadata": {
    "ExecuteTime": {
     "end_time": "2022-11-30T15:05:45.204973Z",
     "start_time": "2022-11-30T15:05:45.175012Z"
    },
    "id": "5ZmzKl2JCZHt",
    "outputId": "8242daa9-53ca-4c52-e246-7c06f03a5c51"
   },
   "outputs": [
    {
     "data": {
      "text/html": [
       "<div>\n",
       "<style scoped>\n",
       "    .dataframe tbody tr th:only-of-type {\n",
       "        vertical-align: middle;\n",
       "    }\n",
       "\n",
       "    .dataframe tbody tr th {\n",
       "        vertical-align: top;\n",
       "    }\n",
       "\n",
       "    .dataframe thead th {\n",
       "        text-align: right;\n",
       "    }\n",
       "</style>\n",
       "<table border=\"1\" class=\"dataframe\">\n",
       "  <thead>\n",
       "    <tr style=\"text-align: right;\">\n",
       "      <th></th>\n",
       "      <th>age</th>\n",
       "      <th>survived</th>\n",
       "      <th>fare</th>\n",
       "      <th>sibsp</th>\n",
       "      <th>parch</th>\n",
       "    </tr>\n",
       "  </thead>\n",
       "  <tbody>\n",
       "    <tr>\n",
       "      <th>count</th>\n",
       "      <td>1046.000000</td>\n",
       "      <td>1309.000000</td>\n",
       "      <td>1308.000000</td>\n",
       "      <td>1309.000000</td>\n",
       "      <td>1309.000000</td>\n",
       "    </tr>\n",
       "    <tr>\n",
       "      <th>mean</th>\n",
       "      <td>29.881135</td>\n",
       "      <td>0.381971</td>\n",
       "      <td>33.295479</td>\n",
       "      <td>0.498854</td>\n",
       "      <td>0.385027</td>\n",
       "    </tr>\n",
       "    <tr>\n",
       "      <th>std</th>\n",
       "      <td>14.413500</td>\n",
       "      <td>0.486055</td>\n",
       "      <td>51.758668</td>\n",
       "      <td>1.041658</td>\n",
       "      <td>0.865560</td>\n",
       "    </tr>\n",
       "    <tr>\n",
       "      <th>min</th>\n",
       "      <td>0.166700</td>\n",
       "      <td>0.000000</td>\n",
       "      <td>0.000000</td>\n",
       "      <td>0.000000</td>\n",
       "      <td>0.000000</td>\n",
       "    </tr>\n",
       "    <tr>\n",
       "      <th>25%</th>\n",
       "      <td>21.000000</td>\n",
       "      <td>0.000000</td>\n",
       "      <td>7.895800</td>\n",
       "      <td>0.000000</td>\n",
       "      <td>0.000000</td>\n",
       "    </tr>\n",
       "    <tr>\n",
       "      <th>50%</th>\n",
       "      <td>28.000000</td>\n",
       "      <td>0.000000</td>\n",
       "      <td>14.454200</td>\n",
       "      <td>0.000000</td>\n",
       "      <td>0.000000</td>\n",
       "    </tr>\n",
       "    <tr>\n",
       "      <th>75%</th>\n",
       "      <td>39.000000</td>\n",
       "      <td>1.000000</td>\n",
       "      <td>31.275000</td>\n",
       "      <td>1.000000</td>\n",
       "      <td>0.000000</td>\n",
       "    </tr>\n",
       "    <tr>\n",
       "      <th>max</th>\n",
       "      <td>80.000000</td>\n",
       "      <td>1.000000</td>\n",
       "      <td>512.329200</td>\n",
       "      <td>8.000000</td>\n",
       "      <td>9.000000</td>\n",
       "    </tr>\n",
       "  </tbody>\n",
       "</table>\n",
       "</div>"
      ],
      "text/plain": [
       "               age     survived         fare        sibsp        parch\n",
       "count  1046.000000  1309.000000  1308.000000  1309.000000  1309.000000\n",
       "mean     29.881135     0.381971    33.295479     0.498854     0.385027\n",
       "std      14.413500     0.486055    51.758668     1.041658     0.865560\n",
       "min       0.166700     0.000000     0.000000     0.000000     0.000000\n",
       "25%      21.000000     0.000000     7.895800     0.000000     0.000000\n",
       "50%      28.000000     0.000000    14.454200     0.000000     0.000000\n",
       "75%      39.000000     1.000000    31.275000     1.000000     0.000000\n",
       "max      80.000000     1.000000   512.329200     8.000000     9.000000"
      ]
     },
     "execution_count": 56,
     "metadata": {},
     "output_type": "execute_result"
    }
   ],
   "source": [
    "NUM_FEATS = ['age', 'survived', 'fare', 'sibsp', 'parch']\n",
    "df[NUM_FEATS].describe()"
   ]
  },
  {
   "cell_type": "code",
   "execution_count": 57,
   "metadata": {
    "ExecuteTime": {
     "end_time": "2022-11-30T15:05:45.267764Z",
     "start_time": "2022-11-30T15:05:45.206926Z"
    },
    "id": "97H3v8W6CZHu",
    "outputId": "340dee16-bd92-494e-846a-8ff521a63ad5"
   },
   "outputs": [
    {
     "data": {
      "text/html": [
       "<div>\n",
       "<style scoped>\n",
       "    .dataframe tbody tr th:only-of-type {\n",
       "        vertical-align: middle;\n",
       "    }\n",
       "\n",
       "    .dataframe tbody tr th {\n",
       "        vertical-align: top;\n",
       "    }\n",
       "\n",
       "    .dataframe thead th {\n",
       "        text-align: right;\n",
       "    }\n",
       "</style>\n",
       "<table border=\"1\" class=\"dataframe\">\n",
       "  <thead>\n",
       "    <tr style=\"text-align: right;\">\n",
       "      <th></th>\n",
       "      <th>name</th>\n",
       "      <th>sex</th>\n",
       "      <th>ticket</th>\n",
       "      <th>cabin</th>\n",
       "      <th>embarked</th>\n",
       "      <th>boat</th>\n",
       "      <th>home.dest</th>\n",
       "    </tr>\n",
       "  </thead>\n",
       "  <tbody>\n",
       "    <tr>\n",
       "      <th>count</th>\n",
       "      <td>1309</td>\n",
       "      <td>1309</td>\n",
       "      <td>1309</td>\n",
       "      <td>295</td>\n",
       "      <td>1307</td>\n",
       "      <td>486</td>\n",
       "      <td>745</td>\n",
       "    </tr>\n",
       "    <tr>\n",
       "      <th>unique</th>\n",
       "      <td>1307</td>\n",
       "      <td>2</td>\n",
       "      <td>939</td>\n",
       "      <td>186</td>\n",
       "      <td>3</td>\n",
       "      <td>28</td>\n",
       "      <td>369</td>\n",
       "    </tr>\n",
       "    <tr>\n",
       "      <th>top</th>\n",
       "      <td>Connolly, Miss. Kate</td>\n",
       "      <td>male</td>\n",
       "      <td>CA. 2343</td>\n",
       "      <td>C23 C25 C27</td>\n",
       "      <td>S</td>\n",
       "      <td>13</td>\n",
       "      <td>New York, NY</td>\n",
       "    </tr>\n",
       "    <tr>\n",
       "      <th>freq</th>\n",
       "      <td>2</td>\n",
       "      <td>843</td>\n",
       "      <td>11</td>\n",
       "      <td>6</td>\n",
       "      <td>914</td>\n",
       "      <td>39</td>\n",
       "      <td>64</td>\n",
       "    </tr>\n",
       "  </tbody>\n",
       "</table>\n",
       "</div>"
      ],
      "text/plain": [
       "                        name   sex    ticket        cabin embarked boat  \\\n",
       "count                   1309  1309      1309          295     1307  486   \n",
       "unique                  1307     2       939          186        3   28   \n",
       "top     Connolly, Miss. Kate  male  CA. 2343  C23 C25 C27        S   13   \n",
       "freq                       2   843        11            6      914   39   \n",
       "\n",
       "           home.dest  \n",
       "count            745  \n",
       "unique           369  \n",
       "top     New York, NY  \n",
       "freq              64  "
      ]
     },
     "execution_count": 57,
     "metadata": {},
     "output_type": "execute_result"
    }
   ],
   "source": [
    "CAT_FEATS=['name', 'sex', 'ticket', 'cabin', 'embarked', 'boat', 'home.dest']\n",
    "df[CAT_FEATS].describe()"
   ]
  },
  {
   "cell_type": "code",
   "execution_count": 58,
   "metadata": {
    "ExecuteTime": {
     "end_time": "2022-11-30T15:05:45.299678Z",
     "start_time": "2022-11-30T15:05:45.270757Z"
    },
    "id": "23Su2Ls8CZHu",
    "outputId": "a06799f9-d8e2-4eb6-b92c-2bf42ecbeb00"
   },
   "outputs": [
    {
     "name": "stdout",
     "output_type": "stream",
     "text": [
      "<class 'pandas.core.frame.DataFrame'>\n",
      "RangeIndex: 1309 entries, 0 to 1308\n",
      "Data columns (total 14 columns):\n",
      " #   Column     Non-Null Count  Dtype  \n",
      "---  ------     --------------  -----  \n",
      " 0   pclass     1309 non-null   int64  \n",
      " 1   survived   1309 non-null   int64  \n",
      " 2   name       1309 non-null   object \n",
      " 3   sex        1309 non-null   object \n",
      " 4   age        1046 non-null   float64\n",
      " 5   sibsp      1309 non-null   int64  \n",
      " 6   parch      1309 non-null   int64  \n",
      " 7   ticket     1309 non-null   object \n",
      " 8   fare       1308 non-null   float64\n",
      " 9   cabin      295 non-null    object \n",
      " 10  embarked   1307 non-null   object \n",
      " 11  boat       486 non-null    object \n",
      " 12  body       121 non-null    float64\n",
      " 13  home.dest  745 non-null    object \n",
      "dtypes: float64(3), int64(4), object(7)\n",
      "memory usage: 143.3+ KB\n"
     ]
    }
   ],
   "source": [
    "df.info()"
   ]
  },
  {
   "cell_type": "code",
   "execution_count": 59,
   "metadata": {
    "ExecuteTime": {
     "end_time": "2022-11-30T15:05:45.314640Z",
     "start_time": "2022-11-30T15:05:45.303668Z"
    },
    "id": "CFcDUKO8CZHu",
    "outputId": "5c3d6a6e-410b-45a6-852a-f0441fd63d7c"
   },
   "outputs": [
    {
     "data": {
      "text/plain": [
       "pclass          0\n",
       "survived        0\n",
       "name            0\n",
       "sex             0\n",
       "age           263\n",
       "sibsp           0\n",
       "parch           0\n",
       "ticket          0\n",
       "fare            1\n",
       "cabin        1014\n",
       "embarked        2\n",
       "boat          823\n",
       "body         1188\n",
       "home.dest     564\n",
       "dtype: int64"
      ]
     },
     "execution_count": 59,
     "metadata": {},
     "output_type": "execute_result"
    }
   ],
   "source": [
    "df.isna().sum(axis=0)"
   ]
  },
  {
   "cell_type": "code",
   "execution_count": 60,
   "metadata": {
    "ExecuteTime": {
     "end_time": "2022-11-30T15:05:45.329601Z",
     "start_time": "2022-11-30T15:05:45.316635Z"
    },
    "id": "uXy75-BcCZHu",
    "outputId": "d54a4932-ec3f-4442-e11f-e7b40bf940b4"
   },
   "outputs": [
    {
     "data": {
      "text/plain": [
       "971     5\n",
       "813     5\n",
       "802     5\n",
       "931     5\n",
       "1027    5\n",
       "       ..\n",
       "143     1\n",
       "484     1\n",
       "141     1\n",
       "140     1\n",
       "0       1\n",
       "Length: 1309, dtype: int64"
      ]
     },
     "execution_count": 60,
     "metadata": {},
     "output_type": "execute_result"
    }
   ],
   "source": [
    "df.isna().sum(axis=1).sort_values(ascending = False)"
   ]
  },
  {
   "cell_type": "markdown",
   "metadata": {
    "id": "gvgLA_ywCZHu"
   },
   "source": [
    "What can we say about the data?\n",
    "\n",
    "We will deal with the missing values in the next session."
   ]
  },
  {
   "cell_type": "markdown",
   "metadata": {
    "id": "BWdySYKHCZHu"
   },
   "source": [
    "## Division to Numerical, Categorical and ID features"
   ]
  },
  {
   "cell_type": "markdown",
   "metadata": {
    "id": "shDndCBfCZHu"
   },
   "source": [
    "Before we keep exploring our data, we should mentally divide the features into two main groups - Numerical features and Categorical features.\n",
    "\n",
    "**Categorical features** are features that represent fixed amount of categories. Most of the time these values will be textual, with or without meaning to order within the categories, but sometimes the data can be numerical.\n",
    "Categorical features can be either nominal (with no meaning to the order), or ordinal (with meaning to the order)\n",
    "\n",
    "**Numerical features** are all features with values within a certain range of numbers. These features are always numerical (`int`, `float`, etc...)\n",
    "\n",
    "**ID features** - ID features, or semi ID features, are features that contain a unique value per row (or almost per row). As we are interested in statistical models, we can't really use this type of features because we can't conclude nothing from them. It is important to note it."
   ]
  },
  {
   "cell_type": "markdown",
   "metadata": {
    "id": "u4QsAxTuCZHu"
   },
   "source": [
    "How would you divide the features from the Titanic data?"
   ]
  },
  {
   "cell_type": "markdown",
   "metadata": {
    "id": "sIvCDT8WCZHu"
   },
   "source": [
    "## Data integrity"
   ]
  },
  {
   "cell_type": "markdown",
   "metadata": {
    "id": "SCsThhITCZHu"
   },
   "source": [
    "It is very important that you check for data integrity:\n",
    "\n",
    " 1. If your data dictionary states that a column should have certain values and it doesn't - raise a flag\n",
    " 2. If you have columns that are dependent of eachother but the data does not present this connection - raise a flag\n",
    " 3. If you have any duplicates - raise a flag / take care of it\n",
    " 4. If you have rows with the same independent features but different dependent feature - raise a flag. Your model will not know how to deal with this.\n",
    "\n",
    "In our data, one connection is between the `survived` and the `body` column. If there is a body number, it means that the person did not survive. We need to check that that is indeed the case:"
   ]
  },
  {
   "cell_type": "code",
   "execution_count": 61,
   "metadata": {
    "ExecuteTime": {
     "end_time": "2022-11-30T15:05:45.345590Z",
     "start_time": "2022-11-30T15:05:45.331593Z"
    },
    "id": "HxvTc-e9CZHv"
   },
   "outputs": [],
   "source": [
    "assert(df.loc[df['survived'] == 1, 'body'].isnull().all())"
   ]
  },
  {
   "cell_type": "markdown",
   "metadata": {
    "id": "4E2tHoKICZHv"
   },
   "source": [
    "Look at the assertion below - why isn't it working?"
   ]
  },
  {
   "cell_type": "code",
   "execution_count": 62,
   "metadata": {
    "ExecuteTime": {
     "end_time": "2022-11-30T15:05:45.487217Z",
     "start_time": "2022-11-30T15:05:45.346555Z"
    },
    "id": "2eXQWWt4CZHv",
    "outputId": "9270e973-af46-486f-f507-273bf4938a7d"
   },
   "outputs": [],
   "source": [
    "assert not (df.loc[df['survived'] == 0, 'body'].notnull().all())"
   ]
  },
  {
   "cell_type": "code",
   "execution_count": 63,
   "metadata": {
    "ExecuteTime": {
     "end_time": "2022-11-30T15:08:15.340168Z",
     "start_time": "2022-11-30T15:08:15.307295Z"
    },
    "id": "SW11sH9VCZHv",
    "outputId": "83426d5a-a847-4e89-9a26-b89a30905e9e"
   },
   "outputs": [
    {
     "data": {
      "text/html": [
       "<div>\n",
       "<style scoped>\n",
       "    .dataframe tbody tr th:only-of-type {\n",
       "        vertical-align: middle;\n",
       "    }\n",
       "\n",
       "    .dataframe tbody tr th {\n",
       "        vertical-align: top;\n",
       "    }\n",
       "\n",
       "    .dataframe thead th {\n",
       "        text-align: right;\n",
       "    }\n",
       "</style>\n",
       "<table border=\"1\" class=\"dataframe\">\n",
       "  <thead>\n",
       "    <tr style=\"text-align: right;\">\n",
       "      <th></th>\n",
       "      <th>pclass</th>\n",
       "      <th>survived</th>\n",
       "      <th>name</th>\n",
       "      <th>sex</th>\n",
       "      <th>age</th>\n",
       "      <th>sibsp</th>\n",
       "      <th>parch</th>\n",
       "      <th>ticket</th>\n",
       "      <th>fare</th>\n",
       "      <th>cabin</th>\n",
       "      <th>embarked</th>\n",
       "      <th>boat</th>\n",
       "      <th>body</th>\n",
       "      <th>home.dest</th>\n",
       "    </tr>\n",
       "  </thead>\n",
       "  <tbody>\n",
       "    <tr>\n",
       "      <th>19</th>\n",
       "      <td>1</td>\n",
       "      <td>0</td>\n",
       "      <td>Beattie, Mr. Thomson</td>\n",
       "      <td>male</td>\n",
       "      <td>36.0</td>\n",
       "      <td>0</td>\n",
       "      <td>0</td>\n",
       "      <td>13050</td>\n",
       "      <td>75.2417</td>\n",
       "      <td>C6</td>\n",
       "      <td>C</td>\n",
       "      <td>A</td>\n",
       "      <td>NaN</td>\n",
       "      <td>Winnipeg, MN</td>\n",
       "    </tr>\n",
       "    <tr>\n",
       "      <th>166</th>\n",
       "      <td>1</td>\n",
       "      <td>0</td>\n",
       "      <td>Hoyt, Mr. William Fisher</td>\n",
       "      <td>male</td>\n",
       "      <td>NaN</td>\n",
       "      <td>0</td>\n",
       "      <td>0</td>\n",
       "      <td>PC 17600</td>\n",
       "      <td>30.6958</td>\n",
       "      <td>NaN</td>\n",
       "      <td>C</td>\n",
       "      <td>14</td>\n",
       "      <td>NaN</td>\n",
       "      <td>New York, NY</td>\n",
       "    </tr>\n",
       "    <tr>\n",
       "      <th>544</th>\n",
       "      <td>2</td>\n",
       "      <td>0</td>\n",
       "      <td>Renouf, Mr. Peter Henry</td>\n",
       "      <td>male</td>\n",
       "      <td>34.0</td>\n",
       "      <td>1</td>\n",
       "      <td>0</td>\n",
       "      <td>31027</td>\n",
       "      <td>21.0000</td>\n",
       "      <td>NaN</td>\n",
       "      <td>S</td>\n",
       "      <td>12</td>\n",
       "      <td>NaN</td>\n",
       "      <td>Elizabeth, NJ</td>\n",
       "    </tr>\n",
       "    <tr>\n",
       "      <th>655</th>\n",
       "      <td>3</td>\n",
       "      <td>0</td>\n",
       "      <td>Backstrom, Mr. Karl Alfred</td>\n",
       "      <td>male</td>\n",
       "      <td>32.0</td>\n",
       "      <td>1</td>\n",
       "      <td>0</td>\n",
       "      <td>3101278</td>\n",
       "      <td>15.8500</td>\n",
       "      <td>NaN</td>\n",
       "      <td>S</td>\n",
       "      <td>D</td>\n",
       "      <td>NaN</td>\n",
       "      <td>Ruotsinphytaa, Finland New York, NY</td>\n",
       "    </tr>\n",
       "    <tr>\n",
       "      <th>853</th>\n",
       "      <td>3</td>\n",
       "      <td>0</td>\n",
       "      <td>Harmer, Mr. Abraham (David Lishin)</td>\n",
       "      <td>male</td>\n",
       "      <td>25.0</td>\n",
       "      <td>0</td>\n",
       "      <td>0</td>\n",
       "      <td>374887</td>\n",
       "      <td>7.2500</td>\n",
       "      <td>NaN</td>\n",
       "      <td>S</td>\n",
       "      <td>B</td>\n",
       "      <td>NaN</td>\n",
       "      <td>NaN</td>\n",
       "    </tr>\n",
       "    <tr>\n",
       "      <th>921</th>\n",
       "      <td>3</td>\n",
       "      <td>0</td>\n",
       "      <td>Keefe, Mr. Arthur</td>\n",
       "      <td>male</td>\n",
       "      <td>NaN</td>\n",
       "      <td>0</td>\n",
       "      <td>0</td>\n",
       "      <td>323592</td>\n",
       "      <td>7.2500</td>\n",
       "      <td>NaN</td>\n",
       "      <td>S</td>\n",
       "      <td>A</td>\n",
       "      <td>NaN</td>\n",
       "      <td>NaN</td>\n",
       "    </tr>\n",
       "    <tr>\n",
       "      <th>968</th>\n",
       "      <td>3</td>\n",
       "      <td>0</td>\n",
       "      <td>Lindell, Mr. Edvard Bengtsson</td>\n",
       "      <td>male</td>\n",
       "      <td>36.0</td>\n",
       "      <td>1</td>\n",
       "      <td>0</td>\n",
       "      <td>349910</td>\n",
       "      <td>15.5500</td>\n",
       "      <td>NaN</td>\n",
       "      <td>S</td>\n",
       "      <td>A</td>\n",
       "      <td>NaN</td>\n",
       "      <td>NaN</td>\n",
       "    </tr>\n",
       "    <tr>\n",
       "      <th>969</th>\n",
       "      <td>3</td>\n",
       "      <td>0</td>\n",
       "      <td>Lindell, Mrs. Edvard Bengtsson (Elin Gerda Per...</td>\n",
       "      <td>female</td>\n",
       "      <td>30.0</td>\n",
       "      <td>1</td>\n",
       "      <td>0</td>\n",
       "      <td>349910</td>\n",
       "      <td>15.5500</td>\n",
       "      <td>NaN</td>\n",
       "      <td>S</td>\n",
       "      <td>A</td>\n",
       "      <td>NaN</td>\n",
       "      <td>NaN</td>\n",
       "    </tr>\n",
       "    <tr>\n",
       "      <th>1299</th>\n",
       "      <td>3</td>\n",
       "      <td>0</td>\n",
       "      <td>Yasbeck, Mr. Antoni</td>\n",
       "      <td>male</td>\n",
       "      <td>27.0</td>\n",
       "      <td>1</td>\n",
       "      <td>0</td>\n",
       "      <td>2659</td>\n",
       "      <td>14.4542</td>\n",
       "      <td>NaN</td>\n",
       "      <td>C</td>\n",
       "      <td>C</td>\n",
       "      <td>NaN</td>\n",
       "      <td>NaN</td>\n",
       "    </tr>\n",
       "  </tbody>\n",
       "</table>\n",
       "</div>"
      ],
      "text/plain": [
       "      pclass  survived                                               name  \\\n",
       "19         1         0                               Beattie, Mr. Thomson   \n",
       "166        1         0                           Hoyt, Mr. William Fisher   \n",
       "544        2         0                            Renouf, Mr. Peter Henry   \n",
       "655        3         0                         Backstrom, Mr. Karl Alfred   \n",
       "853        3         0                 Harmer, Mr. Abraham (David Lishin)   \n",
       "921        3         0                                  Keefe, Mr. Arthur   \n",
       "968        3         0                      Lindell, Mr. Edvard Bengtsson   \n",
       "969        3         0  Lindell, Mrs. Edvard Bengtsson (Elin Gerda Per...   \n",
       "1299       3         0                                Yasbeck, Mr. Antoni   \n",
       "\n",
       "         sex   age  sibsp  parch    ticket     fare cabin embarked boat  body  \\\n",
       "19      male  36.0      0      0     13050  75.2417    C6        C    A   NaN   \n",
       "166     male   NaN      0      0  PC 17600  30.6958   NaN        C   14   NaN   \n",
       "544     male  34.0      1      0     31027  21.0000   NaN        S   12   NaN   \n",
       "655     male  32.0      1      0   3101278  15.8500   NaN        S    D   NaN   \n",
       "853     male  25.0      0      0    374887   7.2500   NaN        S    B   NaN   \n",
       "921     male   NaN      0      0    323592   7.2500   NaN        S    A   NaN   \n",
       "968     male  36.0      1      0    349910  15.5500   NaN        S    A   NaN   \n",
       "969   female  30.0      1      0    349910  15.5500   NaN        S    A   NaN   \n",
       "1299    male  27.0      1      0      2659  14.4542   NaN        C    C   NaN   \n",
       "\n",
       "                                home.dest  \n",
       "19                           Winnipeg, MN  \n",
       "166                          New York, NY  \n",
       "544                         Elizabeth, NJ  \n",
       "655   Ruotsinphytaa, Finland New York, NY  \n",
       "853                                   NaN  \n",
       "921                                   NaN  \n",
       "968                                   NaN  \n",
       "969                                   NaN  \n",
       "1299                                  NaN  "
      ]
     },
     "execution_count": 63,
     "metadata": {},
     "output_type": "execute_result"
    }
   ],
   "source": [
    "df.loc[(df['survived'] == 0) & df['boat'].notnull()]"
   ]
  },
  {
   "cell_type": "markdown",
   "metadata": {
    "id": "Dmh_zB9WCZHv"
   },
   "source": [
    "Look at the assertion below - why isn't it working?"
   ]
  },
  {
   "cell_type": "code",
   "execution_count": 64,
   "metadata": {
    "ExecuteTime": {
     "end_time": "2022-11-30T15:08:15.734618Z",
     "start_time": "2022-11-30T15:08:15.716706Z"
    },
    "id": "Zqwe0MN5CZHv",
    "outputId": "b5addafd-ab53-408b-9d60-f09ffb6a0be2"
   },
   "outputs": [],
   "source": [
    "assert not (df.loc[df['survived'] == 0, 'boat'].isnull()).all()"
   ]
  },
  {
   "cell_type": "code",
   "execution_count": 65,
   "metadata": {
    "ExecuteTime": {
     "end_time": "2022-11-30T15:08:15.925012Z",
     "start_time": "2022-11-30T15:08:15.908068Z"
    },
    "id": "RnR0c-ZSCZHv"
   },
   "outputs": [],
   "source": [
    "assert(df.loc[df['body'].notnull(), 'survived'] == False).all()"
   ]
  },
  {
   "cell_type": "markdown",
   "metadata": {
    "id": "g9cdDCJrCZHv"
   },
   "source": [
    "Let's also check that the age range for the passengers in between 0-120, if we will have negative values, it will be an issue:"
   ]
  },
  {
   "cell_type": "code",
   "execution_count": 66,
   "metadata": {
    "ExecuteTime": {
     "end_time": "2022-11-30T15:08:16.588479Z",
     "start_time": "2022-11-30T15:08:16.555528Z"
    },
    "id": "IVYUZMBxCZHv",
    "outputId": "35935730-ec76-4b7a-a357-d91b61df301b"
   },
   "outputs": [
    {
     "data": {
      "text/plain": [
       "min     0.1667\n",
       "max    80.0000\n",
       "Name: age, dtype: float64"
      ]
     },
     "execution_count": 66,
     "metadata": {},
     "output_type": "execute_result"
    }
   ],
   "source": [
    "df.describe().loc[['min', 'max'], 'age']"
   ]
  },
  {
   "cell_type": "markdown",
   "metadata": {
    "id": "3dh7jVXDCZHw"
   },
   "source": [
    "Let's see that the values in the `embarked` column are matching with the data dictionary:"
   ]
  },
  {
   "cell_type": "code",
   "execution_count": 67,
   "metadata": {
    "ExecuteTime": {
     "end_time": "2022-11-30T15:08:16.952471Z",
     "start_time": "2022-11-30T15:08:16.947479Z"
    },
    "id": "rvPopWbkCZHw",
    "outputId": "378835e5-cfe8-4848-b6c0-086311537dfd"
   },
   "outputs": [
    {
     "data": {
      "text/plain": [
       "{'C', 'Q', 'S', nan}"
      ]
     },
     "execution_count": 67,
     "metadata": {},
     "output_type": "execute_result"
    }
   ],
   "source": [
    "set(df.embarked)"
   ]
  },
  {
   "cell_type": "markdown",
   "metadata": {
    "id": "fDibPYyZCZHw"
   },
   "source": [
    "Finally, let's look at the ranges of `fare`:"
   ]
  },
  {
   "cell_type": "code",
   "execution_count": 68,
   "metadata": {
    "ExecuteTime": {
     "end_time": "2022-11-30T15:08:17.605138Z",
     "start_time": "2022-11-30T15:08:17.582197Z"
    },
    "id": "79swf-V6CZHw",
    "outputId": "549bcf60-e5a8-487a-d06d-11b5242e3aa1"
   },
   "outputs": [
    {
     "data": {
      "text/plain": [
       "min      0.0000\n",
       "max    512.3292\n",
       "Name: fare, dtype: float64"
      ]
     },
     "execution_count": 68,
     "metadata": {},
     "output_type": "execute_result"
    }
   ],
   "source": [
    "df.describe().loc[['min', 'max'], 'fare']"
   ]
  },
  {
   "cell_type": "markdown",
   "metadata": {
    "id": "q8UNW8EaCZHw"
   },
   "source": [
    "Does everything make sense?"
   ]
  },
  {
   "cell_type": "markdown",
   "metadata": {
    "id": "zXWZbv48CZHw"
   },
   "source": [
    "## Data distributions and co-plotting features"
   ]
  },
  {
   "cell_type": "code",
   "execution_count": 69,
   "metadata": {
    "ExecuteTime": {
     "end_time": "2022-11-30T15:08:18.046807Z",
     "start_time": "2022-11-30T15:08:18.022865Z"
    },
    "id": "8Q40y7F3CZHw",
    "outputId": "28b76563-9509-4945-a9d5-d3d67ea361e1"
   },
   "outputs": [
    {
     "ename": "URLError",
     "evalue": "<urlopen error [SSL: CERTIFICATE_VERIFY_FAILED] certificate verify failed: unable to get local issuer certificate (_ssl.c:1000)>",
     "output_type": "error",
     "traceback": [
      "\u001b[0;31m---------------------------------------------------------------------------\u001b[0m",
      "\u001b[0;31mSSLCertVerificationError\u001b[0m                  Traceback (most recent call last)",
      "File \u001b[0;32m/Library/Frameworks/Python.framework/Versions/3.12/lib/python3.12/urllib/request.py:1344\u001b[0m, in \u001b[0;36mAbstractHTTPHandler.do_open\u001b[0;34m(self, http_class, req, **http_conn_args)\u001b[0m\n\u001b[1;32m   1343\u001b[0m \u001b[38;5;28;01mtry\u001b[39;00m:\n\u001b[0;32m-> 1344\u001b[0m     \u001b[43mh\u001b[49m\u001b[38;5;241;43m.\u001b[39;49m\u001b[43mrequest\u001b[49m\u001b[43m(\u001b[49m\u001b[43mreq\u001b[49m\u001b[38;5;241;43m.\u001b[39;49m\u001b[43mget_method\u001b[49m\u001b[43m(\u001b[49m\u001b[43m)\u001b[49m\u001b[43m,\u001b[49m\u001b[43m \u001b[49m\u001b[43mreq\u001b[49m\u001b[38;5;241;43m.\u001b[39;49m\u001b[43mselector\u001b[49m\u001b[43m,\u001b[49m\u001b[43m \u001b[49m\u001b[43mreq\u001b[49m\u001b[38;5;241;43m.\u001b[39;49m\u001b[43mdata\u001b[49m\u001b[43m,\u001b[49m\u001b[43m \u001b[49m\u001b[43mheaders\u001b[49m\u001b[43m,\u001b[49m\n\u001b[1;32m   1345\u001b[0m \u001b[43m              \u001b[49m\u001b[43mencode_chunked\u001b[49m\u001b[38;5;241;43m=\u001b[39;49m\u001b[43mreq\u001b[49m\u001b[38;5;241;43m.\u001b[39;49m\u001b[43mhas_header\u001b[49m\u001b[43m(\u001b[49m\u001b[38;5;124;43m'\u001b[39;49m\u001b[38;5;124;43mTransfer-encoding\u001b[39;49m\u001b[38;5;124;43m'\u001b[39;49m\u001b[43m)\u001b[49m\u001b[43m)\u001b[49m\n\u001b[1;32m   1346\u001b[0m \u001b[38;5;28;01mexcept\u001b[39;00m \u001b[38;5;167;01mOSError\u001b[39;00m \u001b[38;5;28;01mas\u001b[39;00m err: \u001b[38;5;66;03m# timeout error\u001b[39;00m\n",
      "File \u001b[0;32m/Library/Frameworks/Python.framework/Versions/3.12/lib/python3.12/http/client.py:1327\u001b[0m, in \u001b[0;36mHTTPConnection.request\u001b[0;34m(self, method, url, body, headers, encode_chunked)\u001b[0m\n\u001b[1;32m   1326\u001b[0m \u001b[38;5;250m\u001b[39m\u001b[38;5;124;03m\"\"\"Send a complete request to the server.\"\"\"\u001b[39;00m\n\u001b[0;32m-> 1327\u001b[0m \u001b[38;5;28;43mself\u001b[39;49m\u001b[38;5;241;43m.\u001b[39;49m\u001b[43m_send_request\u001b[49m\u001b[43m(\u001b[49m\u001b[43mmethod\u001b[49m\u001b[43m,\u001b[49m\u001b[43m \u001b[49m\u001b[43murl\u001b[49m\u001b[43m,\u001b[49m\u001b[43m \u001b[49m\u001b[43mbody\u001b[49m\u001b[43m,\u001b[49m\u001b[43m \u001b[49m\u001b[43mheaders\u001b[49m\u001b[43m,\u001b[49m\u001b[43m \u001b[49m\u001b[43mencode_chunked\u001b[49m\u001b[43m)\u001b[49m\n",
      "File \u001b[0;32m/Library/Frameworks/Python.framework/Versions/3.12/lib/python3.12/http/client.py:1373\u001b[0m, in \u001b[0;36mHTTPConnection._send_request\u001b[0;34m(self, method, url, body, headers, encode_chunked)\u001b[0m\n\u001b[1;32m   1372\u001b[0m     body \u001b[38;5;241m=\u001b[39m _encode(body, \u001b[38;5;124m'\u001b[39m\u001b[38;5;124mbody\u001b[39m\u001b[38;5;124m'\u001b[39m)\n\u001b[0;32m-> 1373\u001b[0m \u001b[38;5;28;43mself\u001b[39;49m\u001b[38;5;241;43m.\u001b[39;49m\u001b[43mendheaders\u001b[49m\u001b[43m(\u001b[49m\u001b[43mbody\u001b[49m\u001b[43m,\u001b[49m\u001b[43m \u001b[49m\u001b[43mencode_chunked\u001b[49m\u001b[38;5;241;43m=\u001b[39;49m\u001b[43mencode_chunked\u001b[49m\u001b[43m)\u001b[49m\n",
      "File \u001b[0;32m/Library/Frameworks/Python.framework/Versions/3.12/lib/python3.12/http/client.py:1322\u001b[0m, in \u001b[0;36mHTTPConnection.endheaders\u001b[0;34m(self, message_body, encode_chunked)\u001b[0m\n\u001b[1;32m   1321\u001b[0m     \u001b[38;5;28;01mraise\u001b[39;00m CannotSendHeader()\n\u001b[0;32m-> 1322\u001b[0m \u001b[38;5;28;43mself\u001b[39;49m\u001b[38;5;241;43m.\u001b[39;49m\u001b[43m_send_output\u001b[49m\u001b[43m(\u001b[49m\u001b[43mmessage_body\u001b[49m\u001b[43m,\u001b[49m\u001b[43m \u001b[49m\u001b[43mencode_chunked\u001b[49m\u001b[38;5;241;43m=\u001b[39;49m\u001b[43mencode_chunked\u001b[49m\u001b[43m)\u001b[49m\n",
      "File \u001b[0;32m/Library/Frameworks/Python.framework/Versions/3.12/lib/python3.12/http/client.py:1081\u001b[0m, in \u001b[0;36mHTTPConnection._send_output\u001b[0;34m(self, message_body, encode_chunked)\u001b[0m\n\u001b[1;32m   1080\u001b[0m \u001b[38;5;28;01mdel\u001b[39;00m \u001b[38;5;28mself\u001b[39m\u001b[38;5;241m.\u001b[39m_buffer[:]\n\u001b[0;32m-> 1081\u001b[0m \u001b[38;5;28;43mself\u001b[39;49m\u001b[38;5;241;43m.\u001b[39;49m\u001b[43msend\u001b[49m\u001b[43m(\u001b[49m\u001b[43mmsg\u001b[49m\u001b[43m)\u001b[49m\n\u001b[1;32m   1083\u001b[0m \u001b[38;5;28;01mif\u001b[39;00m message_body \u001b[38;5;129;01mis\u001b[39;00m \u001b[38;5;129;01mnot\u001b[39;00m \u001b[38;5;28;01mNone\u001b[39;00m:\n\u001b[1;32m   1084\u001b[0m \n\u001b[1;32m   1085\u001b[0m     \u001b[38;5;66;03m# create a consistent interface to message_body\u001b[39;00m\n",
      "File \u001b[0;32m/Library/Frameworks/Python.framework/Versions/3.12/lib/python3.12/http/client.py:1025\u001b[0m, in \u001b[0;36mHTTPConnection.send\u001b[0;34m(self, data)\u001b[0m\n\u001b[1;32m   1024\u001b[0m \u001b[38;5;28;01mif\u001b[39;00m \u001b[38;5;28mself\u001b[39m\u001b[38;5;241m.\u001b[39mauto_open:\n\u001b[0;32m-> 1025\u001b[0m     \u001b[38;5;28;43mself\u001b[39;49m\u001b[38;5;241;43m.\u001b[39;49m\u001b[43mconnect\u001b[49m\u001b[43m(\u001b[49m\u001b[43m)\u001b[49m\n\u001b[1;32m   1026\u001b[0m \u001b[38;5;28;01melse\u001b[39;00m:\n",
      "File \u001b[0;32m/Library/Frameworks/Python.framework/Versions/3.12/lib/python3.12/http/client.py:1468\u001b[0m, in \u001b[0;36mHTTPSConnection.connect\u001b[0;34m(self)\u001b[0m\n\u001b[1;32m   1466\u001b[0m     server_hostname \u001b[38;5;241m=\u001b[39m \u001b[38;5;28mself\u001b[39m\u001b[38;5;241m.\u001b[39mhost\n\u001b[0;32m-> 1468\u001b[0m \u001b[38;5;28mself\u001b[39m\u001b[38;5;241m.\u001b[39msock \u001b[38;5;241m=\u001b[39m \u001b[38;5;28;43mself\u001b[39;49m\u001b[38;5;241;43m.\u001b[39;49m\u001b[43m_context\u001b[49m\u001b[38;5;241;43m.\u001b[39;49m\u001b[43mwrap_socket\u001b[49m\u001b[43m(\u001b[49m\u001b[38;5;28;43mself\u001b[39;49m\u001b[38;5;241;43m.\u001b[39;49m\u001b[43msock\u001b[49m\u001b[43m,\u001b[49m\n\u001b[1;32m   1469\u001b[0m \u001b[43m                                      \u001b[49m\u001b[43mserver_hostname\u001b[49m\u001b[38;5;241;43m=\u001b[39;49m\u001b[43mserver_hostname\u001b[49m\u001b[43m)\u001b[49m\n",
      "File \u001b[0;32m/Library/Frameworks/Python.framework/Versions/3.12/lib/python3.12/ssl.py:455\u001b[0m, in \u001b[0;36mSSLContext.wrap_socket\u001b[0;34m(self, sock, server_side, do_handshake_on_connect, suppress_ragged_eofs, server_hostname, session)\u001b[0m\n\u001b[1;32m    449\u001b[0m \u001b[38;5;28;01mdef\u001b[39;00m \u001b[38;5;21mwrap_socket\u001b[39m(\u001b[38;5;28mself\u001b[39m, sock, server_side\u001b[38;5;241m=\u001b[39m\u001b[38;5;28;01mFalse\u001b[39;00m,\n\u001b[1;32m    450\u001b[0m                 do_handshake_on_connect\u001b[38;5;241m=\u001b[39m\u001b[38;5;28;01mTrue\u001b[39;00m,\n\u001b[1;32m    451\u001b[0m                 suppress_ragged_eofs\u001b[38;5;241m=\u001b[39m\u001b[38;5;28;01mTrue\u001b[39;00m,\n\u001b[1;32m    452\u001b[0m                 server_hostname\u001b[38;5;241m=\u001b[39m\u001b[38;5;28;01mNone\u001b[39;00m, session\u001b[38;5;241m=\u001b[39m\u001b[38;5;28;01mNone\u001b[39;00m):\n\u001b[1;32m    453\u001b[0m     \u001b[38;5;66;03m# SSLSocket class handles server_hostname encoding before it calls\u001b[39;00m\n\u001b[1;32m    454\u001b[0m     \u001b[38;5;66;03m# ctx._wrap_socket()\u001b[39;00m\n\u001b[0;32m--> 455\u001b[0m     \u001b[38;5;28;01mreturn\u001b[39;00m \u001b[38;5;28;43mself\u001b[39;49m\u001b[38;5;241;43m.\u001b[39;49m\u001b[43msslsocket_class\u001b[49m\u001b[38;5;241;43m.\u001b[39;49m\u001b[43m_create\u001b[49m\u001b[43m(\u001b[49m\n\u001b[1;32m    456\u001b[0m \u001b[43m        \u001b[49m\u001b[43msock\u001b[49m\u001b[38;5;241;43m=\u001b[39;49m\u001b[43msock\u001b[49m\u001b[43m,\u001b[49m\n\u001b[1;32m    457\u001b[0m \u001b[43m        \u001b[49m\u001b[43mserver_side\u001b[49m\u001b[38;5;241;43m=\u001b[39;49m\u001b[43mserver_side\u001b[49m\u001b[43m,\u001b[49m\n\u001b[1;32m    458\u001b[0m \u001b[43m        \u001b[49m\u001b[43mdo_handshake_on_connect\u001b[49m\u001b[38;5;241;43m=\u001b[39;49m\u001b[43mdo_handshake_on_connect\u001b[49m\u001b[43m,\u001b[49m\n\u001b[1;32m    459\u001b[0m \u001b[43m        \u001b[49m\u001b[43msuppress_ragged_eofs\u001b[49m\u001b[38;5;241;43m=\u001b[39;49m\u001b[43msuppress_ragged_eofs\u001b[49m\u001b[43m,\u001b[49m\n\u001b[1;32m    460\u001b[0m \u001b[43m        \u001b[49m\u001b[43mserver_hostname\u001b[49m\u001b[38;5;241;43m=\u001b[39;49m\u001b[43mserver_hostname\u001b[49m\u001b[43m,\u001b[49m\n\u001b[1;32m    461\u001b[0m \u001b[43m        \u001b[49m\u001b[43mcontext\u001b[49m\u001b[38;5;241;43m=\u001b[39;49m\u001b[38;5;28;43mself\u001b[39;49m\u001b[43m,\u001b[49m\n\u001b[1;32m    462\u001b[0m \u001b[43m        \u001b[49m\u001b[43msession\u001b[49m\u001b[38;5;241;43m=\u001b[39;49m\u001b[43msession\u001b[49m\n\u001b[1;32m    463\u001b[0m \u001b[43m    \u001b[49m\u001b[43m)\u001b[49m\n",
      "File \u001b[0;32m/Library/Frameworks/Python.framework/Versions/3.12/lib/python3.12/ssl.py:1046\u001b[0m, in \u001b[0;36mSSLSocket._create\u001b[0;34m(cls, sock, server_side, do_handshake_on_connect, suppress_ragged_eofs, server_hostname, context, session)\u001b[0m\n\u001b[1;32m   1045\u001b[0m             \u001b[38;5;28;01mraise\u001b[39;00m \u001b[38;5;167;01mValueError\u001b[39;00m(\u001b[38;5;124m\"\u001b[39m\u001b[38;5;124mdo_handshake_on_connect should not be specified for non-blocking sockets\u001b[39m\u001b[38;5;124m\"\u001b[39m)\n\u001b[0;32m-> 1046\u001b[0m         \u001b[38;5;28;43mself\u001b[39;49m\u001b[38;5;241;43m.\u001b[39;49m\u001b[43mdo_handshake\u001b[49m\u001b[43m(\u001b[49m\u001b[43m)\u001b[49m\n\u001b[1;32m   1047\u001b[0m \u001b[38;5;28;01mexcept\u001b[39;00m (\u001b[38;5;167;01mOSError\u001b[39;00m, \u001b[38;5;167;01mValueError\u001b[39;00m):\n",
      "File \u001b[0;32m/Library/Frameworks/Python.framework/Versions/3.12/lib/python3.12/ssl.py:1321\u001b[0m, in \u001b[0;36mSSLSocket.do_handshake\u001b[0;34m(self, block)\u001b[0m\n\u001b[1;32m   1320\u001b[0m         \u001b[38;5;28mself\u001b[39m\u001b[38;5;241m.\u001b[39msettimeout(\u001b[38;5;28;01mNone\u001b[39;00m)\n\u001b[0;32m-> 1321\u001b[0m     \u001b[38;5;28;43mself\u001b[39;49m\u001b[38;5;241;43m.\u001b[39;49m\u001b[43m_sslobj\u001b[49m\u001b[38;5;241;43m.\u001b[39;49m\u001b[43mdo_handshake\u001b[49m\u001b[43m(\u001b[49m\u001b[43m)\u001b[49m\n\u001b[1;32m   1322\u001b[0m \u001b[38;5;28;01mfinally\u001b[39;00m:\n",
      "\u001b[0;31mSSLCertVerificationError\u001b[0m: [SSL: CERTIFICATE_VERIFY_FAILED] certificate verify failed: unable to get local issuer certificate (_ssl.c:1000)",
      "\nDuring handling of the above exception, another exception occurred:\n",
      "\u001b[0;31mURLError\u001b[0m                                  Traceback (most recent call last)",
      "Cell \u001b[0;32mIn[69], line 1\u001b[0m\n\u001b[0;32m----> 1\u001b[0m df_tips \u001b[38;5;241m=\u001b[39m \u001b[43msns\u001b[49m\u001b[38;5;241;43m.\u001b[39;49m\u001b[43mload_dataset\u001b[49m\u001b[43m(\u001b[49m\u001b[38;5;124;43m\"\u001b[39;49m\u001b[38;5;124;43mtips\u001b[39;49m\u001b[38;5;124;43m\"\u001b[39;49m\u001b[43m)\u001b[49m\n\u001b[1;32m      2\u001b[0m df_tips\u001b[38;5;241m.\u001b[39msample(\u001b[38;5;241m10\u001b[39m)\n",
      "File \u001b[0;32m/Library/Frameworks/Python.framework/Versions/3.12/lib/python3.12/site-packages/seaborn/utils.py:595\u001b[0m, in \u001b[0;36mload_dataset\u001b[0;34m(name, cache, data_home, **kws)\u001b[0m\n\u001b[1;32m    593\u001b[0m cache_path \u001b[38;5;241m=\u001b[39m os\u001b[38;5;241m.\u001b[39mpath\u001b[38;5;241m.\u001b[39mjoin(get_data_home(data_home), os\u001b[38;5;241m.\u001b[39mpath\u001b[38;5;241m.\u001b[39mbasename(url))\n\u001b[1;32m    594\u001b[0m \u001b[38;5;28;01mif\u001b[39;00m \u001b[38;5;129;01mnot\u001b[39;00m os\u001b[38;5;241m.\u001b[39mpath\u001b[38;5;241m.\u001b[39mexists(cache_path):\n\u001b[0;32m--> 595\u001b[0m     \u001b[38;5;28;01mif\u001b[39;00m name \u001b[38;5;129;01mnot\u001b[39;00m \u001b[38;5;129;01min\u001b[39;00m \u001b[43mget_dataset_names\u001b[49m\u001b[43m(\u001b[49m\u001b[43m)\u001b[49m:\n\u001b[1;32m    596\u001b[0m         \u001b[38;5;28;01mraise\u001b[39;00m \u001b[38;5;167;01mValueError\u001b[39;00m(\u001b[38;5;124mf\u001b[39m\u001b[38;5;124m\"\u001b[39m\u001b[38;5;124m'\u001b[39m\u001b[38;5;132;01m{\u001b[39;00mname\u001b[38;5;132;01m}\u001b[39;00m\u001b[38;5;124m'\u001b[39m\u001b[38;5;124m is not one of the example datasets.\u001b[39m\u001b[38;5;124m\"\u001b[39m)\n\u001b[1;32m    597\u001b[0m     urlretrieve(url, cache_path)\n",
      "File \u001b[0;32m/Library/Frameworks/Python.framework/Versions/3.12/lib/python3.12/site-packages/seaborn/utils.py:522\u001b[0m, in \u001b[0;36mget_dataset_names\u001b[0;34m()\u001b[0m\n\u001b[1;32m    516\u001b[0m \u001b[38;5;28;01mdef\u001b[39;00m \u001b[38;5;21mget_dataset_names\u001b[39m():\n\u001b[1;32m    517\u001b[0m \u001b[38;5;250m    \u001b[39m\u001b[38;5;124;03m\"\"\"Report available example datasets, useful for reporting issues.\u001b[39;00m\n\u001b[1;32m    518\u001b[0m \n\u001b[1;32m    519\u001b[0m \u001b[38;5;124;03m    Requires an internet connection.\u001b[39;00m\n\u001b[1;32m    520\u001b[0m \n\u001b[1;32m    521\u001b[0m \u001b[38;5;124;03m    \"\"\"\u001b[39;00m\n\u001b[0;32m--> 522\u001b[0m     \u001b[38;5;28;01mwith\u001b[39;00m \u001b[43murlopen\u001b[49m\u001b[43m(\u001b[49m\u001b[43mDATASET_NAMES_URL\u001b[49m\u001b[43m)\u001b[49m \u001b[38;5;28;01mas\u001b[39;00m resp:\n\u001b[1;32m    523\u001b[0m         txt \u001b[38;5;241m=\u001b[39m resp\u001b[38;5;241m.\u001b[39mread()\n\u001b[1;32m    525\u001b[0m     dataset_names \u001b[38;5;241m=\u001b[39m [name\u001b[38;5;241m.\u001b[39mstrip() \u001b[38;5;28;01mfor\u001b[39;00m name \u001b[38;5;129;01min\u001b[39;00m txt\u001b[38;5;241m.\u001b[39mdecode()\u001b[38;5;241m.\u001b[39msplit(\u001b[38;5;124m\"\u001b[39m\u001b[38;5;130;01m\\n\u001b[39;00m\u001b[38;5;124m\"\u001b[39m)]\n",
      "File \u001b[0;32m/Library/Frameworks/Python.framework/Versions/3.12/lib/python3.12/urllib/request.py:215\u001b[0m, in \u001b[0;36murlopen\u001b[0;34m(url, data, timeout, cafile, capath, cadefault, context)\u001b[0m\n\u001b[1;32m    213\u001b[0m \u001b[38;5;28;01melse\u001b[39;00m:\n\u001b[1;32m    214\u001b[0m     opener \u001b[38;5;241m=\u001b[39m _opener\n\u001b[0;32m--> 215\u001b[0m \u001b[38;5;28;01mreturn\u001b[39;00m \u001b[43mopener\u001b[49m\u001b[38;5;241;43m.\u001b[39;49m\u001b[43mopen\u001b[49m\u001b[43m(\u001b[49m\u001b[43murl\u001b[49m\u001b[43m,\u001b[49m\u001b[43m \u001b[49m\u001b[43mdata\u001b[49m\u001b[43m,\u001b[49m\u001b[43m \u001b[49m\u001b[43mtimeout\u001b[49m\u001b[43m)\u001b[49m\n",
      "File \u001b[0;32m/Library/Frameworks/Python.framework/Versions/3.12/lib/python3.12/urllib/request.py:515\u001b[0m, in \u001b[0;36mOpenerDirector.open\u001b[0;34m(self, fullurl, data, timeout)\u001b[0m\n\u001b[1;32m    512\u001b[0m     req \u001b[38;5;241m=\u001b[39m meth(req)\n\u001b[1;32m    514\u001b[0m sys\u001b[38;5;241m.\u001b[39maudit(\u001b[38;5;124m'\u001b[39m\u001b[38;5;124murllib.Request\u001b[39m\u001b[38;5;124m'\u001b[39m, req\u001b[38;5;241m.\u001b[39mfull_url, req\u001b[38;5;241m.\u001b[39mdata, req\u001b[38;5;241m.\u001b[39mheaders, req\u001b[38;5;241m.\u001b[39mget_method())\n\u001b[0;32m--> 515\u001b[0m response \u001b[38;5;241m=\u001b[39m \u001b[38;5;28;43mself\u001b[39;49m\u001b[38;5;241;43m.\u001b[39;49m\u001b[43m_open\u001b[49m\u001b[43m(\u001b[49m\u001b[43mreq\u001b[49m\u001b[43m,\u001b[49m\u001b[43m \u001b[49m\u001b[43mdata\u001b[49m\u001b[43m)\u001b[49m\n\u001b[1;32m    517\u001b[0m \u001b[38;5;66;03m# post-process response\u001b[39;00m\n\u001b[1;32m    518\u001b[0m meth_name \u001b[38;5;241m=\u001b[39m protocol\u001b[38;5;241m+\u001b[39m\u001b[38;5;124m\"\u001b[39m\u001b[38;5;124m_response\u001b[39m\u001b[38;5;124m\"\u001b[39m\n",
      "File \u001b[0;32m/Library/Frameworks/Python.framework/Versions/3.12/lib/python3.12/urllib/request.py:532\u001b[0m, in \u001b[0;36mOpenerDirector._open\u001b[0;34m(self, req, data)\u001b[0m\n\u001b[1;32m    529\u001b[0m     \u001b[38;5;28;01mreturn\u001b[39;00m result\n\u001b[1;32m    531\u001b[0m protocol \u001b[38;5;241m=\u001b[39m req\u001b[38;5;241m.\u001b[39mtype\n\u001b[0;32m--> 532\u001b[0m result \u001b[38;5;241m=\u001b[39m \u001b[38;5;28;43mself\u001b[39;49m\u001b[38;5;241;43m.\u001b[39;49m\u001b[43m_call_chain\u001b[49m\u001b[43m(\u001b[49m\u001b[38;5;28;43mself\u001b[39;49m\u001b[38;5;241;43m.\u001b[39;49m\u001b[43mhandle_open\u001b[49m\u001b[43m,\u001b[49m\u001b[43m \u001b[49m\u001b[43mprotocol\u001b[49m\u001b[43m,\u001b[49m\u001b[43m \u001b[49m\u001b[43mprotocol\u001b[49m\u001b[43m \u001b[49m\u001b[38;5;241;43m+\u001b[39;49m\n\u001b[1;32m    533\u001b[0m \u001b[43m                          \u001b[49m\u001b[38;5;124;43m'\u001b[39;49m\u001b[38;5;124;43m_open\u001b[39;49m\u001b[38;5;124;43m'\u001b[39;49m\u001b[43m,\u001b[49m\u001b[43m \u001b[49m\u001b[43mreq\u001b[49m\u001b[43m)\u001b[49m\n\u001b[1;32m    534\u001b[0m \u001b[38;5;28;01mif\u001b[39;00m result:\n\u001b[1;32m    535\u001b[0m     \u001b[38;5;28;01mreturn\u001b[39;00m result\n",
      "File \u001b[0;32m/Library/Frameworks/Python.framework/Versions/3.12/lib/python3.12/urllib/request.py:492\u001b[0m, in \u001b[0;36mOpenerDirector._call_chain\u001b[0;34m(self, chain, kind, meth_name, *args)\u001b[0m\n\u001b[1;32m    490\u001b[0m \u001b[38;5;28;01mfor\u001b[39;00m handler \u001b[38;5;129;01min\u001b[39;00m handlers:\n\u001b[1;32m    491\u001b[0m     func \u001b[38;5;241m=\u001b[39m \u001b[38;5;28mgetattr\u001b[39m(handler, meth_name)\n\u001b[0;32m--> 492\u001b[0m     result \u001b[38;5;241m=\u001b[39m \u001b[43mfunc\u001b[49m\u001b[43m(\u001b[49m\u001b[38;5;241;43m*\u001b[39;49m\u001b[43margs\u001b[49m\u001b[43m)\u001b[49m\n\u001b[1;32m    493\u001b[0m     \u001b[38;5;28;01mif\u001b[39;00m result \u001b[38;5;129;01mis\u001b[39;00m \u001b[38;5;129;01mnot\u001b[39;00m \u001b[38;5;28;01mNone\u001b[39;00m:\n\u001b[1;32m    494\u001b[0m         \u001b[38;5;28;01mreturn\u001b[39;00m result\n",
      "File \u001b[0;32m/Library/Frameworks/Python.framework/Versions/3.12/lib/python3.12/urllib/request.py:1392\u001b[0m, in \u001b[0;36mHTTPSHandler.https_open\u001b[0;34m(self, req)\u001b[0m\n\u001b[1;32m   1391\u001b[0m \u001b[38;5;28;01mdef\u001b[39;00m \u001b[38;5;21mhttps_open\u001b[39m(\u001b[38;5;28mself\u001b[39m, req):\n\u001b[0;32m-> 1392\u001b[0m     \u001b[38;5;28;01mreturn\u001b[39;00m \u001b[38;5;28;43mself\u001b[39;49m\u001b[38;5;241;43m.\u001b[39;49m\u001b[43mdo_open\u001b[49m\u001b[43m(\u001b[49m\u001b[43mhttp\u001b[49m\u001b[38;5;241;43m.\u001b[39;49m\u001b[43mclient\u001b[49m\u001b[38;5;241;43m.\u001b[39;49m\u001b[43mHTTPSConnection\u001b[49m\u001b[43m,\u001b[49m\u001b[43m \u001b[49m\u001b[43mreq\u001b[49m\u001b[43m,\u001b[49m\n\u001b[1;32m   1393\u001b[0m \u001b[43m                        \u001b[49m\u001b[43mcontext\u001b[49m\u001b[38;5;241;43m=\u001b[39;49m\u001b[38;5;28;43mself\u001b[39;49m\u001b[38;5;241;43m.\u001b[39;49m\u001b[43m_context\u001b[49m\u001b[43m)\u001b[49m\n",
      "File \u001b[0;32m/Library/Frameworks/Python.framework/Versions/3.12/lib/python3.12/urllib/request.py:1347\u001b[0m, in \u001b[0;36mAbstractHTTPHandler.do_open\u001b[0;34m(self, http_class, req, **http_conn_args)\u001b[0m\n\u001b[1;32m   1344\u001b[0m         h\u001b[38;5;241m.\u001b[39mrequest(req\u001b[38;5;241m.\u001b[39mget_method(), req\u001b[38;5;241m.\u001b[39mselector, req\u001b[38;5;241m.\u001b[39mdata, headers,\n\u001b[1;32m   1345\u001b[0m                   encode_chunked\u001b[38;5;241m=\u001b[39mreq\u001b[38;5;241m.\u001b[39mhas_header(\u001b[38;5;124m'\u001b[39m\u001b[38;5;124mTransfer-encoding\u001b[39m\u001b[38;5;124m'\u001b[39m))\n\u001b[1;32m   1346\u001b[0m     \u001b[38;5;28;01mexcept\u001b[39;00m \u001b[38;5;167;01mOSError\u001b[39;00m \u001b[38;5;28;01mas\u001b[39;00m err: \u001b[38;5;66;03m# timeout error\u001b[39;00m\n\u001b[0;32m-> 1347\u001b[0m         \u001b[38;5;28;01mraise\u001b[39;00m URLError(err)\n\u001b[1;32m   1348\u001b[0m     r \u001b[38;5;241m=\u001b[39m h\u001b[38;5;241m.\u001b[39mgetresponse()\n\u001b[1;32m   1349\u001b[0m \u001b[38;5;28;01mexcept\u001b[39;00m:\n",
      "\u001b[0;31mURLError\u001b[0m: <urlopen error [SSL: CERTIFICATE_VERIFY_FAILED] certificate verify failed: unable to get local issuer certificate (_ssl.c:1000)>"
     ]
    }
   ],
   "source": [
    "df_tips = sns.load_dataset(\"tips\")\n",
    "df_tips.sample(10)"
   ]
  },
  {
   "cell_type": "markdown",
   "metadata": {
    "id": "uDQqwMBcCZHw"
   },
   "source": [
    "### General reminder - Co-plotting features\n",
    "\n",
    "Generally, there are 3 combinations of features we would need to show, according to the data type:\n",
    "\n",
    "1. **Continuous vs. Continuous (or numerical discrete if enough values exist)**\n",
    "\n",
    "    Common plots - Scatter plot\n",
    "    \n",
    "    *Example:*"
   ]
  },
  {
   "cell_type": "code",
   "execution_count": null,
   "metadata": {
    "ExecuteTime": {
     "end_time": "2022-11-30T15:08:18.776297Z",
     "start_time": "2022-11-30T15:08:18.602740Z"
    },
    "id": "-dvcaE1HCZHx",
    "outputId": "ab48d561-255b-44eb-a979-f448cbfdabcb"
   },
   "outputs": [],
   "source": [
    "sns.scatterplot(data=df_tips, x=\"total_bill\", y=\"tip\", hue='sex')\n",
    "plt.title('tips as a function of total bill');"
   ]
  },
  {
   "cell_type": "markdown",
   "metadata": {
    "id": "tk3cfmgdCZHx"
   },
   "source": [
    "Example of a BAD plot:"
   ]
  },
  {
   "cell_type": "code",
   "execution_count": null,
   "metadata": {
    "ExecuteTime": {
     "end_time": "2022-11-30T15:08:18.918873Z",
     "start_time": "2022-11-30T15:08:18.778259Z"
    },
    "id": "MoBLTd1ICZHy",
    "outputId": "fd88cd9d-fba8-4c54-90e2-2c49269f02bc"
   },
   "outputs": [],
   "source": [
    "plt.figure(facecolor='xkcd:light red')\n",
    "sns.scatterplot(data=df_tips, x=\"sex\", y=\"tip\", hue='sex')\n",
    "plt.title('tips as a function of sex');"
   ]
  },
  {
   "cell_type": "markdown",
   "metadata": {
    "id": "-Fy23aFRCZHy"
   },
   "source": [
    "2. **Continuous vs. Discrete / Categorical**\n",
    "\n",
    "    Common plots - Box plot plot, KDE plot by group, Histogram by group\n",
    "    \n",
    "    **You can use this with numerical discrete vs. categorical if the discrete feature has enough unique values\n",
    "    \n",
    "    *Example:*"
   ]
  },
  {
   "cell_type": "code",
   "execution_count": null,
   "metadata": {
    "ExecuteTime": {
     "end_time": "2022-11-30T15:08:19.426546Z",
     "start_time": "2022-11-30T15:08:18.921868Z"
    },
    "id": "8yNoP5tqCZHy",
    "outputId": "67e5a4f5-67a2-449f-a344-00cc21ad1ec2"
   },
   "outputs": [],
   "source": [
    "sns.boxplot(data=df_tips, x=\"total_bill\", y=\"sex\")\n",
    "plt.title('Total bill as a function of sex')\n",
    "plt.show()\n",
    "sns.kdeplot(data=df_tips, x=\"total_bill\", hue=\"sex\")\n",
    "plt.title('Total bill as a function of sex')\n",
    "plt.show()\n",
    "sns.histplot(data=df_tips, x=\"total_bill\", hue=\"sex\");\n",
    "plt.title('Total tip as a function of sex');"
   ]
  },
  {
   "cell_type": "markdown",
   "metadata": {
    "id": "Ni-Jqe74CZHy"
   },
   "source": [
    "Example of BAD plots:"
   ]
  },
  {
   "cell_type": "code",
   "execution_count": null,
   "metadata": {
    "ExecuteTime": {
     "end_time": "2022-11-30T15:08:21.554895Z",
     "start_time": "2022-11-30T15:08:19.428515Z"
    },
    "id": "WXVq7xQoCZHy",
    "outputId": "0a79657c-ca39-46cb-8cd2-21d307ade877"
   },
   "outputs": [],
   "source": [
    "plt.figure(facecolor='xkcd:light red')\n",
    "sns.boxplot(data=df_tips, x=\"tip\", y=\"total_bill\")\n",
    "plt.title('Total tip as a function of tip')\n",
    "plt.show()\n",
    "plt.figure(facecolor='xkcd:light red')\n",
    "sns.kdeplot(data=df_tips, x=\"size\", hue=\"sex\")\n",
    "plt.title('Size as a function of sex')\n",
    "plt.show()"
   ]
  },
  {
   "cell_type": "markdown",
   "metadata": {
    "id": "Zcejh_rJCZHy"
   },
   "source": [
    "3. **Discrete / Categorical vs. Discrete / Categorical**\n",
    "\n",
    "    Common plots - bar plot\n",
    "    \n",
    "    *Example:*"
   ]
  },
  {
   "cell_type": "code",
   "execution_count": null,
   "metadata": {
    "ExecuteTime": {
     "end_time": "2022-11-30T15:08:21.681513Z",
     "start_time": "2022-11-30T15:08:21.556847Z"
    },
    "id": "Eyn9xT0CCZHy",
    "outputId": "dbbf334b-d550-48a3-d4aa-64c606f05aa8"
   },
   "outputs": [],
   "source": [
    "sns.countplot(data=df_tips, x=\"sex\", hue=\"smoker\");"
   ]
  },
  {
   "cell_type": "markdown",
   "metadata": {
    "id": "KMrNr6qNCZHy"
   },
   "source": [
    "Example of BAD plots:"
   ]
  },
  {
   "cell_type": "code",
   "execution_count": null,
   "metadata": {
    "ExecuteTime": {
     "end_time": "2022-11-30T15:08:23.552531Z",
     "start_time": "2022-11-30T15:08:21.684549Z"
    },
    "id": "vsf-1ayGCZHz",
    "outputId": "47b21038-d68d-4129-96aa-176ffcb3600e"
   },
   "outputs": [],
   "source": [
    "plt.figure(facecolor='xkcd:light red')\n",
    "sns.countplot(data=df_tips, x=\"tip\", hue=\"smoker\")\n",
    "plt.title('tips as a function of smoker');"
   ]
  },
  {
   "cell_type": "markdown",
   "metadata": {
    "id": "gMFWAgGnCZHz"
   },
   "source": [
    "### Looking at data distributions of the features against the dependent variable"
   ]
  },
  {
   "cell_type": "markdown",
   "metadata": {
    "id": "po6XMgvtCZHz"
   },
   "source": [
    "Often, it is useful to look at the independent features, in comparison to the dependent variable, to see any immidiate relations, get a feeling of that to expect, and derive business conclusions for our business stake-holders."
   ]
  },
  {
   "cell_type": "markdown",
   "metadata": {
    "id": "NK6-qaRfCZHz"
   },
   "source": [
    "#### Categorical features vs. `survived` in the titanic dataset"
   ]
  },
  {
   "cell_type": "code",
   "execution_count": null,
   "metadata": {
    "ExecuteTime": {
     "end_time": "2022-11-30T15:08:23.614390Z",
     "start_time": "2022-11-30T15:08:23.554524Z"
    },
    "id": "ookGvhWTCZHz",
    "outputId": "05771679-fc20-4c9c-f1e3-6f5e0b93d6fd"
   },
   "outputs": [],
   "source": [
    "# crosstab percentage tables for the categorical variables X survived\n",
    "\n",
    "CAT_FEATS = ['pclass', 'sex','embarked']\n",
    "for cat_var in CAT_FEATS:\n",
    "    display(pd.crosstab(df[cat_var],df['survived']).apply(lambda r:\n",
    "                                                        round(r/r.sum(),2),\n",
    "                                                        axis=1))\n"
   ]
  },
  {
   "cell_type": "code",
   "execution_count": null,
   "metadata": {
    "ExecuteTime": {
     "end_time": "2022-11-30T15:08:23.646325Z",
     "start_time": "2022-11-30T15:08:23.616360Z"
    },
    "id": "tQ95qAW_CZHz",
    "outputId": "10930099-0217-4862-e73d-48764ca85354"
   },
   "outputs": [],
   "source": [
    "pd.crosstab(df[cat_var],df['survived'])"
   ]
  },
  {
   "cell_type": "markdown",
   "metadata": {
    "id": "Q241McK0CZHz"
   },
   "source": [
    "This is useful, but hard to understand. It would be more beneficial to plot these crosstabs. So the barplot is our rescue."
   ]
  },
  {
   "cell_type": "code",
   "execution_count": null,
   "metadata": {
    "ExecuteTime": {
     "end_time": "2022-11-30T15:08:24.202802Z",
     "start_time": "2022-11-30T15:08:23.648274Z"
    },
    "id": "HzfCnNJQCZHz",
    "outputId": "fd803409-7fcb-495a-a8af-7d604b3fe72f"
   },
   "outputs": [],
   "source": [
    "sns.set(style=\"darkgrid\")\n",
    "\n",
    "ax = sns.countplot(x = \"survived\", data=df)\n",
    "plt.title('Distribution of Survived')\n",
    "plt.show()\n",
    "\n",
    "for cat_var in CAT_FEATS:\n",
    "    ax = sns.countplot(x = df.survived,  hue = df[cat_var], data=df)\n",
    "    plt.title('Distribution of Survived vs. {}'.format(cat_var))\n",
    "    plt.show()"
   ]
  },
  {
   "cell_type": "markdown",
   "metadata": {
    "id": "qQlUDq9mCZH0"
   },
   "source": [
    "Another nice way to look at the data, is by percentage, e.g. what is the percentage of the people who survived, were Female? Let's plot the percentage of values. Do not forget to ease your customer by annotating:"
   ]
  },
  {
   "cell_type": "code",
   "execution_count": null,
   "metadata": {
    "ExecuteTime": {
     "end_time": "2022-11-30T15:08:24.409292Z",
     "start_time": "2022-11-30T15:08:24.206788Z"
    },
    "id": "9w8U9WR8CZH0",
    "outputId": "027fb2b4-605c-43d2-efb1-19e9bff2e5e0"
   },
   "outputs": [],
   "source": [
    "FEAT = 'pclass'\n",
    "\n",
    "# calculating the percentages\n",
    "data = pd.DataFrame(pd.crosstab(df[FEAT],df['survived']).\\\n",
    "                    apply(lambda r: round(r/r.sum(),2), axis=1).unstack()).\\\n",
    "                    reset_index()\n",
    "\n",
    "# plotting\n",
    "g = sns.barplot(x = data['survived'], y=data[0], hue = data[FEAT])\n",
    "plt.title('Distribution of Survived vs. {}\\n'.format(FEAT))\n",
    "plt.ylabel('%')\n",
    "\n",
    "# plotting the tags above the bars\n",
    "for p in g.patches:\n",
    "    g.annotate(format(p.get_height(), '.0%'), \\\n",
    "               (p.get_x() + p.get_width() / 2., \\\n",
    "                p.get_height()), \\\n",
    "               ha = 'center', \\\n",
    "               va = 'center', \\\n",
    "               xytext = (0, 10), \\\n",
    "               textcoords = 'offset points')"
   ]
  },
  {
   "cell_type": "markdown",
   "metadata": {
    "id": "fcg_tL4WCZH0"
   },
   "source": [
    "we can see that:\n",
    "1. the vast majority of pclass 3 didn't survive. In the contrary most of pclass 1 survived\n",
    "2. most of the female survived while most of the men didn't\n",
    "3. most of the passangers that embarked in Cherbourg survived, in compare to ~33% in the other ports"
   ]
  },
  {
   "cell_type": "markdown",
   "metadata": {
    "id": "qR9WS1bXCZH0"
   },
   "source": [
    "#### Continuous features vs. `survived` in the totnic dataset"
   ]
  },
  {
   "cell_type": "markdown",
   "metadata": {
    "id": "m5lJVZqSCZH0"
   },
   "source": [
    "For numerical features, it's better to look on survival **rates** (average)"
   ]
  },
  {
   "cell_type": "code",
   "execution_count": null,
   "metadata": {
    "ExecuteTime": {
     "end_time": "2022-11-30T15:08:24.441205Z",
     "start_time": "2022-11-30T15:08:24.410292Z"
    },
    "id": "AcynTyq7CZH0",
    "outputId": "7954ea29-044e-49f2-8dc2-8f12fd6caeab",
    "scrolled": true
   },
   "outputs": [],
   "source": [
    "# ratio scale data\n",
    "df[['age', 'sibsp', 'parch', 'fare','survived']].groupby('survived')\\\n",
    "                                                      .agg(['mean', 'median',\n",
    "                                                            'std'])"
   ]
  },
  {
   "cell_type": "markdown",
   "metadata": {
    "id": "4rWMGR1hCZH1"
   },
   "source": [
    "We can see from the centred measures that:\n",
    "1. Age - there is no noticable difference\n",
    "2. Number of siblings/spouses aboard - mean is larger in those who didn't survive, however distributaion is skewed\n",
    "3. Number of parents/children aboard - mean is much larger in those who survived, however distributaion is skewed"
   ]
  },
  {
   "cell_type": "markdown",
   "metadata": {
    "id": "WV3D0ICcCZH1"
   },
   "source": [
    "Let's put the data on a plot:"
   ]
  },
  {
   "cell_type": "code",
   "execution_count": null,
   "metadata": {
    "ExecuteTime": {
     "end_time": "2022-11-30T15:08:25.425586Z",
     "start_time": "2022-11-30T15:08:24.443202Z"
    },
    "id": "dfAlLgWpCZH1",
    "outputId": "439d4b56-29e4-4468-85b1-5ebf61bd4d47"
   },
   "outputs": [],
   "source": [
    "NUM_FEATS = ['age', 'sibsp', 'parch', 'fare']\n",
    "\n",
    "for num_feat in NUM_FEATS:\n",
    "    if num_feat not in ['sibsp', 'parch']:\n",
    "        df.groupby('survived')[num_feat].plot(kind='kde', figsize=(7, 3))\n",
    "        plt.xlim(0, )\n",
    "    else:\n",
    "        sns.countplot(x=num_feat, hue=\"survived\", data=df)\n",
    "\n",
    "    plt.legend(loc = 'upper right')\n",
    "    plt.title(num_feat + ' density by survived')\n",
    "    plt.xlabel(num_feat)\n",
    "    plt.show()"
   ]
  },
  {
   "cell_type": "markdown",
   "metadata": {
    "id": "AIahPluXCZH2"
   },
   "source": [
    "### Inter-correlations between independent features"
   ]
  },
  {
   "cell_type": "markdown",
   "metadata": {
    "id": "Z839G18QCZH2"
   },
   "source": [
    "Another important thing, is looking at the inner correlations between our features. We won't get into why now, but it will have significance in the future. Moreover, it is interesting to check if our assumptions of the data are met, and find patterns in the data.\n",
    "\n",
    "We will again divide the plot according to the data types."
   ]
  },
  {
   "cell_type": "markdown",
   "metadata": {
    "id": "wDr98d3hCZH2"
   },
   "source": [
    "#### Continuous vs. continuous features (discrete if you have enough unique values)\n",
    "\n",
    "One thing we can do, in order to show an overview of the correlations between the **numerical features**, is the correlation matrix. The default presents the pearson correlation, but we can change it to a spearman correlation for example:\n",
    "\n",
    "<div class=\"alert alert-warning\"><b>Note:</b> We will NOT be using ordinal features in the pearson correlation matrix. You CAN however include them if you are using the <i>Spearman</i> correlation. Please DO NOT include binary / nominal features in the correlation matrix.</div>\n",
    "\n"
   ]
  },
  {
   "cell_type": "code",
   "execution_count": null,
   "metadata": {
    "ExecuteTime": {
     "end_time": "2022-11-30T15:08:25.441501Z",
     "start_time": "2022-11-30T15:08:25.427535Z"
    },
    "id": "tZ5GiaabCZH2",
    "outputId": "12a6021e-2439-40db-e7e3-84ceda19e6d0"
   },
   "outputs": [],
   "source": [
    "df[NUM_FEATS].corr()"
   ]
  },
  {
   "cell_type": "markdown",
   "metadata": {
    "id": "h5eLtB_zCZH2"
   },
   "source": [
    "We can also add color if we want:"
   ]
  },
  {
   "cell_type": "code",
   "execution_count": null,
   "metadata": {
    "ExecuteTime": {
     "end_time": "2022-11-30T15:08:26.201483Z",
     "start_time": "2022-11-30T15:08:25.444526Z"
    },
    "id": "XonZmVORCZH2",
    "outputId": "f4332d69-f68f-4e7a-e1ec-b2e819524159"
   },
   "outputs": [],
   "source": [
    "def color_map(val):\n",
    "    color = 'red' if abs(float(val)) < 0.16 else 'green' \\\n",
    "    if abs(float(val)) > 0.4  else 'black'\n",
    "    return 'color: %s' % color\n",
    "\n",
    "corr = df[NUM_FEATS].corr()\n",
    "df_styled = corr.style.applymap(color_map)\n",
    "df_styled"
   ]
  },
  {
   "cell_type": "markdown",
   "metadata": {
    "id": "9CsOdEeFCZH3"
   },
   "source": [
    "A nicer view can be created using seaborn:"
   ]
  },
  {
   "cell_type": "code",
   "execution_count": null,
   "metadata": {
    "ExecuteTime": {
     "end_time": "2022-11-30T15:08:26.407965Z",
     "start_time": "2022-11-30T15:08:26.204466Z"
    },
    "id": "HxMBAaI_CZH3",
    "outputId": "ad40e1a7-fb99-4182-a7be-c9074c160d4f"
   },
   "outputs": [],
   "source": [
    "mask = np.tril(np.ones_like(corr, dtype=bool))\n",
    "ax = sns.heatmap(corr,\n",
    "                 annot=True,\n",
    "                 fmt=\".2f\",\n",
    "                 mask = mask, square = True)\n",
    "plt.title('Correlation with Pearson');"
   ]
  },
  {
   "cell_type": "code",
   "execution_count": null,
   "metadata": {
    "ExecuteTime": {
     "end_time": "2022-11-30T15:08:26.662290Z",
     "start_time": "2022-11-30T15:08:26.409918Z"
    },
    "id": "MQEoNO-0CZH3",
    "outputId": "3fb4667f-02ac-47c3-e6af-146d54a7802a"
   },
   "outputs": [],
   "source": [
    "df_corr_spearman = df[NUM_FEATS+CAT_FEATS+['survived']].corr(method='spearman')\n",
    "mask = np.tril(np.ones_like(df_corr_spearman, dtype=bool))\n",
    "ax = sns.heatmap(df_corr_spearman,\n",
    "                 annot=True,\n",
    "                 fmt=\".2f\",\n",
    "                 mask = mask, square = True)\n",
    "plt.title('Correlation with Spearman');"
   ]
  },
  {
   "cell_type": "markdown",
   "metadata": {
    "id": "CL1ZKeFiCZH3"
   },
   "source": [
    "Example of a BAD plot:"
   ]
  },
  {
   "cell_type": "code",
   "execution_count": null,
   "metadata": {
    "ExecuteTime": {
     "end_time": "2022-11-30T15:08:27.042234Z",
     "start_time": "2022-11-30T15:08:26.664242Z"
    },
    "id": "xb2B4oLQCZH3",
    "outputId": "d6c7ddb0-b4f6-473e-fd89-7bf478bc9577"
   },
   "outputs": [],
   "source": [
    "mask = np.tril(np.ones_like(df[NUM_FEATS+CAT_FEATS+['survived']].corr(), dtype=bool))\n",
    "plt.figure(facecolor='xkcd:light red')\n",
    "ax = sns.heatmap(df[NUM_FEATS+CAT_FEATS+['survived']].corr(),\n",
    "                 annot=True,\n",
    "                 fmt=\".2f\",\n",
    "                 mask = mask, square = True)\n",
    "plt.title('Correlation with Pearson');"
   ]
  },
  {
   "cell_type": "markdown",
   "metadata": {
    "id": "8vyAFkv5CZH3"
   },
   "source": [
    "We can also see the relations more graphically:"
   ]
  },
  {
   "cell_type": "code",
   "execution_count": null,
   "metadata": {
    "ExecuteTime": {
     "end_time": "2022-11-30T15:08:28.606111Z",
     "start_time": "2022-11-30T15:08:27.045226Z"
    },
    "id": "Ez3rnvu9CZH3",
    "outputId": "bf16dda9-f827-4503-bc6e-42a5e14dcdb5"
   },
   "outputs": [],
   "source": [
    "p = sns.jointplot(x=\"age\", y=\"fare\", data=df, kind='reg')\n",
    "p.fig.suptitle(\"Age vs. Fare Distribution\")\n",
    "p.fig.tight_layout()\n",
    "p.fig.subplots_adjust(top=0.92)"
   ]
  },
  {
   "cell_type": "markdown",
   "metadata": {
    "id": "xBRwRffaCZH4"
   },
   "source": [
    "A quicker but more time consuming way to plot a visual correlation matrix:"
   ]
  },
  {
   "cell_type": "code",
   "execution_count": null,
   "metadata": {
    "ExecuteTime": {
     "end_time": "2022-11-30T15:08:34.100434Z",
     "start_time": "2022-11-30T15:08:28.607108Z"
    },
    "id": "_RP6-fNfCZH4",
    "outputId": "f20c6681-8109-43d2-d682-45a0cc8beec1"
   },
   "outputs": [],
   "source": [
    "np.seterr(divide='ignore', invalid='ignore')\n",
    "\n",
    "sns.pairplot(df[['age', 'fare', 'survived', 'sibsp']].dropna(),\n",
    "             hue='survived', height=2.5, diag_kws={'bw_method': 1});"
   ]
  },
  {
   "cell_type": "markdown",
   "metadata": {
    "id": "4v0_llO2CZH4"
   },
   "source": [
    "#### Continuous vs. categorical features in the titanic dataset (can also be used for discrete if you have enough values)"
   ]
  },
  {
   "cell_type": "code",
   "execution_count": null,
   "metadata": {
    "ExecuteTime": {
     "end_time": "2022-11-30T15:08:34.578161Z",
     "start_time": "2022-11-30T15:08:34.102462Z"
    },
    "id": "z38hr-6TCZH4",
    "outputId": "99491f75-94c9-4a5b-d58c-8337beb6babb"
   },
   "outputs": [],
   "source": [
    "sns.kdeplot(data=df, x=\"fare\", hue=\"pclass\",\n",
    "            palette=sns.color_palette(\"bright\")[:len(set(df['pclass']))])\n",
    "plt.title('Fare Density by Pclass');"
   ]
  },
  {
   "cell_type": "code",
   "execution_count": null,
   "metadata": {
    "ExecuteTime": {
     "end_time": "2022-11-30T15:08:35.054931Z",
     "start_time": "2022-11-30T15:08:34.580157Z"
    },
    "id": "kEjimDC7CZH4",
    "outputId": "88526021-78c0-4584-9071-7a39900eaabd"
   },
   "outputs": [],
   "source": [
    "with sns.axes_style(style='ticks'):\n",
    "    g = sns.catplot(x=\"age\", y=\"embarked\", hue=\"survived\", data=df, kind=\"box\")\n",
    "    g.set_axis_labels(\"age\", \"embarked\")\n",
    "    plt.title('Box plot of survivors distribution by age by embarked\\n', \\\n",
    "              fontdict = {'size':20});"
   ]
  },
  {
   "cell_type": "markdown",
   "metadata": {
    "id": "gX8nafgcCZH5"
   },
   "source": [
    "We can see that the `embark` and `age` columns are not corelated, but that there is a non linear connection between `age` and `survived`, and `embarked` and `survived`.\n"
   ]
  },
  {
   "cell_type": "markdown",
   "metadata": {
    "id": "LhD-eFpGCZH5"
   },
   "source": [
    "#### Categorical vs. categorical features in the titanic dataset"
   ]
  },
  {
   "cell_type": "code",
   "execution_count": null,
   "metadata": {
    "ExecuteTime": {
     "end_time": "2022-11-30T15:08:35.453870Z",
     "start_time": "2022-11-30T15:08:35.056886Z"
    },
    "id": "TSrdUDGXCZH5",
    "outputId": "cf5e8998-888b-48e9-c2a7-94dc7f8695ad"
   },
   "outputs": [],
   "source": [
    "data_embarked_vs_sex = pd.DataFrame(pd.crosstab(df['embarked'],df['sex']).\\\n",
    "                    apply(lambda r: round(r/r.sum(),2), axis=1).unstack()).\\\n",
    "                    reset_index()\n",
    "\n",
    "ax = sns.barplot(x = \"embarked\",  y = data_embarked_vs_sex[0], hue = \"sex\",\n",
    "                 data=data_embarked_vs_sex)\n",
    "plt.title('Normalzied Distribution of embarked vs. sex')\n",
    "plt.show()\n",
    "sns.countplot(x = \"embarked\",  hue = \"sex\", data=df)\n",
    "plt.title('Distribution of embarked vs. sex');"
   ]
  },
  {
   "cell_type": "code",
   "execution_count": null,
   "metadata": {
    "ExecuteTime": {
     "end_time": "2022-11-30T15:08:35.834813Z",
     "start_time": "2022-11-30T15:08:35.455823Z"
    },
    "id": "bMq9LDb2CZH5",
    "outputId": "090d54b6-699b-4e2a-f24b-fa088f755e3b"
   },
   "outputs": [],
   "source": [
    "data_pclass_vs_sex = pd.DataFrame(pd.crosstab(df['pclass'],df['sex']).\\\n",
    "                    apply(lambda r: round(r/r.sum(),2), axis=1).unstack()).\\\n",
    "                    reset_index()\n",
    "ax = sns.barplot(x = \"pclass\",  y = data_pclass_vs_sex[0], hue = \"sex\",\n",
    "                 data=data_pclass_vs_sex)\n",
    "plt.title('Normalzied Distribution of pclass vs. sex')\n",
    "plt.show()\n",
    "sns.countplot(x = \"pclass\",  hue = \"sex\", data=df)\n",
    "plt.title('Distribution of pclass vs. sex');"
   ]
  },
  {
   "cell_type": "markdown",
   "metadata": {
    "id": "LZEKg4wFCZH5"
   },
   "source": [
    "# Feature Extraction"
   ]
  },
  {
   "cell_type": "markdown",
   "metadata": {
    "id": "9Dj6hNqtCZH6"
   },
   "source": [
    "We can sometimes make more out of our features. Some features do not make sense to use \"as is\", some features could use combining with others.\n",
    "\n",
    "Can you think of some options?\n",
    "\n",
    "Here is one:\n",
    "\n",
    "The name feature has no meaning on it's own, since we are looking at a statistical model. However, maybe the number of letters in the name can help us? Maybe the longer the name. the more upper-class they are in society? Maybe vice-versa?"
   ]
  },
  {
   "cell_type": "code",
   "execution_count": 70,
   "metadata": {
    "ExecuteTime": {
     "end_time": "2022-11-30T15:08:35.850770Z",
     "start_time": "2022-11-30T15:08:35.837805Z"
    },
    "id": "Zx3NR3trCZH6"
   },
   "outputs": [],
   "source": [
    "df['name_length_in_c'] = [len(x) for x in df['name']]"
   ]
  },
  {
   "cell_type": "code",
   "execution_count": 71,
   "metadata": {
    "ExecuteTime": {
     "end_time": "2022-11-30T15:08:37.484432Z",
     "start_time": "2022-11-30T15:08:35.853766Z"
    },
    "id": "3SJTGjv5CZH6",
    "outputId": "7fc94ae5-bb7c-4d56-ac7f-1d6e01deba2d"
   },
   "outputs": [
    {
     "data": {
      "image/png": "[encoded data removed]",
      "text/plain": [
       "<Figure size 600x600 with 3 Axes>"
      ]
     },
     "metadata": {},
     "output_type": "display_data"
    }
   ],
   "source": [
    "p = sns.jointplot(x=\"name_length_in_c\", y=\"fare\", data=df, kind='reg')\n",
    "p.fig.suptitle(\"name_length_in_c vs. Fare Distribution\")\n",
    "p.fig.tight_layout()\n",
    "p.fig.subplots_adjust(top=0.92)"
   ]
  },
  {
   "cell_type": "code",
   "execution_count": 72,
   "metadata": {
    "ExecuteTime": {
     "end_time": "2022-11-30T15:08:37.707874Z",
     "start_time": "2022-11-30T15:08:37.486428Z"
    },
    "id": "6h7X2tAVCZH6",
    "outputId": "4626f2df-a8ba-40c3-e5ac-cfc01b4c6e15"
   },
   "outputs": [
    {
     "data": {
      "image/png": "[encoded data removed]",
      "text/plain": [
       "<Figure size 640x480 with 1 Axes>"
      ]
     },
     "metadata": {},
     "output_type": "display_data"
    }
   ],
   "source": [
    "sns.boxplot(data = df, y=\"name_length_in_c\", x=\"survived\")\n",
    "plt.title(\"name_length_in_c vs. Survived\");"
   ]
  },
  {
   "cell_type": "code",
   "execution_count": 73,
   "metadata": {
    "ExecuteTime": {
     "end_time": "2022-11-30T15:08:37.914324Z",
     "start_time": "2022-11-30T15:08:37.710868Z"
    },
    "id": "58-2ElCDCZH6",
    "outputId": "28618563-487d-4ed8-f8df-647f5af0ac27"
   },
   "outputs": [
    {
     "data": {
      "image/png": "[encoded data removed]",
      "text/plain": [
       "<Figure size 640x480 with 1 Axes>"
      ]
     },
     "metadata": {},
     "output_type": "display_data"
    }
   ],
   "source": [
    "sns.boxplot(data = df, y=\"name_length_in_c\", x=\"pclass\")\n",
    "plt.title(\"name_length_in_c vs. pclass\");"
   ]
  },
  {
   "cell_type": "markdown",
   "metadata": {
    "id": "3Ba-TxLuCZH6"
   },
   "source": [
    "We can see a small correlation with the `fare`, a clear correlation with `survived` which is super interesting, and a clear negative correlation with `pclass`, which verifies our assumption."
   ]
  },
  {
   "cell_type": "markdown",
   "metadata": {
    "id": "BRdrLFsgCZH6"
   },
   "source": [
    "## Exercise - For submission TODAY (Core)\n",
    "\n",
    "1. Take the time to create 3 additional features.\n",
    "\n",
    "2. Plot their distribution and give some summary statistics - mean, median and more (think of a function that does this)\n",
    "\n",
    "3. How are they correlated to other features that exist in the DataFrame? What is theit relation with the dependent variable?\n",
    "\n",
    "4. Are they categorical (nominal / ordinal) / numerical (discrete / continuous) features?\n",
    "\n",
    "5. What was your logic behind adding these features?"
   ]
  },
  {
   "cell_type": "code",
   "execution_count": 88,
   "metadata": {},
   "outputs": [],
   "source": [
    "# 1\n",
    "\n",
    "df['family_size'] = df['sibsp'] + df['parch'] + 1\n",
    "df['alone'] = [1 if size == 1 else 0 for size in df['family_size']]\n",
    "df['fare_per_person'] = df['fare'] / df['family_size']\n",
    "\n"
   ]
  },
  {
   "cell_type": "code",
   "execution_count": 95,
   "metadata": {},
   "outputs": [
    {
     "data": {
      "image/png": "[encoded data removed]",
      "text/plain": [
       "<Figure size 800x600 with 1 Axes>"
      ]
     },
     "metadata": {},
     "output_type": "display_data"
    },
    {
     "name": "stdout",
     "output_type": "stream",
     "text": [
      "Summary Statistics for 'family_size':\n",
      "Mean: 1.8838808250572956\n",
      "Median: 1.0\n",
      "Min: 1\n",
      "Max: 11\n",
      "Std Dev: 1.5836390865436092\n"
     ]
    },
    {
     "data": {
      "image/png": "[encoded data removed]",
      "text/plain": [
       "<Figure size 800x600 with 1 Axes>"
      ]
     },
     "metadata": {},
     "output_type": "display_data"
    },
    {
     "name": "stdout",
     "output_type": "stream",
     "text": [
      "Summary Statistics for 'alone':\n",
      "Mean: 0.6035141329258976\n",
      "Median: 1.0\n",
      "Min: 0\n",
      "Max: 1\n",
      "Std Dev: 0.48935443571373405\n"
     ]
    },
    {
     "data": {
      "image/png": "[encoded data removed]",
      "text/plain": [
       "<Figure size 800x600 with 1 Axes>"
      ]
     },
     "metadata": {},
     "output_type": "display_data"
    },
    {
     "name": "stdout",
     "output_type": "stream",
     "text": [
      "Summary Statistics for 'fare_per_person':\n",
      "Mean: 20.51821514307558\n",
      "Median: 8.512483333333332\n",
      "Min: 0.0\n",
      "Max: 512.3292\n",
      "Std Dev: 35.77433689384249\n"
     ]
    }
   ],
   "source": [
    "# 2\n",
    "\n",
    "def plot_and_stats(df, column):\n",
    "    # Plot distribution\n",
    "    plt.figure(figsize=(8, 6))\n",
    "    sns.histplot(df[column], bins=20, kde=True)\n",
    "    plt.title(f'Distribution of {column}')\n",
    "    plt.xlabel(column)\n",
    "    plt.ylabel('Frequency')\n",
    "    plt.show()\n",
    "\n",
    "    # Summary statistics\n",
    "    summary = {\n",
    "        'Mean': df[column].mean(),\n",
    "        'Median': df[column].median(),\n",
    "        'Min': df[column].min(),\n",
    "        'Max': df[column].max(),\n",
    "        'Std Dev': df[column].std()\n",
    "    }\n",
    "    print(f\"Summary Statistics for '{column}':\")\n",
    "    for key, value in summary.items():\n",
    "        print(f\"{key}: {value}\")\n",
    "\n",
    "\n",
    "columns_to_analyze = ['family_size', 'alone', 'fare_per_person']\n",
    "for col in columns_to_analyze:\n",
    "    plot_and_stats(df, col)\n"
   ]
  },
  {
   "cell_type": "code",
   "execution_count": 101,
   "metadata": {},
   "outputs": [
    {
     "data": {
      "image/png": "[encoded data removed]",
      "text/plain": [
       "<Figure size 1200x500 with 3 Axes>"
      ]
     },
     "metadata": {},
     "output_type": "display_data"
    }
   ],
   "source": [
    "# 3\n",
    "\n",
    "plt.figure(figsize=(12, 5))plt.subplot(1, 3, 1)\n",
    "sns.barplot(x='survived', y='family_size', data=df, estimator=np.mean)\n",
    "plt.title('Survived vs Family Size')plt.subplot(1, 3, 2)\n",
    "sns.barplot(x='survived', y='alone', data=df, estimator=np.mean)\n",
    "plt.title('Survived vs Alone')\n",
    "\n",
    "plt.subplot(1, 3, 3)\n",
    "sns.barplot(x='survived', y='fare_per_person', data=df, estimator=np.mean)\n",
    "plt.title('Survived vs Fare per Person')\n",
    "\n",
    "plt.tight_layout()\n",
    "plt.show()\n"
   ]
  },
  {
   "cell_type": "markdown",
   "metadata": {},
   "source": [
    "Regarding the first feature, we can see that there is not such a correlation between the family size of a passenger and the fact that he survived or not. However, we can see that the passengers who went to the trip alone had a smaller chance of surviving compared to those who weren't alone. the last graph shows us, as we expected, that the people who paid a more expensive ticket per person had a bigger chance to survive. We could see that before with the correlation with the class of the passenger but that approves our hypothesis."
   ]
  },
  {
   "cell_type": "markdown",
   "metadata": {},
   "source": [
    "**4.**\n",
    "\n",
    "  We can consider the family_size feature as a numerical continuous feature since it can be bigger than 10.\n",
    "\n",
    "  Family Size:  We can consider this feature as a numerical continuous since it can be bigger than 10.\n",
    "\n",
    "  Alone: This feature is categorical and nominal. It's a binary indicator (1 or 0).\n",
    "\n",
    "  Fare per Person: This feature is numerical and continuous. It represents the fare paid by each individual."
   ]
  },
  {
   "cell_type": "markdown",
   "metadata": {},
   "source": [
    "**5.** \n",
    "\n",
    "I wanted to see if there is a correlation between the the number of people that each passenger came with or the fact that he came alone or not, that is why I added the features alone and family_size. Regarding the last feature added, we already had the feature fare but it was the total fare per family so I decided to divide it by the family size to actually see how much each passenger paid and see individual fares."
   ]
  },
  {
   "cell_type": "code",
   "execution_count": null,
   "metadata": {},
   "outputs": [],
   "source": []
  }
 ],
 "metadata": {
  "colab": {
   "provenance": []
  },
  "kernelspec": {
   "display_name": "Python 3 (ipykernel)",
   "language": "python",
   "name": "python3"
  },
  "language_info": {
   "codemirror_mode": {
    "name": "ipython",
    "version": 3
   },
   "file_extension": ".py",
   "mimetype": "text/x-python",
   "name": "python",
   "nbconvert_exporter": "python",
   "pygments_lexer": "ipython3",
   "version": "3.12.1"
  },
  "latex_envs": {
   "LaTeX_envs_menu_present": true,
   "autoclose": false,
   "autocomplete": true,
   "bibliofile": "biblio.bib",
   "cite_by": "apalike",
   "current_citInitial": 1,
   "eqLabelWithNumbers": true,
   "eqNumInitial": 1,
   "hotkeys": {
    "equation": "Ctrl-E",
    "itemize": "Ctrl-I"
   },
   "labels_anchors": false,
   "latex_user_defs": false,
   "report_style_numbering": false,
   "user_envs_cfg": false
  },
  "toc": {
   "base_numbering": 1,
   "nav_menu": {},
   "number_sections": true,
   "sideBar": true,
   "skip_h1_title": false,
   "title_cell": "Table of Contents",
   "title_sidebar": "Contents",
   "toc_cell": false,
   "toc_position": {},
   "toc_section_display": true,
   "toc_window_display": false
  }
 },
 "nbformat": 4,
 "nbformat_minor": 4
}
